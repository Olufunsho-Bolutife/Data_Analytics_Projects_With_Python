{
 "cells": [
  {
   "cell_type": "markdown",
   "metadata": {},
   "source": [
    "\n",
    "# Project: Investigate a Dataset - [No-Show Appointments]\n",
    "\n",
    "## Table of Contents\n",
    "<ul>\n",
    "<li><a href=\"#intro\">Introduction</a></li>\n",
    "<li><a href=\"#wrangling\">Data Wrangling</a></li>\n",
    "<li><a href=\"#eda\">Exploratory Data Analysis</a></li>\n",
    "<li><a href=\"#conclusions\">Conclusions</a></li>\n",
    "</ul>"
   ]
  },
  {
   "cell_type": "markdown",
   "metadata": {},
   "source": [
    "<a id='intro'></a>\n",
    "## Introduction\n",
    "\n",
    "### Dataset Description\n",
    "\n",
    "**Sometimes people have health complications and make medical appointments for diagnosis and possible treatment, they are given all the necessry instructions and are given a date to come for the appointment but at the end of the day, they do not show up, Why so?**\n",
    "\n",
    "**This dataset collects information from over 110k medical appointments in Brazil and is focused on the question of whether or not patients show up for their appointment. A number of characteristics about the patient are included in each row.**\n",
    "\n",
    "**We intend to explore this dataset and try to come up with an assumption as to why some patients make Medical appointments and not show up for the appointments**\n",
    "\n",
    "**The Dataset contains 110,527 entries (rows) and 14 variables(columns) Below are the variables and  what they represent**\n",
    "\n",
    "| Variable\t| Description |\n",
    "|:---: | :---:| \n",
    "|PatientID | Combinations of numbers to identify a Patient |\n",
    "|AppointmentID |  Combinations of numbers to identify a Patient's apointment|\n",
    "|Gender | The Patient's gender (M - Male , F - Female)|\n",
    "|ScheduledDay | The day the Patient Scheduled his Appointment|\n",
    "|AppointmentDay | The Actual Day of Patient's appointment|\n",
    "|Age | Patient's Age |\n",
    "|Neighbourhood| The Neighbourhood where the Appointments takes place|\n",
    "|Scholarship | Whether or not a patient is enrolled in the Brazilian Welfare Program `Bolsa Familia` [1 - True , 0 - False] |\n",
    "|Hipertension | Whether or not the patient is hipertensive [1 - True , 0 - False] |\n",
    "|Diabetes | Whether or not the patient is diabetic [1 - True , 0 - False] |\n",
    "|Alcoholism |Whether or not the patient is an alcoholic  [1 - True , 0 - False] |\n",
    "|Handcap| Whether or not the patient is Handicapped [1 - True , 0 - False] |\n",
    "|SMS_received| Whether or not the patient received a SMS reminding him/her of his appointment  [1 - True , 0 - False] |\n",
    "|No-show| Whether or not the patient showed up eventually for the appointment [No - 'showed up',  Yes - 'Did not show up'] |\n",
    "\n",
    "\n",
    "### Questions for Analysis\n",
    "\n",
    "    1. Does the number of days of waiting affect showing up ?\n",
    "\t2. Does Patients age affect showing up?\n",
    "\t3. Does being handicapped affect  showing up or not ?\n",
    "\t4. Does being Diabetic affect  showing up or not ? \n",
    "\t5. Does being Alcoholic affect  showing up or not ?\n",
    "\t6. Does being Hipertensive affect  showing  up or not ?\n",
    "\t7. Does enrollment in scholarship affect showing up for appointment?\n",
    "\t8. Which category of people showed up the most among those who received SMS and those who did not?\n",
    "\t9. What is the average waiting days for those who received sms and those who did not \n",
    "\t10.What are the top 5 neighbourhood in which the most appointment show up was recorded ?\n",
    "\t11.Are the Health scholarship distributed evenly between Males and Females ?"
   ]
  },
  {
   "cell_type": "code",
   "execution_count": 540,
   "metadata": {},
   "outputs": [],
   "source": [
    "#import all libraries needed\n",
    "import pandas as pd\n",
    "import numpy as np\n",
    "import matplotlib.pyplot as plt\n",
    "import seaborn as sns\n",
    "%matplotlib inline"
   ]
  },
  {
   "cell_type": "code",
   "execution_count": null,
   "metadata": {},
   "outputs": [],
   "source": [
    "# Upgrade pandas to use dataframe.explode() function. \n",
    "!pip install --upgrade pandas==0.25.0"
   ]
  },
  {
   "cell_type": "markdown",
   "metadata": {},
   "source": [
    "<a id='wrangling'></a>\n",
    "\n",
    "## Data Wrangling\n",
    "\n",
    "**In this section of the report, we will load in the data, check for cleanliness, and then trim and clean the dataset for analysis.**\n",
    "\n",
    "### Gathering Data"
   ]
  },
  {
   "cell_type": "code",
   "execution_count": 422,
   "metadata": {},
   "outputs": [],
   "source": [
    "#loading the data into the notebook\n",
    "df = pd.read_csv('no_show_appointments.csv')"
   ]
  },
  {
   "cell_type": "code",
   "execution_count": 423,
   "metadata": {},
   "outputs": [
    {
     "data": {
      "text/html": [
       "<div>\n",
       "<style scoped>\n",
       "    .dataframe tbody tr th:only-of-type {\n",
       "        vertical-align: middle;\n",
       "    }\n",
       "\n",
       "    .dataframe tbody tr th {\n",
       "        vertical-align: top;\n",
       "    }\n",
       "\n",
       "    .dataframe thead th {\n",
       "        text-align: right;\n",
       "    }\n",
       "</style>\n",
       "<table border=\"1\" class=\"dataframe\">\n",
       "  <thead>\n",
       "    <tr style=\"text-align: right;\">\n",
       "      <th></th>\n",
       "      <th>PatientId</th>\n",
       "      <th>AppointmentID</th>\n",
       "      <th>Gender</th>\n",
       "      <th>ScheduledDay</th>\n",
       "      <th>AppointmentDay</th>\n",
       "      <th>Age</th>\n",
       "      <th>Neighbourhood</th>\n",
       "      <th>Scholarship</th>\n",
       "      <th>Hipertension</th>\n",
       "      <th>Diabetes</th>\n",
       "      <th>Alcoholism</th>\n",
       "      <th>Handcap</th>\n",
       "      <th>SMS_received</th>\n",
       "      <th>No-show</th>\n",
       "    </tr>\n",
       "  </thead>\n",
       "  <tbody>\n",
       "    <tr>\n",
       "      <th>0</th>\n",
       "      <td>2.987250e+13</td>\n",
       "      <td>5642903</td>\n",
       "      <td>F</td>\n",
       "      <td>2016-04-29T18:38:08Z</td>\n",
       "      <td>2016-04-29T00:00:00Z</td>\n",
       "      <td>62</td>\n",
       "      <td>JARDIM DA PENHA</td>\n",
       "      <td>0</td>\n",
       "      <td>1</td>\n",
       "      <td>0</td>\n",
       "      <td>0</td>\n",
       "      <td>0</td>\n",
       "      <td>0</td>\n",
       "      <td>No</td>\n",
       "    </tr>\n",
       "    <tr>\n",
       "      <th>1</th>\n",
       "      <td>5.589978e+14</td>\n",
       "      <td>5642503</td>\n",
       "      <td>M</td>\n",
       "      <td>2016-04-29T16:08:27Z</td>\n",
       "      <td>2016-04-29T00:00:00Z</td>\n",
       "      <td>56</td>\n",
       "      <td>JARDIM DA PENHA</td>\n",
       "      <td>0</td>\n",
       "      <td>0</td>\n",
       "      <td>0</td>\n",
       "      <td>0</td>\n",
       "      <td>0</td>\n",
       "      <td>0</td>\n",
       "      <td>No</td>\n",
       "    </tr>\n",
       "    <tr>\n",
       "      <th>2</th>\n",
       "      <td>4.262962e+12</td>\n",
       "      <td>5642549</td>\n",
       "      <td>F</td>\n",
       "      <td>2016-04-29T16:19:04Z</td>\n",
       "      <td>2016-04-29T00:00:00Z</td>\n",
       "      <td>62</td>\n",
       "      <td>MATA DA PRAIA</td>\n",
       "      <td>0</td>\n",
       "      <td>0</td>\n",
       "      <td>0</td>\n",
       "      <td>0</td>\n",
       "      <td>0</td>\n",
       "      <td>0</td>\n",
       "      <td>No</td>\n",
       "    </tr>\n",
       "    <tr>\n",
       "      <th>3</th>\n",
       "      <td>8.679512e+11</td>\n",
       "      <td>5642828</td>\n",
       "      <td>F</td>\n",
       "      <td>2016-04-29T17:29:31Z</td>\n",
       "      <td>2016-04-29T00:00:00Z</td>\n",
       "      <td>8</td>\n",
       "      <td>PONTAL DE CAMBURI</td>\n",
       "      <td>0</td>\n",
       "      <td>0</td>\n",
       "      <td>0</td>\n",
       "      <td>0</td>\n",
       "      <td>0</td>\n",
       "      <td>0</td>\n",
       "      <td>No</td>\n",
       "    </tr>\n",
       "    <tr>\n",
       "      <th>4</th>\n",
       "      <td>8.841186e+12</td>\n",
       "      <td>5642494</td>\n",
       "      <td>F</td>\n",
       "      <td>2016-04-29T16:07:23Z</td>\n",
       "      <td>2016-04-29T00:00:00Z</td>\n",
       "      <td>56</td>\n",
       "      <td>JARDIM DA PENHA</td>\n",
       "      <td>0</td>\n",
       "      <td>1</td>\n",
       "      <td>1</td>\n",
       "      <td>0</td>\n",
       "      <td>0</td>\n",
       "      <td>0</td>\n",
       "      <td>No</td>\n",
       "    </tr>\n",
       "  </tbody>\n",
       "</table>\n",
       "</div>"
      ],
      "text/plain": [
       "      PatientId  AppointmentID Gender          ScheduledDay  \\\n",
       "0  2.987250e+13        5642903      F  2016-04-29T18:38:08Z   \n",
       "1  5.589978e+14        5642503      M  2016-04-29T16:08:27Z   \n",
       "2  4.262962e+12        5642549      F  2016-04-29T16:19:04Z   \n",
       "3  8.679512e+11        5642828      F  2016-04-29T17:29:31Z   \n",
       "4  8.841186e+12        5642494      F  2016-04-29T16:07:23Z   \n",
       "\n",
       "         AppointmentDay  Age      Neighbourhood  Scholarship  Hipertension  \\\n",
       "0  2016-04-29T00:00:00Z   62    JARDIM DA PENHA            0             1   \n",
       "1  2016-04-29T00:00:00Z   56    JARDIM DA PENHA            0             0   \n",
       "2  2016-04-29T00:00:00Z   62      MATA DA PRAIA            0             0   \n",
       "3  2016-04-29T00:00:00Z    8  PONTAL DE CAMBURI            0             0   \n",
       "4  2016-04-29T00:00:00Z   56    JARDIM DA PENHA            0             1   \n",
       "\n",
       "   Diabetes  Alcoholism  Handcap  SMS_received No-show  \n",
       "0         0           0        0             0      No  \n",
       "1         0           0        0             0      No  \n",
       "2         0           0        0             0      No  \n",
       "3         0           0        0             0      No  \n",
       "4         1           0        0             0      No  "
      ]
     },
     "execution_count": 423,
     "metadata": {},
     "output_type": "execute_result"
    }
   ],
   "source": [
    "#checking through the first five rows just to have a look at our data and begin to take notes of cleanings to be done\n",
    "df.head()"
   ]
  },
  {
   "cell_type": "markdown",
   "metadata": {},
   "source": [
    " ### Accessing Data\n",
    "\n",
    " **In this section, we will check through our data for errors, duplicates, unique values and many other important details in the Dataset**"
   ]
  },
  {
   "cell_type": "code",
   "execution_count": 424,
   "metadata": {},
   "outputs": [
    {
     "name": "stdout",
     "output_type": "stream",
     "text": [
      "<class 'pandas.core.frame.DataFrame'>\n",
      "RangeIndex: 110527 entries, 0 to 110526\n",
      "Data columns (total 14 columns):\n",
      " #   Column          Non-Null Count   Dtype  \n",
      "---  ------          --------------   -----  \n",
      " 0   PatientId       110527 non-null  float64\n",
      " 1   AppointmentID   110527 non-null  int64  \n",
      " 2   Gender          110527 non-null  object \n",
      " 3   ScheduledDay    110527 non-null  object \n",
      " 4   AppointmentDay  110527 non-null  object \n",
      " 5   Age             110527 non-null  int64  \n",
      " 6   Neighbourhood   110527 non-null  object \n",
      " 7   Scholarship     110527 non-null  int64  \n",
      " 8   Hipertension    110527 non-null  int64  \n",
      " 9   Diabetes        110527 non-null  int64  \n",
      " 10  Alcoholism      110527 non-null  int64  \n",
      " 11  Handcap         110527 non-null  int64  \n",
      " 12  SMS_received    110527 non-null  int64  \n",
      " 13  No-show         110527 non-null  object \n",
      "dtypes: float64(1), int64(8), object(5)\n",
      "memory usage: 11.8+ MB\n"
     ]
    }
   ],
   "source": [
    "#to check info on the data\n",
    "df.info()"
   ]
  },
  {
   "cell_type": "markdown",
   "metadata": {},
   "source": [
    "**We can see from this output that all our headers are written in sentence case. It is best to have them all in small letters and in case of those that are seperated with space we replace with `_` although, there is no such header like that in this dataset, hence we wil stick to renaming all in small letter. We will address this during the cleaning phase. In addition to these, we  will  rename the `Handcap` column because it is spelt wrongly and finally rename the `No-Show` column name and replace `-` with `_`.**\n",
    "\n",
    "***Next, Let's have a look at our data types***"
   ]
  },
  {
   "cell_type": "code",
   "execution_count": 425,
   "metadata": {},
   "outputs": [
    {
     "data": {
      "text/plain": [
       "PatientId         float64\n",
       "AppointmentID       int64\n",
       "Gender             object\n",
       "ScheduledDay       object\n",
       "AppointmentDay     object\n",
       "Age                 int64\n",
       "Neighbourhood      object\n",
       "Scholarship         int64\n",
       "Hipertension        int64\n",
       "Diabetes            int64\n",
       "Alcoholism          int64\n",
       "Handcap             int64\n",
       "SMS_received        int64\n",
       "No-show            object\n",
       "dtype: object"
      ]
     },
     "execution_count": 425,
     "metadata": {},
     "output_type": "execute_result"
    }
   ],
   "source": [
    "#check the data types\n",
    "df.dtypes"
   ]
  },
  {
   "cell_type": "markdown",
   "metadata": {},
   "source": [
    "**The Patient and appointment ID Columns will not be needed in this study so we won't bother ourselves on their data types. Looking closely, all columns are formatted in the right type except for the `ScheduledDay` and the `AppointmentDay`.**\n",
    "\n",
    "**They are both supposed to be `datetime` so we will take note of that and address it as we go on with the project.**\n",
    "\n",
    "\n",
    "***Next, let's check for missing rows***"
   ]
  },
  {
   "cell_type": "code",
   "execution_count": 426,
   "metadata": {},
   "outputs": [
    {
     "data": {
      "text/plain": [
       "PatientId         0\n",
       "AppointmentID     0\n",
       "Gender            0\n",
       "ScheduledDay      0\n",
       "AppointmentDay    0\n",
       "Age               0\n",
       "Neighbourhood     0\n",
       "Scholarship       0\n",
       "Hipertension      0\n",
       "Diabetes          0\n",
       "Alcoholism        0\n",
       "Handcap           0\n",
       "SMS_received      0\n",
       "No-show           0\n",
       "dtype: int64"
      ]
     },
     "execution_count": 426,
     "metadata": {},
     "output_type": "execute_result"
    }
   ],
   "source": [
    "#check for null values in the dataset\n",
    "df.isnull().sum()"
   ]
  },
  {
   "cell_type": "markdown",
   "metadata": {},
   "source": [
    "**As we can see from above, there are no missing values at all in this dataset.**\n",
    "\n",
    "\n",
    "***Next, Let's check for duplicate values***"
   ]
  },
  {
   "cell_type": "code",
   "execution_count": 427,
   "metadata": {},
   "outputs": [
    {
     "data": {
      "text/plain": [
       "0"
      ]
     },
     "execution_count": 427,
     "metadata": {},
     "output_type": "execute_result"
    }
   ],
   "source": [
    "#check for duplicate rows\n",
    "df.duplicated().sum()"
   ]
  },
  {
   "cell_type": "markdown",
   "metadata": {},
   "source": [
    "**As we can see from above, there are no duplicate  rows at all in this dataset.**\n",
    "\n",
    "***Next, Let's check for unique values***"
   ]
  },
  {
   "cell_type": "code",
   "execution_count": 429,
   "metadata": {},
   "outputs": [
    {
     "data": {
      "text/plain": [
       "PatientId          62299\n",
       "AppointmentID     110527\n",
       "Gender                 2\n",
       "ScheduledDay      103549\n",
       "AppointmentDay        27\n",
       "Age                  104\n",
       "Neighbourhood         81\n",
       "Scholarship            2\n",
       "Hipertension           2\n",
       "Diabetes               2\n",
       "Alcoholism             2\n",
       "Handcap                5\n",
       "SMS_received           2\n",
       "No-show                2\n",
       "dtype: int64"
      ]
     },
     "execution_count": 429,
     "metadata": {},
     "output_type": "execute_result"
    }
   ],
   "source": [
    "#check for the unique values in each column\n",
    "df.nunique()"
   ]
  },
  {
   "cell_type": "markdown",
   "metadata": {},
   "source": [
    "**As we can see from the table above, there are fewer `PatientID` than `appointmentID`, which means that some patients (roughly `50,000`) made appointments more than once, and since there are no duplicate values, those `50,000` were either patients who missed their initial appointment and had to make another, or patients who made additional appointments for reasons other than their initial appointments.**\n",
    "\n",
    "**We can see that appointments were made in hospitals located in `81` unique neigborhoods**\n",
    "\n",
    "\n",
    "***Lastly, we see an error in the number of unique values we have for the `handicap` column.***\n",
    "\n",
    "\n",
    "**A patient is either handicapped or not, hence the values for that column should be `0` (for those who are not) and `1` (for those who are) However, we can see `5` values here. Let's take a closer look at these other values.**"
   ]
  },
  {
   "cell_type": "code",
   "execution_count": 430,
   "metadata": {},
   "outputs": [
    {
     "data": {
      "text/plain": [
       "array([0, 1, 2, 3, 4], dtype=int64)"
      ]
     },
     "execution_count": 430,
     "metadata": {},
     "output_type": "execute_result"
    }
   ],
   "source": [
    "#to check for the unique values in the Hanicap column\n",
    "df.Handcap.unique()"
   ]
  },
  {
   "cell_type": "markdown",
   "metadata": {},
   "source": [
    "**We can see that we have `2`, `3`, `4` in that column which is not meant to be so. We will take note of this so that when we are cleaning, we will address this too.**\n",
    "\n",
    "**Finaly, let's check the shape of the dataset before we proceed to cleaning the data**"
   ]
  },
  {
   "cell_type": "code",
   "execution_count": 431,
   "metadata": {},
   "outputs": [
    {
     "data": {
      "text/plain": [
       "(110527, 14)"
      ]
     },
     "execution_count": 431,
     "metadata": {},
     "output_type": "execute_result"
    }
   ],
   "source": [
    "#to see the shape of the dataset\n",
    "df.shape"
   ]
  },
  {
   "cell_type": "markdown",
   "metadata": {},
   "source": [
    "**We are able to see that this data contains 110,527 entries (rows) and 14 Variables (columns). At intervals, we will be checking the shape of this data frame so that we know how the analysis is progressing.**"
   ]
  },
  {
   "cell_type": "markdown",
   "metadata": {},
   "source": [
    "\n",
    "### Data Cleaning\n",
    "\n",
    "\n",
    "**In this phase, we shall be performing Data Cleaning. We shall be deleting some unnecesary columns, doing some renaming, fxing the issue of the unique values found in the `Handcap` column, change the data types that needs to be fixed, and other errors we have noticed or might come accross.**\n",
    "\n",
    "**let's begin with dropping columns we do not need (`AppointmentID` and `PatientID`)**\n",
    " "
   ]
  },
  {
   "cell_type": "code",
   "execution_count": 432,
   "metadata": {},
   "outputs": [],
   "source": [
    "#to drop the AppointmentID and PatientID columns\n",
    "df.drop(columns=['AppointmentID', 'PatientId'],axis=1, inplace=True)"
   ]
  },
  {
   "cell_type": "code",
   "execution_count": 433,
   "metadata": {},
   "outputs": [
    {
     "data": {
      "text/html": [
       "<div>\n",
       "<style scoped>\n",
       "    .dataframe tbody tr th:only-of-type {\n",
       "        vertical-align: middle;\n",
       "    }\n",
       "\n",
       "    .dataframe tbody tr th {\n",
       "        vertical-align: top;\n",
       "    }\n",
       "\n",
       "    .dataframe thead th {\n",
       "        text-align: right;\n",
       "    }\n",
       "</style>\n",
       "<table border=\"1\" class=\"dataframe\">\n",
       "  <thead>\n",
       "    <tr style=\"text-align: right;\">\n",
       "      <th></th>\n",
       "      <th>Gender</th>\n",
       "      <th>ScheduledDay</th>\n",
       "      <th>AppointmentDay</th>\n",
       "      <th>Age</th>\n",
       "      <th>Neighbourhood</th>\n",
       "      <th>Scholarship</th>\n",
       "      <th>Hipertension</th>\n",
       "      <th>Diabetes</th>\n",
       "      <th>Alcoholism</th>\n",
       "      <th>Handcap</th>\n",
       "      <th>SMS_received</th>\n",
       "      <th>No-show</th>\n",
       "    </tr>\n",
       "  </thead>\n",
       "  <tbody>\n",
       "    <tr>\n",
       "      <th>0</th>\n",
       "      <td>F</td>\n",
       "      <td>2016-04-29T18:38:08Z</td>\n",
       "      <td>2016-04-29T00:00:00Z</td>\n",
       "      <td>62</td>\n",
       "      <td>JARDIM DA PENHA</td>\n",
       "      <td>0</td>\n",
       "      <td>1</td>\n",
       "      <td>0</td>\n",
       "      <td>0</td>\n",
       "      <td>0</td>\n",
       "      <td>0</td>\n",
       "      <td>No</td>\n",
       "    </tr>\n",
       "    <tr>\n",
       "      <th>1</th>\n",
       "      <td>M</td>\n",
       "      <td>2016-04-29T16:08:27Z</td>\n",
       "      <td>2016-04-29T00:00:00Z</td>\n",
       "      <td>56</td>\n",
       "      <td>JARDIM DA PENHA</td>\n",
       "      <td>0</td>\n",
       "      <td>0</td>\n",
       "      <td>0</td>\n",
       "      <td>0</td>\n",
       "      <td>0</td>\n",
       "      <td>0</td>\n",
       "      <td>No</td>\n",
       "    </tr>\n",
       "  </tbody>\n",
       "</table>\n",
       "</div>"
      ],
      "text/plain": [
       "  Gender          ScheduledDay        AppointmentDay  Age    Neighbourhood  \\\n",
       "0      F  2016-04-29T18:38:08Z  2016-04-29T00:00:00Z   62  JARDIM DA PENHA   \n",
       "1      M  2016-04-29T16:08:27Z  2016-04-29T00:00:00Z   56  JARDIM DA PENHA   \n",
       "\n",
       "   Scholarship  Hipertension  Diabetes  Alcoholism  Handcap  SMS_received  \\\n",
       "0            0             1         0           0        0             0   \n",
       "1            0             0         0           0        0             0   \n",
       "\n",
       "  No-show  \n",
       "0      No  \n",
       "1      No  "
      ]
     },
     "execution_count": 433,
     "metadata": {},
     "output_type": "execute_result"
    }
   ],
   "source": [
    "#confirm the drop\n",
    "df.head(2)"
   ]
  },
  {
   "cell_type": "code",
   "execution_count": 434,
   "metadata": {},
   "outputs": [
    {
     "data": {
      "text/plain": [
       "(110527, 12)"
      ]
     },
     "execution_count": 434,
     "metadata": {},
     "output_type": "execute_result"
    }
   ],
   "source": [
    "#check shape again\n",
    "df.shape"
   ]
  },
  {
   "cell_type": "markdown",
   "metadata": {},
   "source": [
    "**First step complete, we have succesfully deleted the `AppointmentID` and `PatientID` columns because we dont need them.**\n",
    "\n",
    "**Next, we move on to rename `Handcap` column to `Handicap`**"
   ]
  },
  {
   "cell_type": "code",
   "execution_count": 435,
   "metadata": {},
   "outputs": [],
   "source": [
    "#rename column name fron Handcap to Handicap\n",
    "df = df.rename(columns = {'Handcap' : 'Handicap'})"
   ]
  },
  {
   "cell_type": "code",
   "execution_count": 436,
   "metadata": {},
   "outputs": [
    {
     "data": {
      "text/html": [
       "<div>\n",
       "<style scoped>\n",
       "    .dataframe tbody tr th:only-of-type {\n",
       "        vertical-align: middle;\n",
       "    }\n",
       "\n",
       "    .dataframe tbody tr th {\n",
       "        vertical-align: top;\n",
       "    }\n",
       "\n",
       "    .dataframe thead th {\n",
       "        text-align: right;\n",
       "    }\n",
       "</style>\n",
       "<table border=\"1\" class=\"dataframe\">\n",
       "  <thead>\n",
       "    <tr style=\"text-align: right;\">\n",
       "      <th></th>\n",
       "      <th>Gender</th>\n",
       "      <th>ScheduledDay</th>\n",
       "      <th>AppointmentDay</th>\n",
       "      <th>Age</th>\n",
       "      <th>Neighbourhood</th>\n",
       "      <th>Scholarship</th>\n",
       "      <th>Hipertension</th>\n",
       "      <th>Diabetes</th>\n",
       "      <th>Alcoholism</th>\n",
       "      <th>Handicap</th>\n",
       "      <th>SMS_received</th>\n",
       "      <th>No-show</th>\n",
       "    </tr>\n",
       "  </thead>\n",
       "  <tbody>\n",
       "  </tbody>\n",
       "</table>\n",
       "</div>"
      ],
      "text/plain": [
       "Empty DataFrame\n",
       "Columns: [Gender, ScheduledDay, AppointmentDay, Age, Neighbourhood, Scholarship, Hipertension, Diabetes, Alcoholism, Handicap, SMS_received, No-show]\n",
       "Index: []"
      ]
     },
     "execution_count": 436,
     "metadata": {},
     "output_type": "execute_result"
    }
   ],
   "source": [
    "#confirm the renaming\n",
    "df.head(0)"
   ]
  },
  {
   "cell_type": "markdown",
   "metadata": {},
   "source": [
    "**As we can see, the column has been renamed. Now let's go on to rename the `No-show` column and replace the `-` with `_`**"
   ]
  },
  {
   "cell_type": "code",
   "execution_count": 437,
   "metadata": {},
   "outputs": [],
   "source": [
    "#replace '-' with '_' in the 'No-show' column name\n",
    "df = df.rename(columns = {'No-show' : 'No_show'})"
   ]
  },
  {
   "cell_type": "code",
   "execution_count": 438,
   "metadata": {},
   "outputs": [
    {
     "data": {
      "text/html": [
       "<div>\n",
       "<style scoped>\n",
       "    .dataframe tbody tr th:only-of-type {\n",
       "        vertical-align: middle;\n",
       "    }\n",
       "\n",
       "    .dataframe tbody tr th {\n",
       "        vertical-align: top;\n",
       "    }\n",
       "\n",
       "    .dataframe thead th {\n",
       "        text-align: right;\n",
       "    }\n",
       "</style>\n",
       "<table border=\"1\" class=\"dataframe\">\n",
       "  <thead>\n",
       "    <tr style=\"text-align: right;\">\n",
       "      <th></th>\n",
       "      <th>Gender</th>\n",
       "      <th>ScheduledDay</th>\n",
       "      <th>AppointmentDay</th>\n",
       "      <th>Age</th>\n",
       "      <th>Neighbourhood</th>\n",
       "      <th>Scholarship</th>\n",
       "      <th>Hipertension</th>\n",
       "      <th>Diabetes</th>\n",
       "      <th>Alcoholism</th>\n",
       "      <th>Handicap</th>\n",
       "      <th>SMS_received</th>\n",
       "      <th>No_show</th>\n",
       "    </tr>\n",
       "  </thead>\n",
       "  <tbody>\n",
       "  </tbody>\n",
       "</table>\n",
       "</div>"
      ],
      "text/plain": [
       "Empty DataFrame\n",
       "Columns: [Gender, ScheduledDay, AppointmentDay, Age, Neighbourhood, Scholarship, Hipertension, Diabetes, Alcoholism, Handicap, SMS_received, No_show]\n",
       "Index: []"
      ]
     },
     "execution_count": 438,
     "metadata": {},
     "output_type": "execute_result"
    }
   ],
   "source": [
    "#confirm the renaming\n",
    "df.head(0)"
   ]
  },
  {
   "cell_type": "markdown",
   "metadata": {},
   "source": [
    "**Now, we are good to go. Next we will perform the final renaming operation which will be to change all column names to lower case and not leave them in the sentence case as they are in right now. This will ease our typing and analysis along the way**"
   ]
  },
  {
   "cell_type": "code",
   "execution_count": 439,
   "metadata": {},
   "outputs": [],
   "source": [
    "#convert all column name to lowercase\n",
    "df = df.rename(columns = lambda x: x.strip().lower())"
   ]
  },
  {
   "cell_type": "code",
   "execution_count": 440,
   "metadata": {},
   "outputs": [
    {
     "data": {
      "text/html": [
       "<div>\n",
       "<style scoped>\n",
       "    .dataframe tbody tr th:only-of-type {\n",
       "        vertical-align: middle;\n",
       "    }\n",
       "\n",
       "    .dataframe tbody tr th {\n",
       "        vertical-align: top;\n",
       "    }\n",
       "\n",
       "    .dataframe thead th {\n",
       "        text-align: right;\n",
       "    }\n",
       "</style>\n",
       "<table border=\"1\" class=\"dataframe\">\n",
       "  <thead>\n",
       "    <tr style=\"text-align: right;\">\n",
       "      <th></th>\n",
       "      <th>gender</th>\n",
       "      <th>scheduledday</th>\n",
       "      <th>appointmentday</th>\n",
       "      <th>age</th>\n",
       "      <th>neighbourhood</th>\n",
       "      <th>scholarship</th>\n",
       "      <th>hipertension</th>\n",
       "      <th>diabetes</th>\n",
       "      <th>alcoholism</th>\n",
       "      <th>handicap</th>\n",
       "      <th>sms_received</th>\n",
       "      <th>no_show</th>\n",
       "    </tr>\n",
       "  </thead>\n",
       "  <tbody>\n",
       "  </tbody>\n",
       "</table>\n",
       "</div>"
      ],
      "text/plain": [
       "Empty DataFrame\n",
       "Columns: [gender, scheduledday, appointmentday, age, neighbourhood, scholarship, hipertension, diabetes, alcoholism, handicap, sms_received, no_show]\n",
       "Index: []"
      ]
     },
     "execution_count": 440,
     "metadata": {},
     "output_type": "execute_result"
    }
   ],
   "source": [
    "#confirm the renaming\n",
    "df.head(0)"
   ]
  },
  {
   "cell_type": "markdown",
   "metadata": {},
   "source": [
    "**We have succesfully changed all column names to lowercase**\n",
    "\n",
    "**Next, we will move on to fix the unique values issues of the `handicap` column. What we will do is to change all entries with value `2, 3, 4` to `1`. By doing this, the only values we will have in the column will be `0` and `1`.**"
   ]
  },
  {
   "cell_type": "code",
   "execution_count": 441,
   "metadata": {},
   "outputs": [
    {
     "data": {
      "text/plain": [
       "0    108286\n",
       "1      2042\n",
       "2       183\n",
       "3        13\n",
       "4         3\n",
       "Name: handicap, dtype: int64"
      ]
     },
     "execution_count": 441,
     "metadata": {},
     "output_type": "execute_result"
    }
   ],
   "source": [
    "#check value counts first\n",
    "df.handicap.value_counts()"
   ]
  },
  {
   "cell_type": "code",
   "execution_count": 442,
   "metadata": {},
   "outputs": [],
   "source": [
    "#then fix the column by making every value >=1 to 1 using pandas apply\n",
    "df.handicap = df.handicap.apply(lambda val: 1 if val >=1 else 0 )"
   ]
  },
  {
   "cell_type": "code",
   "execution_count": 443,
   "metadata": {},
   "outputs": [
    {
     "data": {
      "text/plain": [
       "array([0, 1], dtype=int64)"
      ]
     },
     "execution_count": 443,
     "metadata": {},
     "output_type": "execute_result"
    }
   ],
   "source": [
    "#confirm\n",
    "df.handicap.unique()"
   ]
  },
  {
   "cell_type": "markdown",
   "metadata": {},
   "source": [
    "**Now we  have made the unique values in the handicap column equal to `1` and `0`**\n",
    "\n",
    "**Lastly, for this phase, we will be converting the `scheduleday` and `appointmentday` column to datetime data type so that we will be able to perform some date operations on it as we proceed in the data exploratory and conclusion phase**"
   ]
  },
  {
   "cell_type": "code",
   "execution_count": 444,
   "metadata": {},
   "outputs": [],
   "source": [
    "#put both columns in a list and perform the conversion using the 'to_datetime'\n",
    "dates = ['scheduledday','appointmentday']\n",
    "for c in dates:\n",
    "    df[c] = pd.to_datetime(df[c])"
   ]
  },
  {
   "cell_type": "code",
   "execution_count": 445,
   "metadata": {},
   "outputs": [
    {
     "data": {
      "text/plain": [
       "gender                         object\n",
       "scheduledday      datetime64[ns, UTC]\n",
       "appointmentday    datetime64[ns, UTC]\n",
       "age                             int64\n",
       "neighbourhood                  object\n",
       "scholarship                     int64\n",
       "hipertension                    int64\n",
       "diabetes                        int64\n",
       "alcoholism                      int64\n",
       "handicap                        int64\n",
       "sms_received                    int64\n",
       "no_show                        object\n",
       "dtype: object"
      ]
     },
     "execution_count": 445,
     "metadata": {},
     "output_type": "execute_result"
    }
   ],
   "source": [
    "#confirm that the data types has been changed\n",
    "df.dtypes"
   ]
  },
  {
   "cell_type": "markdown",
   "metadata": {},
   "source": [
    "**We see from above that the data types of both columns have been changed to `datetime64` and when the time comes during our exploratory analysis, we will explore those columns and perform some date operations on them.**"
   ]
  },
  {
   "cell_type": "markdown",
   "metadata": {},
   "source": [
    "<a id='eda'></a>\n",
    "## Exploratory Data Analysis\n",
    "\n",
    "**In this phase we will begin by exploring each column individually and creating plots to understand their distribution and any other relevant information that can be gotten from them.**\n",
    "\n",
    "\n",
    "### Exploring the `scheduleday` and `appointmentday` Columns\n",
    "\n",
    "**We will start by performing some operations on the `appointmentday` and `scheduleday` columns. a very important metric that definitely will be very useful in our analysis is the number of days that a patient waits before his day of appointment finally comes(i.e, the number of days between when a patient schedules his/her appointment and the actual day of the appointment). We can get this by subtracting the `apointmentday` from the `scheduleday`. We will create this column and check for the average waiting days, the least day a patient had to wait and the highest day a patient had to wait.**"
   ]
  },
  {
   "cell_type": "code",
   "execution_count": 446,
   "metadata": {},
   "outputs": [],
   "source": [
    "#to create a new column called 'waiting_days' by subtracting the 'scheduleday' form the 'appointmentday' and get us the days excluding the hours because we do not need it\n",
    "waiting_days = df.appointmentday.dt.date - df.scheduledday.dt.date"
   ]
  },
  {
   "cell_type": "code",
   "execution_count": 447,
   "metadata": {},
   "outputs": [
    {
     "data": {
      "text/plain": [
       "0         0 days\n",
       "1         0 days\n",
       "2         0 days\n",
       "3         0 days\n",
       "4         0 days\n",
       "           ...  \n",
       "110522   35 days\n",
       "110523   35 days\n",
       "110524   41 days\n",
       "110525   41 days\n",
       "110526   41 days\n",
       "Length: 110527, dtype: timedelta64[ns]"
      ]
     },
     "execution_count": 447,
     "metadata": {},
     "output_type": "execute_result"
    }
   ],
   "source": [
    "#investigate the new column 'waiting_days'\n",
    "waiting_days"
   ]
  },
  {
   "cell_type": "markdown",
   "metadata": {},
   "source": [
    "**We see here that the column is formated in days with 'days' at the end of the value. For us to be able to perform statistical operations, we need to remove the '`..days'` we have in the array. let's extract it below**"
   ]
  },
  {
   "cell_type": "code",
   "execution_count": 448,
   "metadata": {},
   "outputs": [],
   "source": [
    "#get the values of the days only without the string value 'days'\n",
    "waiting_days = waiting_days.dt.days"
   ]
  },
  {
   "cell_type": "code",
   "execution_count": 449,
   "metadata": {},
   "outputs": [
    {
     "data": {
      "text/plain": [
       "0          0\n",
       "1          0\n",
       "2          0\n",
       "3          0\n",
       "4          0\n",
       "          ..\n",
       "110522    35\n",
       "110523    35\n",
       "110524    41\n",
       "110525    41\n",
       "110526    41\n",
       "Length: 110527, dtype: int64"
      ]
     },
     "execution_count": 449,
     "metadata": {},
     "output_type": "execute_result"
    }
   ],
   "source": [
    "#confirm that we have removed the 'days' value\n",
    "waiting_days"
   ]
  },
  {
   "cell_type": "code",
   "execution_count": 450,
   "metadata": {},
   "outputs": [],
   "source": [
    "#insert the new column into the dataframe as the fifth column because we want the column to be just after the 'appointmentday' column\n",
    "df.insert(3, 'waiting_days', waiting_days)"
   ]
  },
  {
   "cell_type": "code",
   "execution_count": 468,
   "metadata": {},
   "outputs": [
    {
     "data": {
      "text/html": [
       "<div>\n",
       "<style scoped>\n",
       "    .dataframe tbody tr th:only-of-type {\n",
       "        vertical-align: middle;\n",
       "    }\n",
       "\n",
       "    .dataframe tbody tr th {\n",
       "        vertical-align: top;\n",
       "    }\n",
       "\n",
       "    .dataframe thead th {\n",
       "        text-align: right;\n",
       "    }\n",
       "</style>\n",
       "<table border=\"1\" class=\"dataframe\">\n",
       "  <thead>\n",
       "    <tr style=\"text-align: right;\">\n",
       "      <th></th>\n",
       "      <th>gender</th>\n",
       "      <th>scheduledday</th>\n",
       "      <th>appointmentday</th>\n",
       "      <th>waiting_days</th>\n",
       "      <th>age</th>\n",
       "      <th>age_group</th>\n",
       "      <th>neighbourhood</th>\n",
       "      <th>scholarship</th>\n",
       "      <th>hipertension</th>\n",
       "      <th>diabetes</th>\n",
       "      <th>alcoholism</th>\n",
       "      <th>handicap</th>\n",
       "      <th>sms_received</th>\n",
       "      <th>no_show</th>\n",
       "    </tr>\n",
       "  </thead>\n",
       "  <tbody>\n",
       "    <tr>\n",
       "      <th>0</th>\n",
       "      <td>F</td>\n",
       "      <td>2016-04-29 18:38:08+00:00</td>\n",
       "      <td>2016-04-29 00:00:00+00:00</td>\n",
       "      <td>0</td>\n",
       "      <td>62</td>\n",
       "      <td>56-75</td>\n",
       "      <td>JARDIM DA PENHA</td>\n",
       "      <td>0</td>\n",
       "      <td>1</td>\n",
       "      <td>0</td>\n",
       "      <td>0</td>\n",
       "      <td>0</td>\n",
       "      <td>0</td>\n",
       "      <td>No</td>\n",
       "    </tr>\n",
       "    <tr>\n",
       "      <th>1</th>\n",
       "      <td>M</td>\n",
       "      <td>2016-04-29 16:08:27+00:00</td>\n",
       "      <td>2016-04-29 00:00:00+00:00</td>\n",
       "      <td>0</td>\n",
       "      <td>56</td>\n",
       "      <td>56-75</td>\n",
       "      <td>JARDIM DA PENHA</td>\n",
       "      <td>0</td>\n",
       "      <td>0</td>\n",
       "      <td>0</td>\n",
       "      <td>0</td>\n",
       "      <td>0</td>\n",
       "      <td>0</td>\n",
       "      <td>No</td>\n",
       "    </tr>\n",
       "  </tbody>\n",
       "</table>\n",
       "</div>"
      ],
      "text/plain": [
       "  gender              scheduledday            appointmentday  waiting_days  \\\n",
       "0      F 2016-04-29 18:38:08+00:00 2016-04-29 00:00:00+00:00             0   \n",
       "1      M 2016-04-29 16:08:27+00:00 2016-04-29 00:00:00+00:00             0   \n",
       "\n",
       "   age age_group    neighbourhood  scholarship  hipertension  diabetes  \\\n",
       "0   62     56-75  JARDIM DA PENHA            0             1         0   \n",
       "1   56     56-75  JARDIM DA PENHA            0             0         0   \n",
       "\n",
       "   alcoholism  handicap  sms_received no_show  \n",
       "0           0         0             0      No  \n",
       "1           0         0             0      No  "
      ]
     },
     "execution_count": 468,
     "metadata": {},
     "output_type": "execute_result"
    }
   ],
   "source": [
    "#confirm this\n",
    "df.head(2)"
   ]
  },
  {
   "cell_type": "markdown",
   "metadata": {},
   "source": [
    "**We had two cases of waiting days beign negative values, (i.e the appointment day was set before the scheduled day) which just makes no sense so we will replace those values with 0 making the appointment day same with the scheduled day**"
   ]
  },
  {
   "cell_type": "code",
   "execution_count": 452,
   "metadata": {},
   "outputs": [],
   "source": [
    "df['waiting_days'] = df['waiting_days'].replace([-1],0)\n",
    "df['waiting_days'] = df['waiting_days'].replace([-6],0)"
   ]
  },
  {
   "cell_type": "code",
   "execution_count": 469,
   "metadata": {},
   "outputs": [
    {
     "data": {
      "text/plain": [
       "count    110527.000000\n",
       "mean         10.183792\n",
       "std          15.254924\n",
       "min           0.000000\n",
       "25%           0.000000\n",
       "50%           4.000000\n",
       "75%          15.000000\n",
       "max         179.000000\n",
       "Name: waiting_days, dtype: float64"
      ]
     },
     "execution_count": 469,
     "metadata": {},
     "output_type": "execute_result"
    }
   ],
   "source": [
    "#check out some important information about the new column\n",
    "df.waiting_days.describe()"
   ]
  },
  {
   "cell_type": "markdown",
   "metadata": {},
   "source": [
    "**Based on the data above, we can deduce that the shortest time a patient had to wait for an appointment was `0 days` (i.e the appoinment was set for the same day in which it was scheduled). There's a good chance that such patient(s) didn't forget about their appointment.**\n",
    "\n",
    "**We also learned that the average number of days a patient waits for an appointment is `10 Days`**.\n",
    "\n",
    "**Finally, the longest time a patient had to wait for an appointment was `179` days. This is around `6 months` from the scheduled date, and there is a considerable likelihood that they will not show up for the appointment owing to the extended waiting period**."
   ]
  },
  {
   "cell_type": "markdown",
   "metadata": {},
   "source": [
    "### Exploring the `ages` Column\n",
    "\n",
    "\n",
    "**Now let's look at the 'ages' column. First, we'll use a box plot and a histogram to verify the distribution of the ages, then we'll group the ages and construct a new column using that grouping. It will offer us a clearer picture of what's going on with our patients' ages in relation to the appointmets made.**\n",
    "\n",
    "**Let's make a box plot to determine whether the ages have any outliers**"
   ]
  },
  {
   "cell_type": "code",
   "execution_count": 470,
   "metadata": {},
   "outputs": [
    {
     "data": {
      "image/png": "[encoded data removed]",
      "text/plain": [
       "<Figure size 720x360 with 1 Axes>"
      ]
     },
     "metadata": {
      "needs_background": "light"
     },
     "output_type": "display_data"
    }
   ],
   "source": [
    "#create a boxplot for ages\n",
    "df.age.plot(kind = 'box', figsize =(10,5));"
   ]
  },
  {
   "cell_type": "markdown",
   "metadata": {},
   "source": [
    "***We see an outlier age from the plot above, very close to 120 but since it just one it does not significantly affect our data or analysis, so we will ignore it and continue with our other analysis***\n",
    "\n",
    "\n",
    "**Let's Use a Histogram to check the distribution of the ages of the patients**"
   ]
  },
  {
   "cell_type": "code",
   "execution_count": 573,
   "metadata": {},
   "outputs": [
    {
     "data": {
      "image/png": "[encoded data removed]",
      "text/plain": [
       "<Figure size 720x360 with 1 Axes>"
      ]
     },
     "metadata": {
      "needs_background": "light"
     },
     "output_type": "display_data"
    }
   ],
   "source": [
    "#create a histogram to check the distribution of the ages distribution\n",
    "df.age.plot(kind = 'hist', title = 'Distribution of Ages', figsize=(10,5), color = \"#8B4513\");"
   ]
  },
  {
   "cell_type": "markdown",
   "metadata": {},
   "source": [
    "**This chart indicates that as the age of the patient increases, the frequency of patient appointments decreases. This indicates that more appointments were made by younger people.'**\n",
    "\n",
    "\n",
    "**Let's group the ages column by various age groups to get a more comprehensive perspective of the distribution of our ages, and then make a line plot to observe the trend of these ages.**\n",
    "\n",
    "***We'll divide the data into compartments (age groups) using the pandas cut function and then investigate***"
   ]
  },
  {
   "cell_type": "code",
   "execution_count": 456,
   "metadata": {},
   "outputs": [],
   "source": [
    "#creating a list of how ages are to be grouped and attaching a name to each category\n",
    "bin_labels = ['0-5', '6-10', '11-17', '18-35', '36-55', '56-75', '76+']\n",
    "bin_edges =[0, 5, 10, 17, 35, 55, 75, 115]"
   ]
  },
  {
   "cell_type": "code",
   "execution_count": 457,
   "metadata": {},
   "outputs": [],
   "source": [
    "#create the 'age_group' column and insert it as the fifth column just after the 'age' column\n",
    "age_group = pd.cut(df['age'], bin_edges, labels = bin_labels)\n",
    "df.insert(5, 'age_group', age_group)"
   ]
  },
  {
   "cell_type": "code",
   "execution_count": 472,
   "metadata": {},
   "outputs": [
    {
     "data": {
      "text/html": [
       "<div>\n",
       "<style scoped>\n",
       "    .dataframe tbody tr th:only-of-type {\n",
       "        vertical-align: middle;\n",
       "    }\n",
       "\n",
       "    .dataframe tbody tr th {\n",
       "        vertical-align: top;\n",
       "    }\n",
       "\n",
       "    .dataframe thead th {\n",
       "        text-align: right;\n",
       "    }\n",
       "</style>\n",
       "<table border=\"1\" class=\"dataframe\">\n",
       "  <thead>\n",
       "    <tr style=\"text-align: right;\">\n",
       "      <th></th>\n",
       "      <th>gender</th>\n",
       "      <th>scheduledday</th>\n",
       "      <th>appointmentday</th>\n",
       "      <th>waiting_days</th>\n",
       "      <th>age</th>\n",
       "      <th>age_group</th>\n",
       "      <th>neighbourhood</th>\n",
       "      <th>scholarship</th>\n",
       "      <th>hipertension</th>\n",
       "      <th>diabetes</th>\n",
       "      <th>alcoholism</th>\n",
       "      <th>handicap</th>\n",
       "      <th>sms_received</th>\n",
       "      <th>no_show</th>\n",
       "    </tr>\n",
       "  </thead>\n",
       "  <tbody>\n",
       "    <tr>\n",
       "      <th>0</th>\n",
       "      <td>F</td>\n",
       "      <td>2016-04-29 18:38:08+00:00</td>\n",
       "      <td>2016-04-29 00:00:00+00:00</td>\n",
       "      <td>0</td>\n",
       "      <td>62</td>\n",
       "      <td>56-75</td>\n",
       "      <td>JARDIM DA PENHA</td>\n",
       "      <td>0</td>\n",
       "      <td>1</td>\n",
       "      <td>0</td>\n",
       "      <td>0</td>\n",
       "      <td>0</td>\n",
       "      <td>0</td>\n",
       "      <td>No</td>\n",
       "    </tr>\n",
       "    <tr>\n",
       "      <th>1</th>\n",
       "      <td>M</td>\n",
       "      <td>2016-04-29 16:08:27+00:00</td>\n",
       "      <td>2016-04-29 00:00:00+00:00</td>\n",
       "      <td>0</td>\n",
       "      <td>56</td>\n",
       "      <td>56-75</td>\n",
       "      <td>JARDIM DA PENHA</td>\n",
       "      <td>0</td>\n",
       "      <td>0</td>\n",
       "      <td>0</td>\n",
       "      <td>0</td>\n",
       "      <td>0</td>\n",
       "      <td>0</td>\n",
       "      <td>No</td>\n",
       "    </tr>\n",
       "    <tr>\n",
       "      <th>2</th>\n",
       "      <td>F</td>\n",
       "      <td>2016-04-29 16:19:04+00:00</td>\n",
       "      <td>2016-04-29 00:00:00+00:00</td>\n",
       "      <td>0</td>\n",
       "      <td>62</td>\n",
       "      <td>56-75</td>\n",
       "      <td>MATA DA PRAIA</td>\n",
       "      <td>0</td>\n",
       "      <td>0</td>\n",
       "      <td>0</td>\n",
       "      <td>0</td>\n",
       "      <td>0</td>\n",
       "      <td>0</td>\n",
       "      <td>No</td>\n",
       "    </tr>\n",
       "  </tbody>\n",
       "</table>\n",
       "</div>"
      ],
      "text/plain": [
       "  gender              scheduledday            appointmentday  waiting_days  \\\n",
       "0      F 2016-04-29 18:38:08+00:00 2016-04-29 00:00:00+00:00             0   \n",
       "1      M 2016-04-29 16:08:27+00:00 2016-04-29 00:00:00+00:00             0   \n",
       "2      F 2016-04-29 16:19:04+00:00 2016-04-29 00:00:00+00:00             0   \n",
       "\n",
       "   age age_group    neighbourhood  scholarship  hipertension  diabetes  \\\n",
       "0   62     56-75  JARDIM DA PENHA            0             1         0   \n",
       "1   56     56-75  JARDIM DA PENHA            0             0         0   \n",
       "2   62     56-75    MATA DA PRAIA            0             0         0   \n",
       "\n",
       "   alcoholism  handicap  sms_received no_show  \n",
       "0           0         0             0      No  \n",
       "1           0         0             0      No  \n",
       "2           0         0             0      No  "
      ]
     },
     "execution_count": 472,
     "metadata": {},
     "output_type": "execute_result"
    }
   ],
   "source": [
    "#confirm by checking the table \n",
    "df.head(3)"
   ]
  },
  {
   "cell_type": "code",
   "execution_count": 473,
   "metadata": {},
   "outputs": [
    {
     "data": {
      "text/plain": [
       "age_group\n",
       "0-5       8192\n",
       "6-10      7018\n",
       "11-17     8630\n",
       "18-35    25624\n",
       "36-55    30019\n",
       "56-75    22112\n",
       "76+       5392\n",
       "Name: age, dtype: int64"
      ]
     },
     "execution_count": 473,
     "metadata": {},
     "output_type": "execute_result"
    }
   ],
   "source": [
    "#now let's see how the ages are distributed first without a plot\n",
    "df.groupby('age_group').age.count()"
   ]
  },
  {
   "cell_type": "code",
   "execution_count": 571,
   "metadata": {},
   "outputs": [
    {
     "data": {
      "image/png": "[encoded data removed]",
      "text/plain": [
       "<Figure size 720x360 with 1 Axes>"
      ]
     },
     "metadata": {
      "needs_background": "light"
     },
     "output_type": "display_data"
    }
   ],
   "source": [
    "# now let's create a line plot to show this distribution\n",
    "age_group = df.groupby('age_group').age.count()\n",
    "\n",
    "plt.subplots(figsize = (10,5))\n",
    "plt.plot(age_group, color ='g');\n",
    "plt.title(\"Trend of Age groups That made Medical Appointments\");\n",
    "plt.xlabel(\"Age Group\");\n",
    "plt.ylabel(\"Number Of Appointments\");"
   ]
  },
  {
   "cell_type": "markdown",
   "metadata": {},
   "source": [
    "\n",
    "**We can see that between the ages of `0-17`, the hospitals have just under `10,000` appointments set, but between the ages of `18 to 35`, the number of appointments made skyrocketed to over `25,000,` and much more than that were the appointments made by people between the ages of `36-55`, with appointments totaling over 30,000. However, beyond the age of `56 and up`, the number of appointments continued to decline until they were fewer than `5,500`.**\n",
    "\n",
    "**This demonstrates that the majority of the appointments received by the various hospitals covered in this dataset are from persons aged `18 to 55`, with those aged `56-75` coming in second, followed by those aged `0-17`, and people aged `76 years and above` receiving the least number of appointments.**"
   ]
  },
  {
   "cell_type": "markdown",
   "metadata": {},
   "source": [
    "\n",
    "\n",
    "### Exploring the `neighbourhood` Column\n",
    "\n",
    "**This column describes the different neighborhoods in which the various hospitals where these appointments made are located**\n",
    "\n",
    "***We will use a visual to explore this column and learn about the neighborhood where the hospital with the most appointments is located.***"
   ]
  },
  {
   "cell_type": "code",
   "execution_count": 463,
   "metadata": {},
   "outputs": [
    {
     "data": {
      "text/html": [
       "<div>\n",
       "<style scoped>\n",
       "    .dataframe tbody tr th:only-of-type {\n",
       "        vertical-align: middle;\n",
       "    }\n",
       "\n",
       "    .dataframe tbody tr th {\n",
       "        vertical-align: top;\n",
       "    }\n",
       "\n",
       "    .dataframe thead th {\n",
       "        text-align: right;\n",
       "    }\n",
       "</style>\n",
       "<table border=\"1\" class=\"dataframe\">\n",
       "  <thead>\n",
       "    <tr style=\"text-align: right;\">\n",
       "      <th></th>\n",
       "      <th>gender</th>\n",
       "      <th>scheduledday</th>\n",
       "      <th>appointmentday</th>\n",
       "      <th>waiting_days</th>\n",
       "      <th>age</th>\n",
       "      <th>age_group</th>\n",
       "      <th>neighbourhood</th>\n",
       "      <th>scholarship</th>\n",
       "      <th>hipertension</th>\n",
       "      <th>diabetes</th>\n",
       "      <th>alcoholism</th>\n",
       "      <th>handicap</th>\n",
       "      <th>sms_received</th>\n",
       "      <th>no_show</th>\n",
       "    </tr>\n",
       "  </thead>\n",
       "  <tbody>\n",
       "    <tr>\n",
       "      <th>0</th>\n",
       "      <td>F</td>\n",
       "      <td>2016-04-29 18:38:08+00:00</td>\n",
       "      <td>2016-04-29 00:00:00+00:00</td>\n",
       "      <td>0</td>\n",
       "      <td>62</td>\n",
       "      <td>56-75</td>\n",
       "      <td>JARDIM DA PENHA</td>\n",
       "      <td>0</td>\n",
       "      <td>1</td>\n",
       "      <td>0</td>\n",
       "      <td>0</td>\n",
       "      <td>0</td>\n",
       "      <td>0</td>\n",
       "      <td>No</td>\n",
       "    </tr>\n",
       "    <tr>\n",
       "      <th>1</th>\n",
       "      <td>M</td>\n",
       "      <td>2016-04-29 16:08:27+00:00</td>\n",
       "      <td>2016-04-29 00:00:00+00:00</td>\n",
       "      <td>0</td>\n",
       "      <td>56</td>\n",
       "      <td>56-75</td>\n",
       "      <td>JARDIM DA PENHA</td>\n",
       "      <td>0</td>\n",
       "      <td>0</td>\n",
       "      <td>0</td>\n",
       "      <td>0</td>\n",
       "      <td>0</td>\n",
       "      <td>0</td>\n",
       "      <td>No</td>\n",
       "    </tr>\n",
       "  </tbody>\n",
       "</table>\n",
       "</div>"
      ],
      "text/plain": [
       "  gender              scheduledday            appointmentday  waiting_days  \\\n",
       "0      F 2016-04-29 18:38:08+00:00 2016-04-29 00:00:00+00:00             0   \n",
       "1      M 2016-04-29 16:08:27+00:00 2016-04-29 00:00:00+00:00             0   \n",
       "\n",
       "   age age_group    neighbourhood  scholarship  hipertension  diabetes  \\\n",
       "0   62     56-75  JARDIM DA PENHA            0             1         0   \n",
       "1   56     56-75  JARDIM DA PENHA            0             0         0   \n",
       "\n",
       "   alcoholism  handicap  sms_received no_show  \n",
       "0           0         0             0      No  \n",
       "1           0         0             0      No  "
      ]
     },
     "execution_count": 463,
     "metadata": {},
     "output_type": "execute_result"
    }
   ],
   "source": [
    "#call out the first two rows of the dataframe\n",
    "df.head(2)"
   ]
  },
  {
   "cell_type": "code",
   "execution_count": 464,
   "metadata": {},
   "outputs": [
    {
     "data": {
      "text/plain": [
       "JARDIM CAMBURI                 7717\n",
       "MARIA ORTIZ                    5805\n",
       "RESISTÊNCIA                    4431\n",
       "JARDIM DA PENHA                3877\n",
       "ITARARÉ                        3514\n",
       "                               ... \n",
       "ILHA DO BOI                      35\n",
       "ILHA DO FRADE                    10\n",
       "AEROPORTO                         8\n",
       "ILHAS OCEÂNICAS DE TRINDADE       2\n",
       "PARQUE INDUSTRIAL                 1\n",
       "Name: neighbourhood, Length: 81, dtype: int64"
      ]
     },
     "execution_count": 464,
     "metadata": {},
     "output_type": "execute_result"
    }
   ],
   "source": [
    "#check the different neighbourhoods and the number of appointments made \n",
    "df.neighbourhood.value_counts()"
   ]
  },
  {
   "cell_type": "code",
   "execution_count": 465,
   "metadata": {},
   "outputs": [
    {
     "data": {
      "text/plain": [
       "JARDIM CAMBURI     7717\n",
       "MARIA ORTIZ        5805\n",
       "RESISTÊNCIA        4431\n",
       "JARDIM DA PENHA    3877\n",
       "ITARARÉ            3514\n",
       "Name: neighbourhood, dtype: int64"
      ]
     },
     "execution_count": 465,
     "metadata": {},
     "output_type": "execute_result"
    }
   ],
   "source": [
    "#neighbourhoods with the most appointments (top 5)\n",
    "df.neighbourhood.value_counts().head()\n",
    "\n",
    "#or\n",
    "\n",
    "df.neighbourhood.value_counts()[0:5]"
   ]
  },
  {
   "cell_type": "code",
   "execution_count": 466,
   "metadata": {},
   "outputs": [
    {
     "data": {
      "image/png": "[encoded data removed]",
      "text/plain": [
       "<Figure size 720x360 with 1 Axes>"
      ]
     },
     "metadata": {
      "needs_background": "light"
     },
     "output_type": "display_data"
    }
   ],
   "source": [
    "#plot to show the neighbourhoods with the most appointments received\n",
    "neigh = df.neighbourhood.value_counts()[0:5]\n",
    "\n",
    "plt.subplots(figsize = (10,5));\n",
    "plt.bar(neigh.index, neigh, color = 'c');\n",
    "plt.title(\"Top 5 Neighbourhoods Hosting the Hospitals In Which The Most Appointments Were Made\")\n",
    "plt.xlabel(\"Neighbourhood\")\n",
    "plt.ylabel(\"Number of Appointments\")\n",
    "plt.show()"
   ]
  },
  {
   "cell_type": "markdown",
   "metadata": {},
   "source": [
    "**As can be seen from the plot above, the hospital(s) with the most appointments are situated in `JARDIM CAMBURI`, with a total of `7,717` appointments.**"
   ]
  },
  {
   "cell_type": "markdown",
   "metadata": {},
   "source": [
    "### Exploring the `gender` column\n",
    "\n",
    "Here we will use a simple pie chart to see the number and percentage of men to women covered in this data set"
   ]
  },
  {
   "cell_type": "code",
   "execution_count": 474,
   "metadata": {},
   "outputs": [
    {
     "data": {
      "text/plain": [
       "F    71840\n",
       "M    38687\n",
       "Name: gender, dtype: int64"
      ]
     },
     "execution_count": 474,
     "metadata": {},
     "output_type": "execute_result"
    }
   ],
   "source": [
    "#to check the number of male and female patients covered in this dataset\n",
    "df.gender.value_counts()"
   ]
  },
  {
   "cell_type": "markdown",
   "metadata": {},
   "source": [
    "We see here that the number of Female patients we had is almost double of the number of Male patients, let's visualize this with a pie chart\n",
    "\n"
   ]
  },
  {
   "cell_type": "code",
   "execution_count": 475,
   "metadata": {},
   "outputs": [
    {
     "data": {
      "image/png": "[encoded data removed]",
      "text/plain": [
       "<Figure size 720x360 with 1 Axes>"
      ]
     },
     "metadata": {},
     "output_type": "display_data"
    }
   ],
   "source": [
    "#plot a pie for the gender distribution of patients\n",
    "m_f = df.gender.value_counts()\n",
    "mylabels = [\"Female\", \"Male\"]\n",
    "myexplode = [0.05, 0]\n",
    "plt.subplots(figsize =(10,5))\n",
    "plt.pie(m_f, labels = mylabels, explode = myexplode)\n",
    "plt.title(\"Distribution of The Patients Gender\");\n",
    "plt.legend(title = \"Gender\")\n",
    "plt.show();"
   ]
  },
  {
   "cell_type": "markdown",
   "metadata": {},
   "source": [
    "**With a percentage distribution of `65% : 35%`, female patients who arranged appointments were substantially more than male patients.**\n",
    "\n",
    "***We might claim that women are more prone to health issues and require more medical appointments than males, but this is merely a guess because we lack sufficient information to back it up.***"
   ]
  },
  {
   "cell_type": "markdown",
   "metadata": {},
   "source": [
    "### Exploring the `scholarship` culomn\n",
    "\n",
    "Here also we will use a pie chart to visualize the distribution of our scolarship column. We want to find ou how many patients were on scholarship and how many were not."
   ]
  },
  {
   "cell_type": "code",
   "execution_count": 476,
   "metadata": {},
   "outputs": [
    {
     "data": {
      "text/plain": [
       "0    99666\n",
       "1    10861\n",
       "Name: scholarship, dtype: int64"
      ]
     },
     "execution_count": 476,
     "metadata": {},
     "output_type": "execute_result"
    }
   ],
   "source": [
    "#to check the number of patients who were on scolarship and those who were not\n",
    "df.scholarship.value_counts()"
   ]
  },
  {
   "cell_type": "code",
   "execution_count": 553,
   "metadata": {},
   "outputs": [
    {
     "data": {
      "image/png": "[encoded data removed]",
      "text/plain": [
       "<Figure size 1080x360 with 1 Axes>"
      ]
     },
     "metadata": {},
     "output_type": "display_data"
    }
   ],
   "source": [
    "#plot this distribution with a piechart\n",
    "schol = df.scholarship.value_counts()\n",
    "\n",
    "mylabels = [\"Not Enrolled\", \"Enrolled\"]\n",
    "myexplode = [0.1, 0]\n",
    "plt.subplots(figsize =(15,5))\n",
    "plt.pie(schol, labels = mylabels, explode = myexplode )\n",
    "plt.title(\"Distribution of Scolarships\");\n",
    "plt.legend(title = \"Scolarship Enrollment\")\n",
    "plt.show();"
   ]
  },
  {
   "cell_type": "markdown",
   "metadata": {},
   "source": [
    "**With a percentage distribution of `90% : 10%`, we can see that there is a fairly large disparity between those who were not enrolled in the scholarship program and those who were.**\n",
    "\n",
    "***The Brazilian Welfare Program `Bolsa Familia` is the name of the scholarship program. The details in this dataset do not provide us with an exact reason why many more people are not enrolled in the program, but we can speculate that health scholarships are generally very expensive, which is why the scholarship program's facilitators might have been unable to enroll many more people into the program***\n",
    "\n",
    "**NOTE: This hypothesis is purely speculative and not definitive**"
   ]
  },
  {
   "cell_type": "markdown",
   "metadata": {},
   "source": [
    "### Exploring the `handicap` Column\n",
    "\n",
    "**Here we are only interested in knowing how many of the patients were handicaped**"
   ]
  },
  {
   "cell_type": "code",
   "execution_count": 477,
   "metadata": {},
   "outputs": [
    {
     "data": {
      "text/plain": [
       "0    108286\n",
       "1      2241\n",
       "Name: handicap, dtype: int64"
      ]
     },
     "execution_count": 477,
     "metadata": {},
     "output_type": "execute_result"
    }
   ],
   "source": [
    "#check the distribution of the handicap column\n",
    "df.handicap.value_counts()"
   ]
  },
  {
   "cell_type": "code",
   "execution_count": 246,
   "metadata": {},
   "outputs": [
    {
     "data": {
      "image/png": "[encoded data removed]",
      "text/plain": [
       "<Figure size 1080x360 with 1 Axes>"
      ]
     },
     "metadata": {},
     "output_type": "display_data"
    }
   ],
   "source": [
    "#plot this distribution with a piechart\n",
    "handi = df.handicap.value_counts()\n",
    "\n",
    "mylabels = [\"Not Handicaped\", \"Handicaped\"]\n",
    "myexplode = [0.1, 0]\n",
    "plt.subplots(figsize =(15,5))\n",
    "plt.pie(handi, labels = mylabels, explode = myexplode)\n",
    "plt.title(\"Distribution of Handicapped Patients\");\n",
    "plt.legend(title = \"Condition\")\n",
    "plt.show();"
   ]
  },
  {
   "cell_type": "markdown",
   "metadata": {},
   "source": [
    "***We can observe that just `2,241` patients are handicapped, accounting for around `2%` of our entire patient population***"
   ]
  },
  {
   "cell_type": "markdown",
   "metadata": {},
   "source": [
    "### Exploring the `diabetes` Column\n",
    "\n",
    "**Here we are only interested in knowing how many of the patients were Diabetic**"
   ]
  },
  {
   "cell_type": "code",
   "execution_count": 478,
   "metadata": {},
   "outputs": [
    {
     "data": {
      "text/plain": [
       "0    102584\n",
       "1      7943\n",
       "Name: diabetes, dtype: int64"
      ]
     },
     "execution_count": 478,
     "metadata": {},
     "output_type": "execute_result"
    }
   ],
   "source": [
    "#check the distribution of the diabetis column\n",
    "df.diabetes.value_counts()"
   ]
  },
  {
   "cell_type": "code",
   "execution_count": 247,
   "metadata": {},
   "outputs": [
    {
     "data": {
      "image/png": "[encoded data removed]",
      "text/plain": [
       "<Figure size 1080x360 with 1 Axes>"
      ]
     },
     "metadata": {},
     "output_type": "display_data"
    }
   ],
   "source": [
    "#plot this distribution with a piechart\n",
    "diab = df.diabetes.value_counts()\n",
    "\n",
    "mylabels = [\"Not Diabetic\", \"Diebetic\"]\n",
    "myexplode = [0.1, 0]\n",
    "plt.subplots(figsize =(15,5))\n",
    "plt.pie(diab, labels = mylabels, explode = myexplode)\n",
    "plt.title(\"Distribution of Diabetic Patients\");\n",
    "plt.legend(title = \"Condition\")\n",
    "plt.show();"
   ]
  },
  {
   "cell_type": "markdown",
   "metadata": {},
   "source": [
    "***Here we see that only `7,943` patients are diabetic which is about `7%` ONLY of our total patients population***"
   ]
  },
  {
   "cell_type": "markdown",
   "metadata": {},
   "source": [
    "### Exploring the `alcoholism` Column\n",
    "\n",
    "**Here we are only interested in knowing how many of the patients were Alcoholic**"
   ]
  },
  {
   "cell_type": "code",
   "execution_count": 248,
   "metadata": {},
   "outputs": [
    {
     "data": {
      "text/plain": [
       "0    107167\n",
       "1      3360\n",
       "Name: alcoholism, dtype: int64"
      ]
     },
     "execution_count": 248,
     "metadata": {},
     "output_type": "execute_result"
    }
   ],
   "source": [
    "#check the distribution of the alcoholism column\n",
    "df.alcoholism.value_counts()"
   ]
  },
  {
   "cell_type": "code",
   "execution_count": 250,
   "metadata": {},
   "outputs": [
    {
     "data": {
      "image/png": "[encoded data removed]",
      "text/plain": [
       "<Figure size 1080x360 with 1 Axes>"
      ]
     },
     "metadata": {},
     "output_type": "display_data"
    }
   ],
   "source": [
    "#plot this distribution with a piechart\n",
    "alc = df.alcoholism.value_counts()\n",
    "\n",
    "mylabels = [\"Not Alcoholic\", \"Alcoholic\"]\n",
    "myexplode = [0.1, 0]\n",
    "plt.subplots(figsize =(15,5))\n",
    "plt.pie(alc, labels = mylabels, explode = myexplode)\n",
    "plt.title(\"Distribution of Alcoholic Patients\");\n",
    "plt.legend(title = \"Condition\")\n",
    "plt.show();"
   ]
  },
  {
   "cell_type": "markdown",
   "metadata": {},
   "source": [
    "***We can observe that just `3,369` of our patients are alcoholics, which is around `3%` of our overall patient population***"
   ]
  },
  {
   "cell_type": "markdown",
   "metadata": {},
   "source": [
    "### Exploring the `hipertension` Column\n",
    "\n",
    "**Here we are only interested in knowing how many of the patients were hipertensive**"
   ]
  },
  {
   "cell_type": "code",
   "execution_count": 479,
   "metadata": {},
   "outputs": [
    {
     "data": {
      "text/plain": [
       "0    88726\n",
       "1    21801\n",
       "Name: hipertension, dtype: int64"
      ]
     },
     "execution_count": 479,
     "metadata": {},
     "output_type": "execute_result"
    }
   ],
   "source": [
    "#check the distribution of the hipertension column\n",
    "df.hipertension.value_counts()"
   ]
  },
  {
   "cell_type": "code",
   "execution_count": 252,
   "metadata": {},
   "outputs": [
    {
     "data": {
      "image/png": "[encoded data removed]",
      "text/plain": [
       "<Figure size 1080x360 with 1 Axes>"
      ]
     },
     "metadata": {},
     "output_type": "display_data"
    }
   ],
   "source": [
    "#plot this distribution with a piechart\n",
    "hiper = df.hipertension.value_counts()\n",
    "\n",
    "mylabels = [\"Not Hipertensive\", \"Hipertensive\"]\n",
    "myexplode = [0.1, 0]\n",
    "plt.subplots(figsize =(15,5))\n",
    "plt.pie(hiper, labels = mylabels, explode = myexplode)\n",
    "plt.title(\"Distribution of Hipertensive Patients\");\n",
    "plt.legend(title = \"Condition\")\n",
    "plt.show();"
   ]
  },
  {
   "cell_type": "markdown",
   "metadata": {},
   "source": [
    "***Here we see that `21,801` patients are hipertensive which is about `20%` of our total patients population***"
   ]
  },
  {
   "cell_type": "markdown",
   "metadata": {},
   "source": [
    "***In general, the percentage of patients who are handicapped, diabetic, or alcoholic amounts to roughly `12%` of the total patient population. This indicates that `12%` of the patients were handicapped, alcoholic, or diabetic, `20%` of the patients were hypertensive, and the remaining `68%` had other health issues not stated above.***"
   ]
  },
  {
   "cell_type": "markdown",
   "metadata": {},
   "source": [
    "### Exploring the `sms_received` Column\n",
    "\n",
    "**Here we are  interested in knowing how many of the patients received text messages reminding them of their appointment before the day comes**"
   ]
  },
  {
   "cell_type": "code",
   "execution_count": 480,
   "metadata": {},
   "outputs": [
    {
     "data": {
      "text/plain": [
       "0    75045\n",
       "1    35482\n",
       "Name: sms_received, dtype: int64"
      ]
     },
     "execution_count": 480,
     "metadata": {},
     "output_type": "execute_result"
    }
   ],
   "source": [
    "#check the distribution of the sms_received column\n",
    "df.sms_received.value_counts()"
   ]
  },
  {
   "cell_type": "code",
   "execution_count": 259,
   "metadata": {},
   "outputs": [
    {
     "data": {
      "image/png": "[encoded data removed]",
      "text/plain": [
       "<Figure size 1080x360 with 1 Axes>"
      ]
     },
     "metadata": {},
     "output_type": "display_data"
    }
   ],
   "source": [
    "#plot this distribution with a piechart\n",
    "sms_rec = df.sms_received.value_counts()\n",
    "\n",
    "mylabels = [\"Did Not Receive\", \"Received\"]\n",
    "myexplode = [0.05, 0]\n",
    "plt.subplots(figsize =(15,5))\n",
    "plt.pie(sms_rec, labels = mylabels, explode = myexplode)\n",
    "plt.title(\"Distribution of Patients Who Received SMS And Those Who Did Not\");\n",
    "plt.legend(title = \"SMS Status\")\n",
    "plt.show();"
   ]
  },
  {
   "cell_type": "markdown",
   "metadata": {},
   "source": [
    "**As can be seen from the chart above, quite a number of people did not receive a reminder SMS compared to those who did, with a percentage distribution of about `68% : 32%`**\n",
    "\n",
    "***As we progress through our EDA, we'll see if receiving an SMS reminder affects the patients' attendance at their appointments***"
   ]
  },
  {
   "cell_type": "markdown",
   "metadata": {},
   "source": [
    "### Exploring the `no_show` Column\n",
    "\n",
    "**Finally in this phase, we will find the total number of patients who finnaly showed up for their appointment and those who did not**\n",
    "\n",
    "**As we proceed in this project, We will determine the columns that had a significant influence on this column (i.e. the variables that had a significant impact on patients turning up for their scheduled appointments or not)**"
   ]
  },
  {
   "cell_type": "code",
   "execution_count": 481,
   "metadata": {},
   "outputs": [
    {
     "data": {
      "text/plain": [
       "No     88208\n",
       "Yes    22319\n",
       "Name: no_show, dtype: int64"
      ]
     },
     "execution_count": 481,
     "metadata": {},
     "output_type": "execute_result"
    }
   ],
   "source": [
    "#check the distribution of the no_show column\n",
    "df.no_show.value_counts()"
   ]
  },
  {
   "cell_type": "code",
   "execution_count": 262,
   "metadata": {},
   "outputs": [
    {
     "data": {
      "image/png": "[encoded data removed]",
      "text/plain": [
       "<Figure size 1080x360 with 1 Axes>"
      ]
     },
     "metadata": {},
     "output_type": "display_data"
    }
   ],
   "source": [
    "#plot this distribution with a piechart\n",
    "show = df.no_show.value_counts()\n",
    "\n",
    "mylabels = [\"Showed Up\", \"Did Not Show Up\"]\n",
    "myexplode = [0.05, 0]\n",
    "plt.subplots(figsize =(15,5))\n",
    "plt.pie(show, labels = mylabels, explode = myexplode)\n",
    "plt.title(\"Distribution of the Showing-Up of Patients For Their Scheduled Appointment\");\n",
    "plt.legend(title = \"Show Up Status\")\n",
    "plt.show();"
   ]
  },
  {
   "cell_type": "markdown",
   "metadata": {},
   "source": [
    "***As indicated in the chart above, the vast majority of people who planned medical appointments actually showed up. Only approximately `20%` of patients did not show up for their appointment, while about `80%` did.***\n",
    "\n",
    "\n",
    "**The next set of Explorations are aimed at determining the major factors responsible for these Patients showing up for their appointments or not.**"
   ]
  },
  {
   "cell_type": "markdown",
   "metadata": {},
   "source": [
    "### Research Question 1 :  Does the number of days of waiting affect showing up ?\n",
    "\n",
    "**For this question, we'll see if the number of days patients had to wait until their appointment eventually arrived had an impact on their attendance(i.e their showing up).**\n",
    "\n"
   ]
  },
  {
   "cell_type": "markdown",
   "metadata": {},
   "source": [
    "**Recall from a previous finding that the average number of days our patients had to wait before their appoinmnet day came was `10 days`. So we will consider `10 days` as the `normal` waiting day period.**\n",
    "\n",
    "***Now, let's see show-up status of patients whose waiting days were between `0 days to 10 days`***"
   ]
  },
  {
   "cell_type": "code",
   "execution_count": 482,
   "metadata": {
    "scrolled": false
   },
   "outputs": [
    {
     "data": {
      "text/html": [
       "<div>\n",
       "<style scoped>\n",
       "    .dataframe tbody tr th:only-of-type {\n",
       "        vertical-align: middle;\n",
       "    }\n",
       "\n",
       "    .dataframe tbody tr th {\n",
       "        vertical-align: top;\n",
       "    }\n",
       "\n",
       "    .dataframe thead th {\n",
       "        text-align: right;\n",
       "    }\n",
       "</style>\n",
       "<table border=\"1\" class=\"dataframe\">\n",
       "  <thead>\n",
       "    <tr style=\"text-align: right;\">\n",
       "      <th></th>\n",
       "      <th></th>\n",
       "      <th>gender</th>\n",
       "      <th>scheduledday</th>\n",
       "      <th>appointmentday</th>\n",
       "      <th>age</th>\n",
       "      <th>age_group</th>\n",
       "      <th>neighbourhood</th>\n",
       "      <th>scholarship</th>\n",
       "      <th>hipertension</th>\n",
       "      <th>diabetes</th>\n",
       "      <th>alcoholism</th>\n",
       "      <th>handicap</th>\n",
       "      <th>sms_received</th>\n",
       "    </tr>\n",
       "    <tr>\n",
       "      <th>waiting_days</th>\n",
       "      <th>no_show</th>\n",
       "      <th></th>\n",
       "      <th></th>\n",
       "      <th></th>\n",
       "      <th></th>\n",
       "      <th></th>\n",
       "      <th></th>\n",
       "      <th></th>\n",
       "      <th></th>\n",
       "      <th></th>\n",
       "      <th></th>\n",
       "      <th></th>\n",
       "      <th></th>\n",
       "    </tr>\n",
       "  </thead>\n",
       "  <tbody>\n",
       "    <tr>\n",
       "      <th rowspan=\"2\" valign=\"top\">0</th>\n",
       "      <th>No</th>\n",
       "      <td>36771</td>\n",
       "      <td>36771</td>\n",
       "      <td>36771</td>\n",
       "      <td>36771</td>\n",
       "      <td>35413</td>\n",
       "      <td>36771</td>\n",
       "      <td>36771</td>\n",
       "      <td>36771</td>\n",
       "      <td>36771</td>\n",
       "      <td>36771</td>\n",
       "      <td>36771</td>\n",
       "      <td>36771</td>\n",
       "    </tr>\n",
       "    <tr>\n",
       "      <th>Yes</th>\n",
       "      <td>1797</td>\n",
       "      <td>1797</td>\n",
       "      <td>1797</td>\n",
       "      <td>1797</td>\n",
       "      <td>1746</td>\n",
       "      <td>1797</td>\n",
       "      <td>1797</td>\n",
       "      <td>1797</td>\n",
       "      <td>1797</td>\n",
       "      <td>1797</td>\n",
       "      <td>1797</td>\n",
       "      <td>1797</td>\n",
       "    </tr>\n",
       "    <tr>\n",
       "      <th rowspan=\"2\" valign=\"top\">1</th>\n",
       "      <th>No</th>\n",
       "      <td>4100</td>\n",
       "      <td>4100</td>\n",
       "      <td>4100</td>\n",
       "      <td>4100</td>\n",
       "      <td>3953</td>\n",
       "      <td>4100</td>\n",
       "      <td>4100</td>\n",
       "      <td>4100</td>\n",
       "      <td>4100</td>\n",
       "      <td>4100</td>\n",
       "      <td>4100</td>\n",
       "      <td>4100</td>\n",
       "    </tr>\n",
       "    <tr>\n",
       "      <th>Yes</th>\n",
       "      <td>1113</td>\n",
       "      <td>1113</td>\n",
       "      <td>1113</td>\n",
       "      <td>1113</td>\n",
       "      <td>1075</td>\n",
       "      <td>1113</td>\n",
       "      <td>1113</td>\n",
       "      <td>1113</td>\n",
       "      <td>1113</td>\n",
       "      <td>1113</td>\n",
       "      <td>1113</td>\n",
       "      <td>1113</td>\n",
       "    </tr>\n",
       "    <tr>\n",
       "      <th>2</th>\n",
       "      <th>No</th>\n",
       "      <td>5123</td>\n",
       "      <td>5123</td>\n",
       "      <td>5123</td>\n",
       "      <td>5123</td>\n",
       "      <td>5052</td>\n",
       "      <td>5123</td>\n",
       "      <td>5123</td>\n",
       "      <td>5123</td>\n",
       "      <td>5123</td>\n",
       "      <td>5123</td>\n",
       "      <td>5123</td>\n",
       "      <td>5123</td>\n",
       "    </tr>\n",
       "    <tr>\n",
       "      <th>...</th>\n",
       "      <th>...</th>\n",
       "      <td>...</td>\n",
       "      <td>...</td>\n",
       "      <td>...</td>\n",
       "      <td>...</td>\n",
       "      <td>...</td>\n",
       "      <td>...</td>\n",
       "      <td>...</td>\n",
       "      <td>...</td>\n",
       "      <td>...</td>\n",
       "      <td>...</td>\n",
       "      <td>...</td>\n",
       "      <td>...</td>\n",
       "    </tr>\n",
       "    <tr>\n",
       "      <th>169</th>\n",
       "      <th>Yes</th>\n",
       "      <td>1</td>\n",
       "      <td>1</td>\n",
       "      <td>1</td>\n",
       "      <td>1</td>\n",
       "      <td>1</td>\n",
       "      <td>1</td>\n",
       "      <td>1</td>\n",
       "      <td>1</td>\n",
       "      <td>1</td>\n",
       "      <td>1</td>\n",
       "      <td>1</td>\n",
       "      <td>1</td>\n",
       "    </tr>\n",
       "    <tr>\n",
       "      <th rowspan=\"2\" valign=\"top\">176</th>\n",
       "      <th>No</th>\n",
       "      <td>10</td>\n",
       "      <td>10</td>\n",
       "      <td>10</td>\n",
       "      <td>10</td>\n",
       "      <td>10</td>\n",
       "      <td>10</td>\n",
       "      <td>10</td>\n",
       "      <td>10</td>\n",
       "      <td>10</td>\n",
       "      <td>10</td>\n",
       "      <td>10</td>\n",
       "      <td>10</td>\n",
       "    </tr>\n",
       "    <tr>\n",
       "      <th>Yes</th>\n",
       "      <td>6</td>\n",
       "      <td>6</td>\n",
       "      <td>6</td>\n",
       "      <td>6</td>\n",
       "      <td>6</td>\n",
       "      <td>6</td>\n",
       "      <td>6</td>\n",
       "      <td>6</td>\n",
       "      <td>6</td>\n",
       "      <td>6</td>\n",
       "      <td>6</td>\n",
       "      <td>6</td>\n",
       "    </tr>\n",
       "    <tr>\n",
       "      <th rowspan=\"2\" valign=\"top\">179</th>\n",
       "      <th>No</th>\n",
       "      <td>8</td>\n",
       "      <td>8</td>\n",
       "      <td>8</td>\n",
       "      <td>8</td>\n",
       "      <td>8</td>\n",
       "      <td>8</td>\n",
       "      <td>8</td>\n",
       "      <td>8</td>\n",
       "      <td>8</td>\n",
       "      <td>8</td>\n",
       "      <td>8</td>\n",
       "      <td>8</td>\n",
       "    </tr>\n",
       "    <tr>\n",
       "      <th>Yes</th>\n",
       "      <td>2</td>\n",
       "      <td>2</td>\n",
       "      <td>2</td>\n",
       "      <td>2</td>\n",
       "      <td>2</td>\n",
       "      <td>2</td>\n",
       "      <td>2</td>\n",
       "      <td>2</td>\n",
       "      <td>2</td>\n",
       "      <td>2</td>\n",
       "      <td>2</td>\n",
       "      <td>2</td>\n",
       "    </tr>\n",
       "  </tbody>\n",
       "</table>\n",
       "<p>235 rows × 12 columns</p>\n",
       "</div>"
      ],
      "text/plain": [
       "                      gender  scheduledday  appointmentday    age  age_group  \\\n",
       "waiting_days no_show                                                           \n",
       "0            No        36771         36771           36771  36771      35413   \n",
       "             Yes        1797          1797            1797   1797       1746   \n",
       "1            No         4100          4100            4100   4100       3953   \n",
       "             Yes        1113          1113            1113   1113       1075   \n",
       "2            No         5123          5123            5123   5123       5052   \n",
       "...                      ...           ...             ...    ...        ...   \n",
       "169          Yes           1             1               1      1          1   \n",
       "176          No           10            10              10     10         10   \n",
       "             Yes           6             6               6      6          6   \n",
       "179          No            8             8               8      8          8   \n",
       "             Yes           2             2               2      2          2   \n",
       "\n",
       "                      neighbourhood  scholarship  hipertension  diabetes  \\\n",
       "waiting_days no_show                                                       \n",
       "0            No               36771        36771         36771     36771   \n",
       "             Yes               1797         1797          1797      1797   \n",
       "1            No                4100         4100          4100      4100   \n",
       "             Yes               1113         1113          1113      1113   \n",
       "2            No                5123         5123          5123      5123   \n",
       "...                             ...          ...           ...       ...   \n",
       "169          Yes                  1            1             1         1   \n",
       "176          No                  10           10            10        10   \n",
       "             Yes                  6            6             6         6   \n",
       "179          No                   8            8             8         8   \n",
       "             Yes                  2            2             2         2   \n",
       "\n",
       "                      alcoholism  handicap  sms_received  \n",
       "waiting_days no_show                                      \n",
       "0            No            36771     36771         36771  \n",
       "             Yes            1797      1797          1797  \n",
       "1            No             4100      4100          4100  \n",
       "             Yes            1113      1113          1113  \n",
       "2            No             5123      5123          5123  \n",
       "...                          ...       ...           ...  \n",
       "169          Yes               1         1             1  \n",
       "176          No               10        10            10  \n",
       "             Yes               6         6             6  \n",
       "179          No                8         8             8  \n",
       "             Yes               2         2             2  \n",
       "\n",
       "[235 rows x 12 columns]"
      ]
     },
     "execution_count": 482,
     "metadata": {},
     "output_type": "execute_result"
    }
   ],
   "source": [
    "#use pandas groupby to check the show-up status of all waiting days\n",
    "df.groupby(['waiting_days', 'no_show']).count()"
   ]
  },
  {
   "cell_type": "markdown",
   "metadata": {},
   "source": [
    "**Since its a count, all values will be the same in all columns So, lets pick an arbitrary column 'age'**"
   ]
  },
  {
   "cell_type": "code",
   "execution_count": 483,
   "metadata": {},
   "outputs": [
    {
     "data": {
      "text/plain": [
       "waiting_days  no_show\n",
       "0             No         36771\n",
       "              Yes         1797\n",
       "1             No          4100\n",
       "              Yes         1113\n",
       "2             No          5123\n",
       "                         ...  \n",
       "169           Yes            1\n",
       "176           No            10\n",
       "              Yes            6\n",
       "179           No             8\n",
       "              Yes            2\n",
       "Name: age, Length: 235, dtype: int64"
      ]
     },
     "execution_count": 483,
     "metadata": {},
     "output_type": "execute_result"
    }
   ],
   "source": [
    "#pick an arbitrary column 'age'\n",
    "df.groupby(['waiting_days', 'no_show']).age.count()"
   ]
  },
  {
   "cell_type": "code",
   "execution_count": 484,
   "metadata": {},
   "outputs": [],
   "source": [
    "#assign to a variable name\n",
    "normal_waiting = df.groupby(['waiting_days', 'no_show']).age.count()"
   ]
  },
  {
   "cell_type": "markdown",
   "metadata": {},
   "source": [
    "**Since the values are not distributed evenly, its best to use proportions instead of counts**"
   ]
  },
  {
   "cell_type": "code",
   "execution_count": 485,
   "metadata": {},
   "outputs": [
    {
     "data": {
      "text/plain": [
       "waiting_days\n",
       "0      38568\n",
       "1       5213\n",
       "2       6725\n",
       "3       2737\n",
       "4       5290\n",
       "       ...  \n",
       "155       10\n",
       "162       11\n",
       "169        8\n",
       "176       16\n",
       "179       10\n",
       "Name: age, Length: 129, dtype: int64"
      ]
     },
     "execution_count": 485,
     "metadata": {},
     "output_type": "execute_result"
    }
   ],
   "source": [
    "#get the total counts for  waiting days using our arbitrary column 'age'\n",
    "df.groupby('waiting_days').age.count()"
   ]
  },
  {
   "cell_type": "code",
   "execution_count": 486,
   "metadata": {},
   "outputs": [],
   "source": [
    "#assign to a variable name 'total_waiting'\n",
    "total_waiting = df.groupby('waiting_days').age.count()"
   ]
  },
  {
   "cell_type": "code",
   "execution_count": 487,
   "metadata": {},
   "outputs": [
    {
     "data": {
      "text/plain": [
       "waiting_days  no_show\n",
       "0             No         0.953407\n",
       "              Yes        0.046593\n",
       "1             No         0.786495\n",
       "              Yes        0.213505\n",
       "2             No         0.761784\n",
       "                           ...   \n",
       "169           Yes        0.125000\n",
       "176           No         0.625000\n",
       "              Yes        0.375000\n",
       "179           No         0.800000\n",
       "              Yes        0.200000\n",
       "Name: age, Length: 235, dtype: float64"
      ]
     },
     "execution_count": 487,
     "metadata": {},
     "output_type": "execute_result"
    }
   ],
   "source": [
    "#get the proportion of waiting days and show-up status\n",
    "prop_waiting = normal_waiting / total_waiting\n",
    "prop_waiting"
   ]
  },
  {
   "cell_type": "code",
   "execution_count": 488,
   "metadata": {},
   "outputs": [
    {
     "data": {
      "text/plain": [
       "waiting_days  no_show\n",
       "0             No         0.953407\n",
       "              Yes        0.046593\n",
       "1             No         0.786495\n",
       "              Yes        0.213505\n",
       "2             No         0.761784\n",
       "              Yes        0.238216\n",
       "3             No         0.764706\n",
       "              Yes        0.235294\n",
       "4             No         0.767297\n",
       "              Yes        0.232703\n",
       "5             No         0.733903\n",
       "              Yes        0.266097\n",
       "6             No         0.752044\n",
       "              Yes        0.247956\n",
       "7             No         0.733184\n",
       "              Yes        0.266816\n",
       "8             No         0.712693\n",
       "              Yes        0.287307\n",
       "9             No         0.725857\n",
       "              Yes        0.274143\n",
       "10            No         0.683681\n",
       "              Yes        0.316319\n",
       "Name: age, dtype: float64"
      ]
     },
     "execution_count": 488,
     "metadata": {},
     "output_type": "execute_result"
    }
   ],
   "source": [
    "#we need only the ouput for 0 - 10 waiting days\n",
    "prop_waiting[0 : 22]"
   ]
  },
  {
   "cell_type": "code",
   "execution_count": 489,
   "metadata": {},
   "outputs": [],
   "source": [
    "#asssign to prop_waiting because that what we want to plot\n",
    "prop_waiting = prop_waiting[0 : 22]"
   ]
  },
  {
   "cell_type": "code",
   "execution_count": 555,
   "metadata": {},
   "outputs": [
    {
     "data": {
      "image/png": "[encoded data removed]",
      "text/plain": [
       "<Figure size 1080x360 with 1 Axes>"
      ]
     },
     "metadata": {
      "needs_background": "light"
     },
     "output_type": "display_data"
    }
   ],
   "source": [
    "#now, plot a clustered column chart to check the proportion of the patients show up status based on the waiting days\n",
    "prop_waiting.unstack().plot(kind='bar', figsize =(15, 5), color =('#4B0082','#FF69B4'))\n",
    "plt.title(\"Proportion Of Patients Show-up-Status based on Number of Waiting Days\")\n",
    "plt.xlabel('Waiting Days')\n",
    "plt.ylabel(\"Proportion of Patients\")\n",
    "plt.legend(labels = ['showed up', 'did not show up']);\n",
    "plt.xticks(rotation = 0)\n",
    "plt.show();\n"
   ]
  },
  {
   "cell_type": "markdown",
   "metadata": {},
   "source": [
    "**The preceding graph is pretty clear in that it indicates that as the number of waiting days increased, so did the number of patients who failed to show up for their appointments. This suggests that the number of waiting days has a significant influence on whether or not a patient shows up for his or her appointment.**\n",
    "\n",
    "\n",
    "***To analyze this further, let's assume  our normaol waiting days to be `20 days` rather than the average `(10 days)`. Let's see whether this pattern persists***"
   ]
  },
  {
   "cell_type": "code",
   "execution_count": 491,
   "metadata": {},
   "outputs": [
    {
     "data": {
      "text/plain": [
       "waiting_days  no_show\n",
       "0             No         0.953407\n",
       "              Yes        0.046593\n",
       "1             No         0.786495\n",
       "              Yes        0.213505\n",
       "2             No         0.761784\n",
       "                           ...   \n",
       "169           Yes        0.125000\n",
       "176           No         0.625000\n",
       "              Yes        0.375000\n",
       "179           No         0.800000\n",
       "              Yes        0.200000\n",
       "Name: age, Length: 235, dtype: float64"
      ]
     },
     "execution_count": 491,
     "metadata": {},
     "output_type": "execute_result"
    }
   ],
   "source": [
    "#let's get the proportion again\n",
    "prop_waiting1 = normal_waiting / total_waiting\n",
    "prop_waiting1"
   ]
  },
  {
   "cell_type": "code",
   "execution_count": 302,
   "metadata": {},
   "outputs": [
    {
     "data": {
      "text/plain": [
       "waiting_days  no_show\n",
       "0             No         0.953407\n",
       "              Yes        0.046593\n",
       "1             No         0.786495\n",
       "              Yes        0.213505\n",
       "2             No         0.761784\n",
       "              Yes        0.238216\n",
       "3             No         0.764706\n",
       "              Yes        0.235294\n",
       "4             No         0.767297\n",
       "              Yes        0.232703\n",
       "5             No         0.733903\n",
       "              Yes        0.266097\n",
       "6             No         0.752044\n",
       "              Yes        0.247956\n",
       "7             No         0.733184\n",
       "              Yes        0.266816\n",
       "8             No         0.712693\n",
       "              Yes        0.287307\n",
       "9             No         0.725857\n",
       "              Yes        0.274143\n",
       "10            No         0.683681\n",
       "              Yes        0.316319\n",
       "11            No         0.683891\n",
       "              Yes        0.316109\n",
       "12            No         0.683408\n",
       "              Yes        0.316592\n",
       "13            No         0.681332\n",
       "              Yes        0.318668\n",
       "14            No         0.686577\n",
       "              Yes        0.313423\n",
       "15            No         0.666001\n",
       "              Yes        0.333999\n",
       "16            No         0.695048\n",
       "              Yes        0.304952\n",
       "17            No         0.683830\n",
       "              Yes        0.316170\n",
       "18            No         0.694417\n",
       "              Yes        0.305583\n",
       "19            No         0.652299\n",
       "              Yes        0.347701\n",
       "20            No         0.656276\n",
       "              Yes        0.343724\n",
       "Name: age, dtype: float64"
      ]
     },
     "execution_count": 302,
     "metadata": {},
     "output_type": "execute_result"
    }
   ],
   "source": [
    "#now, we need the ouput for 0 - 20 waiting days\n",
    "prop_waiting1[0:42]"
   ]
  },
  {
   "cell_type": "code",
   "execution_count": 492,
   "metadata": {},
   "outputs": [],
   "source": [
    "#assign to the variable name 'Prop_waiting1'\n",
    "prop_waiting1 = prop_waiting1[0:42]"
   ]
  },
  {
   "cell_type": "code",
   "execution_count": 557,
   "metadata": {},
   "outputs": [
    {
     "data": {
      "image/png": "[encoded data removed]",
      "text/plain": [
       "<Figure size 1296x432 with 1 Axes>"
      ]
     },
     "metadata": {
      "needs_background": "light"
     },
     "output_type": "display_data"
    }
   ],
   "source": [
    "#create another clustered column chart to check the \n",
    "prop_waiting1.unstack().plot(kind='bar', figsize =(18, 6), color = ('#ADD8E6','#F08080'))\n",
    "plt.title(\"Proportion Of Patients Show-up-Status based on Number of Waiting Days\")\n",
    "plt.xlabel('Waiting Days')\n",
    "plt.ylabel(\"Proportion of Patients\")\n",
    "plt.legend(labels = ['showed up', 'did not show up']);\n",
    "plt.xticks(rotation = 0)\n",
    "plt.show();"
   ]
  },
  {
   "cell_type": "markdown",
   "metadata": {},
   "source": [
    "**What we see here is a validation of our initial plot, where we assumed the normal waiting days to be `10 days`. Now that the normal waiting days have been extended to `20 days`, the trend has persisted, i.e., as the number of waiting days increased, the number of patients who failed to show up for their appointments increased.**\n",
    "\n",
    "***Hence to answer our question, \"YES, The Number of Waiting Days affects/determines the Showing up of patients for their Medical appointments\"*** "
   ]
  },
  {
   "cell_type": "markdown",
   "metadata": {},
   "source": [
    "### Research Question 2 :  Does Patients age affect showing up? "
   ]
  },
  {
   "cell_type": "markdown",
   "metadata": {},
   "source": [
    "*For this question, we could have used the ages column but since the data points are so much our plot won't be organized at all hence our `age_group` column will come in handy to help answer this question*\n",
    "\n",
    "***Now, let's look at the show-up status of the different age groups***"
   ]
  },
  {
   "cell_type": "code",
   "execution_count": 494,
   "metadata": {},
   "outputs": [
    {
     "data": {
      "text/html": [
       "<div>\n",
       "<style scoped>\n",
       "    .dataframe tbody tr th:only-of-type {\n",
       "        vertical-align: middle;\n",
       "    }\n",
       "\n",
       "    .dataframe tbody tr th {\n",
       "        vertical-align: top;\n",
       "    }\n",
       "\n",
       "    .dataframe thead th {\n",
       "        text-align: right;\n",
       "    }\n",
       "</style>\n",
       "<table border=\"1\" class=\"dataframe\">\n",
       "  <thead>\n",
       "    <tr style=\"text-align: right;\">\n",
       "      <th></th>\n",
       "      <th></th>\n",
       "      <th>gender</th>\n",
       "      <th>scheduledday</th>\n",
       "      <th>appointmentday</th>\n",
       "      <th>waiting_days</th>\n",
       "      <th>age</th>\n",
       "      <th>neighbourhood</th>\n",
       "      <th>scholarship</th>\n",
       "      <th>hipertension</th>\n",
       "      <th>diabetes</th>\n",
       "      <th>alcoholism</th>\n",
       "      <th>handicap</th>\n",
       "      <th>sms_received</th>\n",
       "    </tr>\n",
       "    <tr>\n",
       "      <th>age_group</th>\n",
       "      <th>no_show</th>\n",
       "      <th></th>\n",
       "      <th></th>\n",
       "      <th></th>\n",
       "      <th></th>\n",
       "      <th></th>\n",
       "      <th></th>\n",
       "      <th></th>\n",
       "      <th></th>\n",
       "      <th></th>\n",
       "      <th></th>\n",
       "      <th></th>\n",
       "      <th></th>\n",
       "    </tr>\n",
       "  </thead>\n",
       "  <tbody>\n",
       "    <tr>\n",
       "      <th rowspan=\"2\" valign=\"top\">0-5</th>\n",
       "      <th>No</th>\n",
       "      <td>6646</td>\n",
       "      <td>6646</td>\n",
       "      <td>6646</td>\n",
       "      <td>6646</td>\n",
       "      <td>6646</td>\n",
       "      <td>6646</td>\n",
       "      <td>6646</td>\n",
       "      <td>6646</td>\n",
       "      <td>6646</td>\n",
       "      <td>6646</td>\n",
       "      <td>6646</td>\n",
       "      <td>6646</td>\n",
       "    </tr>\n",
       "    <tr>\n",
       "      <th>Yes</th>\n",
       "      <td>1546</td>\n",
       "      <td>1546</td>\n",
       "      <td>1546</td>\n",
       "      <td>1546</td>\n",
       "      <td>1546</td>\n",
       "      <td>1546</td>\n",
       "      <td>1546</td>\n",
       "      <td>1546</td>\n",
       "      <td>1546</td>\n",
       "      <td>1546</td>\n",
       "      <td>1546</td>\n",
       "      <td>1546</td>\n",
       "    </tr>\n",
       "    <tr>\n",
       "      <th rowspan=\"2\" valign=\"top\">6-10</th>\n",
       "      <th>No</th>\n",
       "      <td>5415</td>\n",
       "      <td>5415</td>\n",
       "      <td>5415</td>\n",
       "      <td>5415</td>\n",
       "      <td>5415</td>\n",
       "      <td>5415</td>\n",
       "      <td>5415</td>\n",
       "      <td>5415</td>\n",
       "      <td>5415</td>\n",
       "      <td>5415</td>\n",
       "      <td>5415</td>\n",
       "      <td>5415</td>\n",
       "    </tr>\n",
       "    <tr>\n",
       "      <th>Yes</th>\n",
       "      <td>1603</td>\n",
       "      <td>1603</td>\n",
       "      <td>1603</td>\n",
       "      <td>1603</td>\n",
       "      <td>1603</td>\n",
       "      <td>1603</td>\n",
       "      <td>1603</td>\n",
       "      <td>1603</td>\n",
       "      <td>1603</td>\n",
       "      <td>1603</td>\n",
       "      <td>1603</td>\n",
       "      <td>1603</td>\n",
       "    </tr>\n",
       "    <tr>\n",
       "      <th rowspan=\"2\" valign=\"top\">11-17</th>\n",
       "      <th>No</th>\n",
       "      <td>6421</td>\n",
       "      <td>6421</td>\n",
       "      <td>6421</td>\n",
       "      <td>6421</td>\n",
       "      <td>6421</td>\n",
       "      <td>6421</td>\n",
       "      <td>6421</td>\n",
       "      <td>6421</td>\n",
       "      <td>6421</td>\n",
       "      <td>6421</td>\n",
       "      <td>6421</td>\n",
       "      <td>6421</td>\n",
       "    </tr>\n",
       "    <tr>\n",
       "      <th>Yes</th>\n",
       "      <td>2209</td>\n",
       "      <td>2209</td>\n",
       "      <td>2209</td>\n",
       "      <td>2209</td>\n",
       "      <td>2209</td>\n",
       "      <td>2209</td>\n",
       "      <td>2209</td>\n",
       "      <td>2209</td>\n",
       "      <td>2209</td>\n",
       "      <td>2209</td>\n",
       "      <td>2209</td>\n",
       "      <td>2209</td>\n",
       "    </tr>\n",
       "    <tr>\n",
       "      <th rowspan=\"2\" valign=\"top\">18-35</th>\n",
       "      <th>No</th>\n",
       "      <td>19521</td>\n",
       "      <td>19521</td>\n",
       "      <td>19521</td>\n",
       "      <td>19521</td>\n",
       "      <td>19521</td>\n",
       "      <td>19521</td>\n",
       "      <td>19521</td>\n",
       "      <td>19521</td>\n",
       "      <td>19521</td>\n",
       "      <td>19521</td>\n",
       "      <td>19521</td>\n",
       "      <td>19521</td>\n",
       "    </tr>\n",
       "    <tr>\n",
       "      <th>Yes</th>\n",
       "      <td>6103</td>\n",
       "      <td>6103</td>\n",
       "      <td>6103</td>\n",
       "      <td>6103</td>\n",
       "      <td>6103</td>\n",
       "      <td>6103</td>\n",
       "      <td>6103</td>\n",
       "      <td>6103</td>\n",
       "      <td>6103</td>\n",
       "      <td>6103</td>\n",
       "      <td>6103</td>\n",
       "      <td>6103</td>\n",
       "    </tr>\n",
       "    <tr>\n",
       "      <th rowspan=\"2\" valign=\"top\">36-55</th>\n",
       "      <th>No</th>\n",
       "      <td>24103</td>\n",
       "      <td>24103</td>\n",
       "      <td>24103</td>\n",
       "      <td>24103</td>\n",
       "      <td>24103</td>\n",
       "      <td>24103</td>\n",
       "      <td>24103</td>\n",
       "      <td>24103</td>\n",
       "      <td>24103</td>\n",
       "      <td>24103</td>\n",
       "      <td>24103</td>\n",
       "      <td>24103</td>\n",
       "    </tr>\n",
       "    <tr>\n",
       "      <th>Yes</th>\n",
       "      <td>5916</td>\n",
       "      <td>5916</td>\n",
       "      <td>5916</td>\n",
       "      <td>5916</td>\n",
       "      <td>5916</td>\n",
       "      <td>5916</td>\n",
       "      <td>5916</td>\n",
       "      <td>5916</td>\n",
       "      <td>5916</td>\n",
       "      <td>5916</td>\n",
       "      <td>5916</td>\n",
       "      <td>5916</td>\n",
       "    </tr>\n",
       "    <tr>\n",
       "      <th rowspan=\"2\" valign=\"top\">56-75</th>\n",
       "      <th>No</th>\n",
       "      <td>18679</td>\n",
       "      <td>18679</td>\n",
       "      <td>18679</td>\n",
       "      <td>18679</td>\n",
       "      <td>18679</td>\n",
       "      <td>18679</td>\n",
       "      <td>18679</td>\n",
       "      <td>18679</td>\n",
       "      <td>18679</td>\n",
       "      <td>18679</td>\n",
       "      <td>18679</td>\n",
       "      <td>18679</td>\n",
       "    </tr>\n",
       "    <tr>\n",
       "      <th>Yes</th>\n",
       "      <td>3433</td>\n",
       "      <td>3433</td>\n",
       "      <td>3433</td>\n",
       "      <td>3433</td>\n",
       "      <td>3433</td>\n",
       "      <td>3433</td>\n",
       "      <td>3433</td>\n",
       "      <td>3433</td>\n",
       "      <td>3433</td>\n",
       "      <td>3433</td>\n",
       "      <td>3433</td>\n",
       "      <td>3433</td>\n",
       "    </tr>\n",
       "    <tr>\n",
       "      <th rowspan=\"2\" valign=\"top\">76+</th>\n",
       "      <th>No</th>\n",
       "      <td>4522</td>\n",
       "      <td>4522</td>\n",
       "      <td>4522</td>\n",
       "      <td>4522</td>\n",
       "      <td>4522</td>\n",
       "      <td>4522</td>\n",
       "      <td>4522</td>\n",
       "      <td>4522</td>\n",
       "      <td>4522</td>\n",
       "      <td>4522</td>\n",
       "      <td>4522</td>\n",
       "      <td>4522</td>\n",
       "    </tr>\n",
       "    <tr>\n",
       "      <th>Yes</th>\n",
       "      <td>870</td>\n",
       "      <td>870</td>\n",
       "      <td>870</td>\n",
       "      <td>870</td>\n",
       "      <td>870</td>\n",
       "      <td>870</td>\n",
       "      <td>870</td>\n",
       "      <td>870</td>\n",
       "      <td>870</td>\n",
       "      <td>870</td>\n",
       "      <td>870</td>\n",
       "      <td>870</td>\n",
       "    </tr>\n",
       "  </tbody>\n",
       "</table>\n",
       "</div>"
      ],
      "text/plain": [
       "                   gender  scheduledday  appointmentday  waiting_days    age  \\\n",
       "age_group no_show                                                              \n",
       "0-5       No         6646          6646            6646          6646   6646   \n",
       "          Yes        1546          1546            1546          1546   1546   \n",
       "6-10      No         5415          5415            5415          5415   5415   \n",
       "          Yes        1603          1603            1603          1603   1603   \n",
       "11-17     No         6421          6421            6421          6421   6421   \n",
       "          Yes        2209          2209            2209          2209   2209   \n",
       "18-35     No        19521         19521           19521         19521  19521   \n",
       "          Yes        6103          6103            6103          6103   6103   \n",
       "36-55     No        24103         24103           24103         24103  24103   \n",
       "          Yes        5916          5916            5916          5916   5916   \n",
       "56-75     No        18679         18679           18679         18679  18679   \n",
       "          Yes        3433          3433            3433          3433   3433   \n",
       "76+       No         4522          4522            4522          4522   4522   \n",
       "          Yes         870           870             870           870    870   \n",
       "\n",
       "                   neighbourhood  scholarship  hipertension  diabetes  \\\n",
       "age_group no_show                                                       \n",
       "0-5       No                6646         6646          6646      6646   \n",
       "          Yes               1546         1546          1546      1546   \n",
       "6-10      No                5415         5415          5415      5415   \n",
       "          Yes               1603         1603          1603      1603   \n",
       "11-17     No                6421         6421          6421      6421   \n",
       "          Yes               2209         2209          2209      2209   \n",
       "18-35     No               19521        19521         19521     19521   \n",
       "          Yes               6103         6103          6103      6103   \n",
       "36-55     No               24103        24103         24103     24103   \n",
       "          Yes               5916         5916          5916      5916   \n",
       "56-75     No               18679        18679         18679     18679   \n",
       "          Yes               3433         3433          3433      3433   \n",
       "76+       No                4522         4522          4522      4522   \n",
       "          Yes                870          870           870       870   \n",
       "\n",
       "                   alcoholism  handicap  sms_received  \n",
       "age_group no_show                                      \n",
       "0-5       No             6646      6646          6646  \n",
       "          Yes            1546      1546          1546  \n",
       "6-10      No             5415      5415          5415  \n",
       "          Yes            1603      1603          1603  \n",
       "11-17     No             6421      6421          6421  \n",
       "          Yes            2209      2209          2209  \n",
       "18-35     No            19521     19521         19521  \n",
       "          Yes            6103      6103          6103  \n",
       "36-55     No            24103     24103         24103  \n",
       "          Yes            5916      5916          5916  \n",
       "56-75     No            18679     18679         18679  \n",
       "          Yes            3433      3433          3433  \n",
       "76+       No             4522      4522          4522  \n",
       "          Yes             870       870           870  "
      ]
     },
     "execution_count": 494,
     "metadata": {},
     "output_type": "execute_result"
    }
   ],
   "source": [
    "#use pandas groupby to check the show-up status of all age groups\n",
    "df.groupby(['age_group', 'no_show']).count()"
   ]
  },
  {
   "cell_type": "markdown",
   "metadata": {},
   "source": [
    "**Since its a count, all values will be the same in all columns So, lets pick an arbitrary column 'age'**"
   ]
  },
  {
   "cell_type": "code",
   "execution_count": 495,
   "metadata": {},
   "outputs": [
    {
     "data": {
      "text/plain": [
       "age_group  no_show\n",
       "0-5        No          6646\n",
       "           Yes         1546\n",
       "6-10       No          5415\n",
       "           Yes         1603\n",
       "11-17      No          6421\n",
       "           Yes         2209\n",
       "18-35      No         19521\n",
       "           Yes         6103\n",
       "36-55      No         24103\n",
       "           Yes         5916\n",
       "56-75      No         18679\n",
       "           Yes         3433\n",
       "76+        No          4522\n",
       "           Yes          870\n",
       "Name: age, dtype: int64"
      ]
     },
     "execution_count": 495,
     "metadata": {},
     "output_type": "execute_result"
    }
   ],
   "source": [
    "#pick an arbitrary column 'age'\n",
    "df.groupby(['age_group', 'no_show']).age.count()"
   ]
  },
  {
   "cell_type": "code",
   "execution_count": 496,
   "metadata": {},
   "outputs": [],
   "source": [
    "#assign to a variable name\n",
    "age_grp = df.groupby(['age_group', 'no_show']).age.count()"
   ]
  },
  {
   "cell_type": "markdown",
   "metadata": {},
   "source": [
    "**Since the values are not distributed evenly, its best to use proportions instead of counts**"
   ]
  },
  {
   "cell_type": "code",
   "execution_count": 497,
   "metadata": {},
   "outputs": [
    {
     "data": {
      "text/plain": [
       "age_group\n",
       "0-5       8192\n",
       "6-10      7018\n",
       "11-17     8630\n",
       "18-35    25624\n",
       "36-55    30019\n",
       "56-75    22112\n",
       "76+       5392\n",
       "Name: age, dtype: int64"
      ]
     },
     "execution_count": 497,
     "metadata": {},
     "output_type": "execute_result"
    }
   ],
   "source": [
    "#get the total counts for  waiting days using our arbitrary column 'age' and assign to a variable name \n",
    "tot_age_grp = df.groupby('age_group').age.count()\n",
    "tot_age_grp"
   ]
  },
  {
   "cell_type": "code",
   "execution_count": 498,
   "metadata": {},
   "outputs": [
    {
     "data": {
      "text/plain": [
       "age_group  no_show\n",
       "0-5        No         0.811279\n",
       "           Yes        0.188721\n",
       "6-10       No         0.771587\n",
       "           Yes        0.228413\n",
       "11-17      No         0.744032\n",
       "           Yes        0.255968\n",
       "18-35      No         0.761825\n",
       "           Yes        0.238175\n",
       "36-55      No         0.802925\n",
       "           Yes        0.197075\n",
       "56-75      No         0.844745\n",
       "           Yes        0.155255\n",
       "76+        No         0.838650\n",
       "           Yes        0.161350\n",
       "Name: age, dtype: float64"
      ]
     },
     "execution_count": 498,
     "metadata": {},
     "output_type": "execute_result"
    }
   ],
   "source": [
    "#get the proportion af age_group and show up status\n",
    "prop_age_grp = age_grp / tot_age_grp\n",
    "prop_age_grp"
   ]
  },
  {
   "cell_type": "code",
   "execution_count": 558,
   "metadata": {},
   "outputs": [
    {
     "data": {
      "image/png": "[encoded data removed]",
      "text/plain": [
       "<Figure size 1080x360 with 1 Axes>"
      ]
     },
     "metadata": {
      "needs_background": "light"
     },
     "output_type": "display_data"
    }
   ],
   "source": [
    "#now, plot a clustered column chart to check the proportion of the patients show up status based on the age groups\n",
    "prop_age_grp.unstack().plot(kind='bar', figsize =(15, 5), color =('#90EE90','#FFA07A'))\n",
    "plt.title(\"Proportion Of Patients Show-up-Status based on Age Groups\")\n",
    "plt.xlabel('Age Groups')\n",
    "plt.ylabel(\"Proportion of Patients\")\n",
    "plt.legend(labels = ['showed up', 'did not show up']);\n",
    "plt.xticks(rotation = 0)\n",
    "plt.show();\n"
   ]
  },
  {
   "cell_type": "markdown",
   "metadata": {},
   "source": [
    "**The plot shows us that for patients from the ages of `0 to 17`, there is an increase in the proportions of those who do not keep up/show up for their appointment but for patients from the ages of `18 to 35` the reverse is the case, there is an increase in the proportions of patients who show up for their appointment and a reduction in proportion of patients who do not show up for their medical appointments**\n",
    "\n",
    "Below is an assumption of the reason for the above discovery (please note that this is tentative)\n",
    "\n",
    "> ***People between the ages of 0 and 17 are young, agile, and have fewer health issues issues and complications; as a result, they do not see a need to be responsible with their health or take their health seriously due to their mostly healthy state. Whereas, the other age groups  are  those ages when people begin to notice signs of health issues and complications; as a result, they see a great need to be very responsible with their health. They take every medical appointment seriously at this age, and they understand the importance of attending every medical appointment they have scheduled.***\n",
    "\n",
    "***Hence, to answer our question, YES, Age does affect the showing up of patients for their Medical Appointments***"
   ]
  },
  {
   "cell_type": "markdown",
   "metadata": {},
   "source": [
    "### Research Question 3 : Does being handicapped affect  showing up or not ?\n",
    "\n",
    "***Here we will explore the show up status of patients who are handcaped compared to those who are not***"
   ]
  },
  {
   "cell_type": "code",
   "execution_count": 500,
   "metadata": {},
   "outputs": [
    {
     "data": {
      "text/html": [
       "<div>\n",
       "<style scoped>\n",
       "    .dataframe tbody tr th:only-of-type {\n",
       "        vertical-align: middle;\n",
       "    }\n",
       "\n",
       "    .dataframe tbody tr th {\n",
       "        vertical-align: top;\n",
       "    }\n",
       "\n",
       "    .dataframe thead th {\n",
       "        text-align: right;\n",
       "    }\n",
       "</style>\n",
       "<table border=\"1\" class=\"dataframe\">\n",
       "  <thead>\n",
       "    <tr style=\"text-align: right;\">\n",
       "      <th></th>\n",
       "      <th></th>\n",
       "      <th>gender</th>\n",
       "      <th>scheduledday</th>\n",
       "      <th>appointmentday</th>\n",
       "      <th>waiting_days</th>\n",
       "      <th>age</th>\n",
       "      <th>age_group</th>\n",
       "      <th>neighbourhood</th>\n",
       "      <th>scholarship</th>\n",
       "      <th>hipertension</th>\n",
       "      <th>diabetes</th>\n",
       "      <th>alcoholism</th>\n",
       "      <th>sms_received</th>\n",
       "    </tr>\n",
       "    <tr>\n",
       "      <th>handicap</th>\n",
       "      <th>no_show</th>\n",
       "      <th></th>\n",
       "      <th></th>\n",
       "      <th></th>\n",
       "      <th></th>\n",
       "      <th></th>\n",
       "      <th></th>\n",
       "      <th></th>\n",
       "      <th></th>\n",
       "      <th></th>\n",
       "      <th></th>\n",
       "      <th></th>\n",
       "      <th></th>\n",
       "    </tr>\n",
       "  </thead>\n",
       "  <tbody>\n",
       "    <tr>\n",
       "      <th rowspan=\"2\" valign=\"top\">0</th>\n",
       "      <th>No</th>\n",
       "      <td>86374</td>\n",
       "      <td>86374</td>\n",
       "      <td>86374</td>\n",
       "      <td>86374</td>\n",
       "      <td>86374</td>\n",
       "      <td>83474</td>\n",
       "      <td>86374</td>\n",
       "      <td>86374</td>\n",
       "      <td>86374</td>\n",
       "      <td>86374</td>\n",
       "      <td>86374</td>\n",
       "      <td>86374</td>\n",
       "    </tr>\n",
       "    <tr>\n",
       "      <th>Yes</th>\n",
       "      <td>21912</td>\n",
       "      <td>21912</td>\n",
       "      <td>21912</td>\n",
       "      <td>21912</td>\n",
       "      <td>21912</td>\n",
       "      <td>21273</td>\n",
       "      <td>21912</td>\n",
       "      <td>21912</td>\n",
       "      <td>21912</td>\n",
       "      <td>21912</td>\n",
       "      <td>21912</td>\n",
       "      <td>21912</td>\n",
       "    </tr>\n",
       "    <tr>\n",
       "      <th rowspan=\"2\" valign=\"top\">1</th>\n",
       "      <th>No</th>\n",
       "      <td>1834</td>\n",
       "      <td>1834</td>\n",
       "      <td>1834</td>\n",
       "      <td>1834</td>\n",
       "      <td>1834</td>\n",
       "      <td>1833</td>\n",
       "      <td>1834</td>\n",
       "      <td>1834</td>\n",
       "      <td>1834</td>\n",
       "      <td>1834</td>\n",
       "      <td>1834</td>\n",
       "      <td>1834</td>\n",
       "    </tr>\n",
       "    <tr>\n",
       "      <th>Yes</th>\n",
       "      <td>407</td>\n",
       "      <td>407</td>\n",
       "      <td>407</td>\n",
       "      <td>407</td>\n",
       "      <td>407</td>\n",
       "      <td>407</td>\n",
       "      <td>407</td>\n",
       "      <td>407</td>\n",
       "      <td>407</td>\n",
       "      <td>407</td>\n",
       "      <td>407</td>\n",
       "      <td>407</td>\n",
       "    </tr>\n",
       "  </tbody>\n",
       "</table>\n",
       "</div>"
      ],
      "text/plain": [
       "                  gender  scheduledday  appointmentday  waiting_days    age  \\\n",
       "handicap no_show                                                              \n",
       "0        No        86374         86374           86374         86374  86374   \n",
       "         Yes       21912         21912           21912         21912  21912   \n",
       "1        No         1834          1834            1834          1834   1834   \n",
       "         Yes         407           407             407           407    407   \n",
       "\n",
       "                  age_group  neighbourhood  scholarship  hipertension  \\\n",
       "handicap no_show                                                        \n",
       "0        No           83474          86374        86374         86374   \n",
       "         Yes          21273          21912        21912         21912   \n",
       "1        No            1833           1834         1834          1834   \n",
       "         Yes            407            407          407           407   \n",
       "\n",
       "                  diabetes  alcoholism  sms_received  \n",
       "handicap no_show                                      \n",
       "0        No          86374       86374         86374  \n",
       "         Yes         21912       21912         21912  \n",
       "1        No           1834        1834          1834  \n",
       "         Yes           407         407           407  "
      ]
     },
     "execution_count": 500,
     "metadata": {},
     "output_type": "execute_result"
    }
   ],
   "source": [
    "#use pandas groupby to check the show-up status of the handicap column\n",
    "df.groupby(['handicap', 'no_show']).count()"
   ]
  },
  {
   "cell_type": "markdown",
   "metadata": {},
   "source": [
    "**Since its a count, all values will be the same in all columns So, lets pick an arbitrary column 'age'**"
   ]
  },
  {
   "cell_type": "code",
   "execution_count": 501,
   "metadata": {},
   "outputs": [
    {
     "data": {
      "text/plain": [
       "handicap  no_show\n",
       "0         No         86374\n",
       "          Yes        21912\n",
       "1         No          1834\n",
       "          Yes          407\n",
       "Name: age, dtype: int64"
      ]
     },
     "execution_count": 501,
     "metadata": {},
     "output_type": "execute_result"
    }
   ],
   "source": [
    "#Pick an arbitrary column 'age' and assign to a variable name\n",
    "hand = df.groupby(['handicap', 'no_show']).age.count()\n",
    "hand"
   ]
  },
  {
   "cell_type": "markdown",
   "metadata": {},
   "source": [
    "**Since the values are not distributed evenly, its best to use proportions instead of counts**"
   ]
  },
  {
   "cell_type": "code",
   "execution_count": 502,
   "metadata": {},
   "outputs": [
    {
     "data": {
      "text/plain": [
       "handicap\n",
       "0    108286\n",
       "1      2241\n",
       "Name: age, dtype: int64"
      ]
     },
     "execution_count": 502,
     "metadata": {},
     "output_type": "execute_result"
    }
   ],
   "source": [
    "#get the total counts for handicaps using our arbitrary column 'age' and assign to a variable name \n",
    "tot_hand = df.groupby('handicap').age.count()\n",
    "tot_hand"
   ]
  },
  {
   "cell_type": "code",
   "execution_count": 503,
   "metadata": {},
   "outputs": [
    {
     "data": {
      "text/plain": [
       "handicap  no_show\n",
       "0         No         0.797647\n",
       "          Yes        0.202353\n",
       "1         No         0.818385\n",
       "          Yes        0.181615\n",
       "Name: age, dtype: float64"
      ]
     },
     "execution_count": 503,
     "metadata": {},
     "output_type": "execute_result"
    }
   ],
   "source": [
    "#calculate the proportion of handicaps grouped by show up status\n",
    "prop_hand = hand / tot_hand\n",
    "prop_hand"
   ]
  },
  {
   "cell_type": "code",
   "execution_count": 567,
   "metadata": {},
   "outputs": [
    {
     "data": {
      "image/png": "[encoded data removed]",
      "text/plain": [
       "<Figure size 720x360 with 1 Axes>"
      ]
     },
     "metadata": {
      "needs_background": "light"
     },
     "output_type": "display_data"
    }
   ],
   "source": [
    "#now, plot a clustered column chart to check the proportion of the patients show up status based on whwther they were handicaped or not\n",
    "prop_hand.unstack().plot(kind='bar', figsize =(10, 5), color = ('#20B2AA', '#FF6347'))\n",
    "plt.title(\"Proportion Of Patients Show-up-Status based on Their Handicap Status\")\n",
    "plt.xlabel('Handicap Status')\n",
    "plt.ylabel(\"Proportion of Patients\")\n",
    "plt.legend(labels = ['showed up', 'did not show up']);\n",
    "plt.xticks(rotation = 0)\n",
    "plt.show();"
   ]
  },
  {
   "cell_type": "markdown",
   "metadata": {},
   "source": [
    "`value 0 represent patients who were not handicapped`\n",
    "\n",
    "`Value 1 represents Patients who were handicapped`\n",
    "\n",
    "**The plot above shows us that the patients who were handcicaped showed up for their appointments more than those who were not handicapped and those who were not handicapped missed more appointments than those who were handicapped**\n",
    "\n",
    "***Hence to answer our question \"Being Handicaped Does not necessarily affect the showing up of Patients for their medical appointments\"***"
   ]
  },
  {
   "cell_type": "markdown",
   "metadata": {},
   "source": [
    "### Research Question 4 : Does being Diabetic affect  showing up or not ?\n",
    "\n",
    "***Here we will explore the show up status of patients who are diabetic compared to those who are not***"
   ]
  },
  {
   "cell_type": "code",
   "execution_count": 505,
   "metadata": {},
   "outputs": [
    {
     "data": {
      "text/html": [
       "<div>\n",
       "<style scoped>\n",
       "    .dataframe tbody tr th:only-of-type {\n",
       "        vertical-align: middle;\n",
       "    }\n",
       "\n",
       "    .dataframe tbody tr th {\n",
       "        vertical-align: top;\n",
       "    }\n",
       "\n",
       "    .dataframe thead th {\n",
       "        text-align: right;\n",
       "    }\n",
       "</style>\n",
       "<table border=\"1\" class=\"dataframe\">\n",
       "  <thead>\n",
       "    <tr style=\"text-align: right;\">\n",
       "      <th></th>\n",
       "      <th></th>\n",
       "      <th>gender</th>\n",
       "      <th>scheduledday</th>\n",
       "      <th>appointmentday</th>\n",
       "      <th>waiting_days</th>\n",
       "      <th>age</th>\n",
       "      <th>age_group</th>\n",
       "      <th>neighbourhood</th>\n",
       "      <th>scholarship</th>\n",
       "      <th>hipertension</th>\n",
       "      <th>alcoholism</th>\n",
       "      <th>handicap</th>\n",
       "      <th>sms_received</th>\n",
       "    </tr>\n",
       "    <tr>\n",
       "      <th>diabetes</th>\n",
       "      <th>no_show</th>\n",
       "      <th></th>\n",
       "      <th></th>\n",
       "      <th></th>\n",
       "      <th></th>\n",
       "      <th></th>\n",
       "      <th></th>\n",
       "      <th></th>\n",
       "      <th></th>\n",
       "      <th></th>\n",
       "      <th></th>\n",
       "      <th></th>\n",
       "      <th></th>\n",
       "    </tr>\n",
       "  </thead>\n",
       "  <tbody>\n",
       "    <tr>\n",
       "      <th rowspan=\"2\" valign=\"top\">0</th>\n",
       "      <th>No</th>\n",
       "      <td>81695</td>\n",
       "      <td>81695</td>\n",
       "      <td>81695</td>\n",
       "      <td>81695</td>\n",
       "      <td>81695</td>\n",
       "      <td>78794</td>\n",
       "      <td>81695</td>\n",
       "      <td>81695</td>\n",
       "      <td>81695</td>\n",
       "      <td>81695</td>\n",
       "      <td>81695</td>\n",
       "      <td>81695</td>\n",
       "    </tr>\n",
       "    <tr>\n",
       "      <th>Yes</th>\n",
       "      <td>20889</td>\n",
       "      <td>20889</td>\n",
       "      <td>20889</td>\n",
       "      <td>20889</td>\n",
       "      <td>20889</td>\n",
       "      <td>20250</td>\n",
       "      <td>20889</td>\n",
       "      <td>20889</td>\n",
       "      <td>20889</td>\n",
       "      <td>20889</td>\n",
       "      <td>20889</td>\n",
       "      <td>20889</td>\n",
       "    </tr>\n",
       "    <tr>\n",
       "      <th rowspan=\"2\" valign=\"top\">1</th>\n",
       "      <th>No</th>\n",
       "      <td>6513</td>\n",
       "      <td>6513</td>\n",
       "      <td>6513</td>\n",
       "      <td>6513</td>\n",
       "      <td>6513</td>\n",
       "      <td>6513</td>\n",
       "      <td>6513</td>\n",
       "      <td>6513</td>\n",
       "      <td>6513</td>\n",
       "      <td>6513</td>\n",
       "      <td>6513</td>\n",
       "      <td>6513</td>\n",
       "    </tr>\n",
       "    <tr>\n",
       "      <th>Yes</th>\n",
       "      <td>1430</td>\n",
       "      <td>1430</td>\n",
       "      <td>1430</td>\n",
       "      <td>1430</td>\n",
       "      <td>1430</td>\n",
       "      <td>1430</td>\n",
       "      <td>1430</td>\n",
       "      <td>1430</td>\n",
       "      <td>1430</td>\n",
       "      <td>1430</td>\n",
       "      <td>1430</td>\n",
       "      <td>1430</td>\n",
       "    </tr>\n",
       "  </tbody>\n",
       "</table>\n",
       "</div>"
      ],
      "text/plain": [
       "                  gender  scheduledday  appointmentday  waiting_days    age  \\\n",
       "diabetes no_show                                                              \n",
       "0        No        81695         81695           81695         81695  81695   \n",
       "         Yes       20889         20889           20889         20889  20889   \n",
       "1        No         6513          6513            6513          6513   6513   \n",
       "         Yes        1430          1430            1430          1430   1430   \n",
       "\n",
       "                  age_group  neighbourhood  scholarship  hipertension  \\\n",
       "diabetes no_show                                                        \n",
       "0        No           78794          81695        81695         81695   \n",
       "         Yes          20250          20889        20889         20889   \n",
       "1        No            6513           6513         6513          6513   \n",
       "         Yes           1430           1430         1430          1430   \n",
       "\n",
       "                  alcoholism  handicap  sms_received  \n",
       "diabetes no_show                                      \n",
       "0        No            81695     81695         81695  \n",
       "         Yes           20889     20889         20889  \n",
       "1        No             6513      6513          6513  \n",
       "         Yes            1430      1430          1430  "
      ]
     },
     "execution_count": 505,
     "metadata": {},
     "output_type": "execute_result"
    }
   ],
   "source": [
    "#use pandas groupby to check the show-up status of the diabetes column\n",
    "df.groupby(['diabetes', 'no_show']).count()"
   ]
  },
  {
   "cell_type": "markdown",
   "metadata": {},
   "source": [
    "**Since its a count, all values will be the same in all columns So, lets pick an arbitrary column 'age'**"
   ]
  },
  {
   "cell_type": "code",
   "execution_count": 506,
   "metadata": {},
   "outputs": [
    {
     "data": {
      "text/plain": [
       "diabetes  no_show\n",
       "0         No         81695\n",
       "          Yes        20889\n",
       "1         No          6513\n",
       "          Yes         1430\n",
       "Name: age, dtype: int64"
      ]
     },
     "execution_count": 506,
     "metadata": {},
     "output_type": "execute_result"
    }
   ],
   "source": [
    "#Pick an arbitrary column 'age' and assign to a variable name\n",
    "diab = df.groupby(['diabetes', 'no_show']).age.count()\n",
    "diab"
   ]
  },
  {
   "cell_type": "markdown",
   "metadata": {},
   "source": [
    "**Since the values are not distributed evenly, its best to use proportions instead of counts**"
   ]
  },
  {
   "cell_type": "code",
   "execution_count": 542,
   "metadata": {},
   "outputs": [
    {
     "data": {
      "text/plain": [
       "diabetes\n",
       "0    102584\n",
       "1      7943\n",
       "Name: age, dtype: int64"
      ]
     },
     "execution_count": 542,
     "metadata": {},
     "output_type": "execute_result"
    }
   ],
   "source": [
    "#get the total counts for diabetes patients using our arbitrary column 'age' and assign to a variable name \n",
    "tot_diab = df.groupby('diabetes').age.count()\n",
    "tot_diab"
   ]
  },
  {
   "cell_type": "code",
   "execution_count": 541,
   "metadata": {},
   "outputs": [
    {
     "data": {
      "text/plain": [
       "diabetes  no_show\n",
       "0         No         0.796372\n",
       "          Yes        0.203628\n",
       "1         No         0.819967\n",
       "          Yes        0.180033\n",
       "Name: age, dtype: float64"
      ]
     },
     "execution_count": 541,
     "metadata": {},
     "output_type": "execute_result"
    }
   ],
   "source": [
    "#calculate the proportion of diabetes patients grouped by show up status\n",
    "prop_diab = diab / tot_diab\n",
    "prop_diab"
   ]
  },
  {
   "cell_type": "code",
   "execution_count": 560,
   "metadata": {},
   "outputs": [
    {
     "data": {
      "image/png": "[encoded data removed]",
      "text/plain": [
       "<Figure size 720x360 with 1 Axes>"
      ]
     },
     "metadata": {
      "needs_background": "light"
     },
     "output_type": "display_data"
    }
   ],
   "source": [
    "#now, plot a clustered column chart to check the proportion of the patients show up status based on whwther they were diabetic or not\n",
    "prop_diab.unstack().plot(kind='bar', figsize =(10, 5), color = ('#32CD32', '#800000'))\n",
    "plt.title(\"Proportion Of Patients Show-up-Status based on Their Diabetes Status\")\n",
    "plt.xlabel('Diabetes Status')\n",
    "plt.ylabel(\"Proportion of Patients\")\n",
    "plt.legend(labels = ['showed up', 'did not show up']);\n",
    "plt.xticks(rotation = 0)\n",
    "plt.show();"
   ]
  },
  {
   "cell_type": "markdown",
   "metadata": {},
   "source": [
    "\n",
    "`value 0 represent patients who were not Diabetic`\n",
    "\n",
    "`Value 1 represents Patients who were Diabetic`\n",
    "\n",
    "**The plot above shows us that the patients who were diabetic showed up for their appointments more than those who were not diabetic and those who were not diabetic missed more appointments than those who were.**\n",
    "\n",
    "***Hence to answer our question \"Being Diabetic Does not necessarily affect the showing up of Patients for their medical appointments\"***"
   ]
  },
  {
   "cell_type": "markdown",
   "metadata": {},
   "source": [
    "### Research Question 5 : Does being Alcoholic affect  showing up or not ?\n",
    "\n",
    "***Here we will explore the show up status of patients who are Alcoholic compared to those who are not***"
   ]
  },
  {
   "cell_type": "code",
   "execution_count": 510,
   "metadata": {},
   "outputs": [
    {
     "data": {
      "text/html": [
       "<div>\n",
       "<style scoped>\n",
       "    .dataframe tbody tr th:only-of-type {\n",
       "        vertical-align: middle;\n",
       "    }\n",
       "\n",
       "    .dataframe tbody tr th {\n",
       "        vertical-align: top;\n",
       "    }\n",
       "\n",
       "    .dataframe thead th {\n",
       "        text-align: right;\n",
       "    }\n",
       "</style>\n",
       "<table border=\"1\" class=\"dataframe\">\n",
       "  <thead>\n",
       "    <tr style=\"text-align: right;\">\n",
       "      <th></th>\n",
       "      <th></th>\n",
       "      <th>gender</th>\n",
       "      <th>scheduledday</th>\n",
       "      <th>appointmentday</th>\n",
       "      <th>waiting_days</th>\n",
       "      <th>age</th>\n",
       "      <th>age_group</th>\n",
       "      <th>neighbourhood</th>\n",
       "      <th>scholarship</th>\n",
       "      <th>hipertension</th>\n",
       "      <th>diabetes</th>\n",
       "      <th>handicap</th>\n",
       "      <th>sms_received</th>\n",
       "    </tr>\n",
       "    <tr>\n",
       "      <th>alcoholism</th>\n",
       "      <th>no_show</th>\n",
       "      <th></th>\n",
       "      <th></th>\n",
       "      <th></th>\n",
       "      <th></th>\n",
       "      <th></th>\n",
       "      <th></th>\n",
       "      <th></th>\n",
       "      <th></th>\n",
       "      <th></th>\n",
       "      <th></th>\n",
       "      <th></th>\n",
       "      <th></th>\n",
       "    </tr>\n",
       "  </thead>\n",
       "  <tbody>\n",
       "    <tr>\n",
       "      <th rowspan=\"2\" valign=\"top\">0</th>\n",
       "      <th>No</th>\n",
       "      <td>85525</td>\n",
       "      <td>85525</td>\n",
       "      <td>85525</td>\n",
       "      <td>85525</td>\n",
       "      <td>85525</td>\n",
       "      <td>82624</td>\n",
       "      <td>85525</td>\n",
       "      <td>85525</td>\n",
       "      <td>85525</td>\n",
       "      <td>85525</td>\n",
       "      <td>85525</td>\n",
       "      <td>85525</td>\n",
       "    </tr>\n",
       "    <tr>\n",
       "      <th>Yes</th>\n",
       "      <td>21642</td>\n",
       "      <td>21642</td>\n",
       "      <td>21642</td>\n",
       "      <td>21642</td>\n",
       "      <td>21642</td>\n",
       "      <td>21003</td>\n",
       "      <td>21642</td>\n",
       "      <td>21642</td>\n",
       "      <td>21642</td>\n",
       "      <td>21642</td>\n",
       "      <td>21642</td>\n",
       "      <td>21642</td>\n",
       "    </tr>\n",
       "    <tr>\n",
       "      <th rowspan=\"2\" valign=\"top\">1</th>\n",
       "      <th>No</th>\n",
       "      <td>2683</td>\n",
       "      <td>2683</td>\n",
       "      <td>2683</td>\n",
       "      <td>2683</td>\n",
       "      <td>2683</td>\n",
       "      <td>2683</td>\n",
       "      <td>2683</td>\n",
       "      <td>2683</td>\n",
       "      <td>2683</td>\n",
       "      <td>2683</td>\n",
       "      <td>2683</td>\n",
       "      <td>2683</td>\n",
       "    </tr>\n",
       "    <tr>\n",
       "      <th>Yes</th>\n",
       "      <td>677</td>\n",
       "      <td>677</td>\n",
       "      <td>677</td>\n",
       "      <td>677</td>\n",
       "      <td>677</td>\n",
       "      <td>677</td>\n",
       "      <td>677</td>\n",
       "      <td>677</td>\n",
       "      <td>677</td>\n",
       "      <td>677</td>\n",
       "      <td>677</td>\n",
       "      <td>677</td>\n",
       "    </tr>\n",
       "  </tbody>\n",
       "</table>\n",
       "</div>"
      ],
      "text/plain": [
       "                    gender  scheduledday  appointmentday  waiting_days    age  \\\n",
       "alcoholism no_show                                                              \n",
       "0          No        85525         85525           85525         85525  85525   \n",
       "           Yes       21642         21642           21642         21642  21642   \n",
       "1          No         2683          2683            2683          2683   2683   \n",
       "           Yes         677           677             677           677    677   \n",
       "\n",
       "                    age_group  neighbourhood  scholarship  hipertension  \\\n",
       "alcoholism no_show                                                        \n",
       "0          No           82624          85525        85525         85525   \n",
       "           Yes          21003          21642        21642         21642   \n",
       "1          No            2683           2683         2683          2683   \n",
       "           Yes            677            677          677           677   \n",
       "\n",
       "                    diabetes  handicap  sms_received  \n",
       "alcoholism no_show                                    \n",
       "0          No          85525     85525         85525  \n",
       "           Yes         21642     21642         21642  \n",
       "1          No           2683      2683          2683  \n",
       "           Yes           677       677           677  "
      ]
     },
     "execution_count": 510,
     "metadata": {},
     "output_type": "execute_result"
    }
   ],
   "source": [
    "#use pandas groupby to check the show-up status of the Alcoholism column\n",
    "df.groupby(['alcoholism', 'no_show']).count()"
   ]
  },
  {
   "cell_type": "markdown",
   "metadata": {},
   "source": [
    "**Since its a count, all values will be the same in all columns So, lets pick an arbitrary column 'age'**"
   ]
  },
  {
   "cell_type": "code",
   "execution_count": 511,
   "metadata": {},
   "outputs": [
    {
     "data": {
      "text/plain": [
       "alcoholism  no_show\n",
       "0           No         85525\n",
       "            Yes        21642\n",
       "1           No          2683\n",
       "            Yes          677\n",
       "Name: age, dtype: int64"
      ]
     },
     "execution_count": 511,
     "metadata": {},
     "output_type": "execute_result"
    }
   ],
   "source": [
    "#Pick an arbitrary column 'age' and assign to a variable name\n",
    "alco = df.groupby(['alcoholism', 'no_show']).age.count()\n",
    "alco"
   ]
  },
  {
   "cell_type": "markdown",
   "metadata": {},
   "source": [
    "**Since the values are not distributed evenly, its best to use proportions instead of counts**"
   ]
  },
  {
   "cell_type": "code",
   "execution_count": 512,
   "metadata": {},
   "outputs": [
    {
     "data": {
      "text/plain": [
       "alcoholism\n",
       "0    107167\n",
       "1      3360\n",
       "Name: age, dtype: int64"
      ]
     },
     "execution_count": 512,
     "metadata": {},
     "output_type": "execute_result"
    }
   ],
   "source": [
    "#get the total counts for alcoholics using our arbitrary column 'age' and assign to a variable name \n",
    "tot_alco = df.groupby('alcoholism').age.count()\n",
    "tot_alco"
   ]
  },
  {
   "cell_type": "code",
   "execution_count": 513,
   "metadata": {},
   "outputs": [
    {
     "data": {
      "text/plain": [
       "alcoholism  no_show\n",
       "0           No         0.798054\n",
       "            Yes        0.201946\n",
       "1           No         0.798512\n",
       "            Yes        0.201488\n",
       "Name: age, dtype: float64"
      ]
     },
     "execution_count": 513,
     "metadata": {},
     "output_type": "execute_result"
    }
   ],
   "source": [
    "#calculate the proportion of alcoholics grouped by show up status\n",
    "prop_alco = alco / tot_alco\n",
    "prop_alco"
   ]
  },
  {
   "cell_type": "code",
   "execution_count": 561,
   "metadata": {},
   "outputs": [
    {
     "data": {
      "image/png": "[encoded data removed]",
      "text/plain": [
       "<Figure size 720x360 with 1 Axes>"
      ]
     },
     "metadata": {
      "needs_background": "light"
     },
     "output_type": "display_data"
    }
   ],
   "source": [
    "#now, plot a clustered column chart to check the proportion of the patients show up status based on whwther they were alcoholic or not\n",
    "prop_alco.unstack().plot(kind='bar', figsize =(10, 5), color = ('#7B68EE' , '#C71585'))\n",
    "plt.title(\"Proportion Of Patients Show-up-Status based on Their Alcoholism Status\")\n",
    "plt.xlabel('Alcoholism Status')\n",
    "plt.ylabel(\"Proportion of Patients\")\n",
    "plt.legend(labels = ['showed up', 'did not show up']);\n",
    "plt.xticks(rotation = 0)\n",
    "plt.show();"
   ]
  },
  {
   "cell_type": "markdown",
   "metadata": {},
   "source": [
    "\n",
    "`value 0 represent patients who were not Alcoholic`\n",
    "\n",
    "`Value 1 represents Patients who were Alcoholic`\n",
    "\n",
    "**The plot above shows us that there is no significant difference between the showup status of Alcoholic patients and non alcoholic patients**\n",
    "\n",
    "***Hence to answer our question \"Being Alcoholic Does not necessarily affect the showing up of Patients for their medical appointments\"***"
   ]
  },
  {
   "cell_type": "markdown",
   "metadata": {},
   "source": [
    "### Research Question 6 : Does being Hipertensive affect  showing  up or not ?\n",
    "\n",
    "***Here we will explore the show up status of patients who are Hipertensive compared to those who are not***"
   ]
  },
  {
   "cell_type": "code",
   "execution_count": 515,
   "metadata": {},
   "outputs": [
    {
     "data": {
      "text/html": [
       "<div>\n",
       "<style scoped>\n",
       "    .dataframe tbody tr th:only-of-type {\n",
       "        vertical-align: middle;\n",
       "    }\n",
       "\n",
       "    .dataframe tbody tr th {\n",
       "        vertical-align: top;\n",
       "    }\n",
       "\n",
       "    .dataframe thead th {\n",
       "        text-align: right;\n",
       "    }\n",
       "</style>\n",
       "<table border=\"1\" class=\"dataframe\">\n",
       "  <thead>\n",
       "    <tr style=\"text-align: right;\">\n",
       "      <th></th>\n",
       "      <th></th>\n",
       "      <th>gender</th>\n",
       "      <th>scheduledday</th>\n",
       "      <th>appointmentday</th>\n",
       "      <th>waiting_days</th>\n",
       "      <th>age</th>\n",
       "      <th>age_group</th>\n",
       "      <th>neighbourhood</th>\n",
       "      <th>scholarship</th>\n",
       "      <th>diabetes</th>\n",
       "      <th>alcoholism</th>\n",
       "      <th>handicap</th>\n",
       "      <th>sms_received</th>\n",
       "    </tr>\n",
       "    <tr>\n",
       "      <th>hipertension</th>\n",
       "      <th>no_show</th>\n",
       "      <th></th>\n",
       "      <th></th>\n",
       "      <th></th>\n",
       "      <th></th>\n",
       "      <th></th>\n",
       "      <th></th>\n",
       "      <th></th>\n",
       "      <th></th>\n",
       "      <th></th>\n",
       "      <th></th>\n",
       "      <th></th>\n",
       "      <th></th>\n",
       "    </tr>\n",
       "  </thead>\n",
       "  <tbody>\n",
       "    <tr>\n",
       "      <th rowspan=\"2\" valign=\"top\">0</th>\n",
       "      <th>No</th>\n",
       "      <td>70179</td>\n",
       "      <td>70179</td>\n",
       "      <td>70179</td>\n",
       "      <td>70179</td>\n",
       "      <td>70179</td>\n",
       "      <td>67278</td>\n",
       "      <td>70179</td>\n",
       "      <td>70179</td>\n",
       "      <td>70179</td>\n",
       "      <td>70179</td>\n",
       "      <td>70179</td>\n",
       "      <td>70179</td>\n",
       "    </tr>\n",
       "    <tr>\n",
       "      <th>Yes</th>\n",
       "      <td>18547</td>\n",
       "      <td>18547</td>\n",
       "      <td>18547</td>\n",
       "      <td>18547</td>\n",
       "      <td>18547</td>\n",
       "      <td>17908</td>\n",
       "      <td>18547</td>\n",
       "      <td>18547</td>\n",
       "      <td>18547</td>\n",
       "      <td>18547</td>\n",
       "      <td>18547</td>\n",
       "      <td>18547</td>\n",
       "    </tr>\n",
       "    <tr>\n",
       "      <th rowspan=\"2\" valign=\"top\">1</th>\n",
       "      <th>No</th>\n",
       "      <td>18029</td>\n",
       "      <td>18029</td>\n",
       "      <td>18029</td>\n",
       "      <td>18029</td>\n",
       "      <td>18029</td>\n",
       "      <td>18029</td>\n",
       "      <td>18029</td>\n",
       "      <td>18029</td>\n",
       "      <td>18029</td>\n",
       "      <td>18029</td>\n",
       "      <td>18029</td>\n",
       "      <td>18029</td>\n",
       "    </tr>\n",
       "    <tr>\n",
       "      <th>Yes</th>\n",
       "      <td>3772</td>\n",
       "      <td>3772</td>\n",
       "      <td>3772</td>\n",
       "      <td>3772</td>\n",
       "      <td>3772</td>\n",
       "      <td>3772</td>\n",
       "      <td>3772</td>\n",
       "      <td>3772</td>\n",
       "      <td>3772</td>\n",
       "      <td>3772</td>\n",
       "      <td>3772</td>\n",
       "      <td>3772</td>\n",
       "    </tr>\n",
       "  </tbody>\n",
       "</table>\n",
       "</div>"
      ],
      "text/plain": [
       "                      gender  scheduledday  appointmentday  waiting_days  \\\n",
       "hipertension no_show                                                       \n",
       "0            No        70179         70179           70179         70179   \n",
       "             Yes       18547         18547           18547         18547   \n",
       "1            No        18029         18029           18029         18029   \n",
       "             Yes        3772          3772            3772          3772   \n",
       "\n",
       "                        age  age_group  neighbourhood  scholarship  diabetes  \\\n",
       "hipertension no_show                                                           \n",
       "0            No       70179      67278          70179        70179     70179   \n",
       "             Yes      18547      17908          18547        18547     18547   \n",
       "1            No       18029      18029          18029        18029     18029   \n",
       "             Yes       3772       3772           3772         3772      3772   \n",
       "\n",
       "                      alcoholism  handicap  sms_received  \n",
       "hipertension no_show                                      \n",
       "0            No            70179     70179         70179  \n",
       "             Yes           18547     18547         18547  \n",
       "1            No            18029     18029         18029  \n",
       "             Yes            3772      3772          3772  "
      ]
     },
     "execution_count": 515,
     "metadata": {},
     "output_type": "execute_result"
    }
   ],
   "source": [
    "#use pandas groupby to check the show-up status of the Hipertension column\n",
    "df.groupby(['hipertension', 'no_show']).count()"
   ]
  },
  {
   "cell_type": "markdown",
   "metadata": {},
   "source": [
    "**Since its a count, all values will be the same in all columns So, lets pick an arbitrary column 'age'**"
   ]
  },
  {
   "cell_type": "code",
   "execution_count": 516,
   "metadata": {},
   "outputs": [
    {
     "data": {
      "text/plain": [
       "hipertension  no_show\n",
       "0             No         70179\n",
       "              Yes        18547\n",
       "1             No         18029\n",
       "              Yes         3772\n",
       "Name: age, dtype: int64"
      ]
     },
     "execution_count": 516,
     "metadata": {},
     "output_type": "execute_result"
    }
   ],
   "source": [
    "#Pick an arbitrary column 'age' and assign to a variable name\n",
    "hiper = df.groupby(['hipertension', 'no_show']).age.count()\n",
    "hiper"
   ]
  },
  {
   "cell_type": "markdown",
   "metadata": {},
   "source": [
    "**Since the values are not distributed evenly, its best to use proportions instead of counts**"
   ]
  },
  {
   "cell_type": "code",
   "execution_count": 517,
   "metadata": {},
   "outputs": [
    {
     "data": {
      "text/plain": [
       "hipertension\n",
       "0    88726\n",
       "1    21801\n",
       "Name: age, dtype: int64"
      ]
     },
     "execution_count": 517,
     "metadata": {},
     "output_type": "execute_result"
    }
   ],
   "source": [
    "#get the total counts for Hipertension using our arbitrary column 'age' and assign to a variale name \n",
    "tot_hiper = df.groupby('hipertension').age.count()\n",
    "tot_hiper"
   ]
  },
  {
   "cell_type": "code",
   "execution_count": 518,
   "metadata": {},
   "outputs": [
    {
     "data": {
      "text/plain": [
       "hipertension  no_show\n",
       "0             No         0.790963\n",
       "              Yes        0.209037\n",
       "1             No         0.826980\n",
       "              Yes        0.173020\n",
       "Name: age, dtype: float64"
      ]
     },
     "execution_count": 518,
     "metadata": {},
     "output_type": "execute_result"
    }
   ],
   "source": [
    "#calculate the proportion of Hipertensive patients grouped by show up status\n",
    "prop_hiper = hiper / tot_hiper\n",
    "prop_hiper"
   ]
  },
  {
   "cell_type": "code",
   "execution_count": 562,
   "metadata": {},
   "outputs": [
    {
     "data": {
      "image/png": "[encoded data removed]",
      "text/plain": [
       "<Figure size 720x360 with 1 Axes>"
      ]
     },
     "metadata": {
      "needs_background": "light"
     },
     "output_type": "display_data"
    }
   ],
   "source": [
    "#now, plot a clustered column chart to check the proportion of the patients show up status based on whwther they were hipertensive or not\n",
    "prop_hiper.unstack().plot(kind='bar', figsize =(10, 5), color =('#000080', '#FF4500'))\n",
    "plt.title(\"Proportion Of Patients Show-up-Status based on Their Hipertensive Status\")\n",
    "plt.xlabel('Hipertensive Status')\n",
    "plt.ylabel(\"Proportion of Patients\")\n",
    "plt.legend(labels = ['showed up', 'did not show up']);\n",
    "plt.xticks(rotation = 0)\n",
    "plt.show();"
   ]
  },
  {
   "cell_type": "markdown",
   "metadata": {},
   "source": [
    "\n",
    "`value 0 represent patients who were not hipertensive`\n",
    "\n",
    "`Value 1 represents Patients who were hipertensive`\n",
    "\n",
    "**The plot above shows us that the patients who were hipertensive showed up for their appointments more than those who were not hipertensive and those who were not hipertensive missed more appointments than those who were.**\n",
    "\n",
    "\n",
    "***Hence to answer our question \"Being Hipertensive Does not necessarily affect the showing up of Patients for their medical appointments\"***"
   ]
  },
  {
   "cell_type": "markdown",
   "metadata": {},
   "source": [
    "### Research Question 7: Does enrollment in scholarship affect  showing  up for appointment?\n",
    "\n",
    "***Here we will explore the show up status of patients who were enrolled in the `Bolsa Familia` scholarship program and those who were not enrolled***"
   ]
  },
  {
   "cell_type": "code",
   "execution_count": 520,
   "metadata": {},
   "outputs": [
    {
     "data": {
      "text/html": [
       "<div>\n",
       "<style scoped>\n",
       "    .dataframe tbody tr th:only-of-type {\n",
       "        vertical-align: middle;\n",
       "    }\n",
       "\n",
       "    .dataframe tbody tr th {\n",
       "        vertical-align: top;\n",
       "    }\n",
       "\n",
       "    .dataframe thead th {\n",
       "        text-align: right;\n",
       "    }\n",
       "</style>\n",
       "<table border=\"1\" class=\"dataframe\">\n",
       "  <thead>\n",
       "    <tr style=\"text-align: right;\">\n",
       "      <th></th>\n",
       "      <th></th>\n",
       "      <th>gender</th>\n",
       "      <th>scheduledday</th>\n",
       "      <th>appointmentday</th>\n",
       "      <th>waiting_days</th>\n",
       "      <th>age</th>\n",
       "      <th>age_group</th>\n",
       "      <th>neighbourhood</th>\n",
       "      <th>hipertension</th>\n",
       "      <th>diabetes</th>\n",
       "      <th>alcoholism</th>\n",
       "      <th>handicap</th>\n",
       "      <th>sms_received</th>\n",
       "    </tr>\n",
       "    <tr>\n",
       "      <th>scholarship</th>\n",
       "      <th>no_show</th>\n",
       "      <th></th>\n",
       "      <th></th>\n",
       "      <th></th>\n",
       "      <th></th>\n",
       "      <th></th>\n",
       "      <th></th>\n",
       "      <th></th>\n",
       "      <th></th>\n",
       "      <th></th>\n",
       "      <th></th>\n",
       "      <th></th>\n",
       "      <th></th>\n",
       "    </tr>\n",
       "  </thead>\n",
       "  <tbody>\n",
       "    <tr>\n",
       "      <th rowspan=\"2\" valign=\"top\">0</th>\n",
       "      <th>No</th>\n",
       "      <td>79925</td>\n",
       "      <td>79925</td>\n",
       "      <td>79925</td>\n",
       "      <td>79925</td>\n",
       "      <td>79925</td>\n",
       "      <td>77069</td>\n",
       "      <td>79925</td>\n",
       "      <td>79925</td>\n",
       "      <td>79925</td>\n",
       "      <td>79925</td>\n",
       "      <td>79925</td>\n",
       "      <td>79925</td>\n",
       "    </tr>\n",
       "    <tr>\n",
       "      <th>Yes</th>\n",
       "      <td>19741</td>\n",
       "      <td>19741</td>\n",
       "      <td>19741</td>\n",
       "      <td>19741</td>\n",
       "      <td>19741</td>\n",
       "      <td>19109</td>\n",
       "      <td>19741</td>\n",
       "      <td>19741</td>\n",
       "      <td>19741</td>\n",
       "      <td>19741</td>\n",
       "      <td>19741</td>\n",
       "      <td>19741</td>\n",
       "    </tr>\n",
       "    <tr>\n",
       "      <th rowspan=\"2\" valign=\"top\">1</th>\n",
       "      <th>No</th>\n",
       "      <td>8283</td>\n",
       "      <td>8283</td>\n",
       "      <td>8283</td>\n",
       "      <td>8283</td>\n",
       "      <td>8283</td>\n",
       "      <td>8238</td>\n",
       "      <td>8283</td>\n",
       "      <td>8283</td>\n",
       "      <td>8283</td>\n",
       "      <td>8283</td>\n",
       "      <td>8283</td>\n",
       "      <td>8283</td>\n",
       "    </tr>\n",
       "    <tr>\n",
       "      <th>Yes</th>\n",
       "      <td>2578</td>\n",
       "      <td>2578</td>\n",
       "      <td>2578</td>\n",
       "      <td>2578</td>\n",
       "      <td>2578</td>\n",
       "      <td>2571</td>\n",
       "      <td>2578</td>\n",
       "      <td>2578</td>\n",
       "      <td>2578</td>\n",
       "      <td>2578</td>\n",
       "      <td>2578</td>\n",
       "      <td>2578</td>\n",
       "    </tr>\n",
       "  </tbody>\n",
       "</table>\n",
       "</div>"
      ],
      "text/plain": [
       "                     gender  scheduledday  appointmentday  waiting_days  \\\n",
       "scholarship no_show                                                       \n",
       "0           No        79925         79925           79925         79925   \n",
       "            Yes       19741         19741           19741         19741   \n",
       "1           No         8283          8283            8283          8283   \n",
       "            Yes        2578          2578            2578          2578   \n",
       "\n",
       "                       age  age_group  neighbourhood  hipertension  diabetes  \\\n",
       "scholarship no_show                                                            \n",
       "0           No       79925      77069          79925         79925     79925   \n",
       "            Yes      19741      19109          19741         19741     19741   \n",
       "1           No        8283       8238           8283          8283      8283   \n",
       "            Yes       2578       2571           2578          2578      2578   \n",
       "\n",
       "                     alcoholism  handicap  sms_received  \n",
       "scholarship no_show                                      \n",
       "0           No            79925     79925         79925  \n",
       "            Yes           19741     19741         19741  \n",
       "1           No             8283      8283          8283  \n",
       "            Yes            2578      2578          2578  "
      ]
     },
     "execution_count": 520,
     "metadata": {},
     "output_type": "execute_result"
    }
   ],
   "source": [
    "#use pandas groupby to check the show-up status of the scholarship column\n",
    "df.groupby(['scholarship', 'no_show']).count()"
   ]
  },
  {
   "cell_type": "markdown",
   "metadata": {},
   "source": [
    "**Since its a count, all values will be the same in all columns So, lets pick an arbitrary column 'age'**"
   ]
  },
  {
   "cell_type": "code",
   "execution_count": 521,
   "metadata": {},
   "outputs": [
    {
     "data": {
      "text/plain": [
       "scholarship  no_show\n",
       "0            No         79925\n",
       "             Yes        19741\n",
       "1            No          8283\n",
       "             Yes         2578\n",
       "Name: age, dtype: int64"
      ]
     },
     "execution_count": 521,
     "metadata": {},
     "output_type": "execute_result"
    }
   ],
   "source": [
    "#Pick an arbitrary column 'age' and assign to a variable name\n",
    "schol = df.groupby(['scholarship', 'no_show']).age.count()\n",
    "schol"
   ]
  },
  {
   "cell_type": "markdown",
   "metadata": {},
   "source": [
    "**Since the values are not distributed evenly, its best to use proportions instead of counts**"
   ]
  },
  {
   "cell_type": "code",
   "execution_count": 522,
   "metadata": {},
   "outputs": [
    {
     "data": {
      "text/plain": [
       "scholarship\n",
       "0    99666\n",
       "1    10861\n",
       "Name: age, dtype: int64"
      ]
     },
     "execution_count": 522,
     "metadata": {},
     "output_type": "execute_result"
    }
   ],
   "source": [
    "#get the total counts for scholarship enrollment using our arbitrary column 'age' and assign to a variable name \n",
    "tot_schol = df.groupby('scholarship').age.count()\n",
    "tot_schol"
   ]
  },
  {
   "cell_type": "code",
   "execution_count": 523,
   "metadata": {},
   "outputs": [
    {
     "data": {
      "text/plain": [
       "scholarship  no_show\n",
       "0            No         0.801928\n",
       "             Yes        0.198072\n",
       "1            No         0.762637\n",
       "             Yes        0.237363\n",
       "Name: age, dtype: float64"
      ]
     },
     "execution_count": 523,
     "metadata": {},
     "output_type": "execute_result"
    }
   ],
   "source": [
    "#calculate the proportion of Hipertensive patients grouped by show up status\n",
    "prop_schol = schol / tot_schol\n",
    "prop_schol"
   ]
  },
  {
   "cell_type": "code",
   "execution_count": 563,
   "metadata": {},
   "outputs": [
    {
     "data": {
      "image/png": "[encoded data removed]",
      "text/plain": [
       "<Figure size 720x360 with 1 Axes>"
      ]
     },
     "metadata": {
      "needs_background": "light"
     },
     "output_type": "display_data"
    }
   ],
   "source": [
    "#now, plot a clustered column chart to check the proportion of the patients show up status based on whether they were enrolled in the scolarship or not\n",
    "prop_schol.unstack().plot(kind='bar', figsize =(10, 5), color = ('#800080', '#FA8072'))\n",
    "plt.title(\"Proportion Of Patients Show-up-Status based on Their Scholarship Status\")\n",
    "plt.xlabel('Scholarship Status')\n",
    "plt.ylabel(\"Proportion of Patients\")\n",
    "plt.legend(labels = ['showed up', 'did not show up']);\n",
    "plt.xticks(rotation = 0)\n",
    "plt.show();"
   ]
  },
  {
   "cell_type": "markdown",
   "metadata": {},
   "source": [
    "\n",
    "`value 0 represent patients who were not enrolled in the scolarship`\n",
    "\n",
    "`Value 1 represents Patients who were enrolled in the scholarship`\n",
    "\n",
    "**The plot above shows us that the patients who were not enrolled in the sccholarship showed up for their appointments more than those who were enrolled and those who were  enrolled  missed more appointments than those who were not.**\n",
    "\n",
    "\n",
    "Below is a tentative assumption as to why this was so;\n",
    "\n",
    "> ***It is supposed that the scholarship covers the cost of the appointment and treatment, so those who are not paying anything out of pocket and are on a scholarship should show up more, but the fact is that most people take things for granted that they do not have to pay for.\n",
    "As a result, unlike those who will pay for the appointment out of pocket, individuals on scholarship are more likely to take it for granted because they are not paying for it.\n",
    "Hence, this is most likely the reason why individuals who were enrolled in the scholarship turned up less frequently than those who were not.***\n",
    "\n",
    "\n",
    "***Hence to answer our question \"Being enrolled in the scholarship Does not necessarily affect the showing up of Patients for their medical appointments\"***"
   ]
  },
  {
   "cell_type": "markdown",
   "metadata": {},
   "source": [
    "### Research Question 8 :Which category of people showed up the most among those who received SMS and those who did not?\n",
    "\n",
    "***Here we will explore the show up status of patients who received reminder SMS and those who did not***"
   ]
  },
  {
   "cell_type": "code",
   "execution_count": 525,
   "metadata": {},
   "outputs": [
    {
     "data": {
      "text/html": [
       "<div>\n",
       "<style scoped>\n",
       "    .dataframe tbody tr th:only-of-type {\n",
       "        vertical-align: middle;\n",
       "    }\n",
       "\n",
       "    .dataframe tbody tr th {\n",
       "        vertical-align: top;\n",
       "    }\n",
       "\n",
       "    .dataframe thead th {\n",
       "        text-align: right;\n",
       "    }\n",
       "</style>\n",
       "<table border=\"1\" class=\"dataframe\">\n",
       "  <thead>\n",
       "    <tr style=\"text-align: right;\">\n",
       "      <th></th>\n",
       "      <th></th>\n",
       "      <th>gender</th>\n",
       "      <th>scheduledday</th>\n",
       "      <th>appointmentday</th>\n",
       "      <th>waiting_days</th>\n",
       "      <th>age</th>\n",
       "      <th>age_group</th>\n",
       "      <th>neighbourhood</th>\n",
       "      <th>scholarship</th>\n",
       "      <th>hipertension</th>\n",
       "      <th>diabetes</th>\n",
       "      <th>alcoholism</th>\n",
       "      <th>handicap</th>\n",
       "    </tr>\n",
       "    <tr>\n",
       "      <th>sms_received</th>\n",
       "      <th>no_show</th>\n",
       "      <th></th>\n",
       "      <th></th>\n",
       "      <th></th>\n",
       "      <th></th>\n",
       "      <th></th>\n",
       "      <th></th>\n",
       "      <th></th>\n",
       "      <th></th>\n",
       "      <th></th>\n",
       "      <th></th>\n",
       "      <th></th>\n",
       "      <th></th>\n",
       "    </tr>\n",
       "  </thead>\n",
       "  <tbody>\n",
       "    <tr>\n",
       "      <th rowspan=\"2\" valign=\"top\">0</th>\n",
       "      <th>No</th>\n",
       "      <td>62510</td>\n",
       "      <td>62510</td>\n",
       "      <td>62510</td>\n",
       "      <td>62510</td>\n",
       "      <td>62510</td>\n",
       "      <td>60290</td>\n",
       "      <td>62510</td>\n",
       "      <td>62510</td>\n",
       "      <td>62510</td>\n",
       "      <td>62510</td>\n",
       "      <td>62510</td>\n",
       "      <td>62510</td>\n",
       "    </tr>\n",
       "    <tr>\n",
       "      <th>Yes</th>\n",
       "      <td>12535</td>\n",
       "      <td>12535</td>\n",
       "      <td>12535</td>\n",
       "      <td>12535</td>\n",
       "      <td>12535</td>\n",
       "      <td>12112</td>\n",
       "      <td>12535</td>\n",
       "      <td>12535</td>\n",
       "      <td>12535</td>\n",
       "      <td>12535</td>\n",
       "      <td>12535</td>\n",
       "      <td>12535</td>\n",
       "    </tr>\n",
       "    <tr>\n",
       "      <th rowspan=\"2\" valign=\"top\">1</th>\n",
       "      <th>No</th>\n",
       "      <td>25698</td>\n",
       "      <td>25698</td>\n",
       "      <td>25698</td>\n",
       "      <td>25698</td>\n",
       "      <td>25698</td>\n",
       "      <td>25017</td>\n",
       "      <td>25698</td>\n",
       "      <td>25698</td>\n",
       "      <td>25698</td>\n",
       "      <td>25698</td>\n",
       "      <td>25698</td>\n",
       "      <td>25698</td>\n",
       "    </tr>\n",
       "    <tr>\n",
       "      <th>Yes</th>\n",
       "      <td>9784</td>\n",
       "      <td>9784</td>\n",
       "      <td>9784</td>\n",
       "      <td>9784</td>\n",
       "      <td>9784</td>\n",
       "      <td>9568</td>\n",
       "      <td>9784</td>\n",
       "      <td>9784</td>\n",
       "      <td>9784</td>\n",
       "      <td>9784</td>\n",
       "      <td>9784</td>\n",
       "      <td>9784</td>\n",
       "    </tr>\n",
       "  </tbody>\n",
       "</table>\n",
       "</div>"
      ],
      "text/plain": [
       "                      gender  scheduledday  appointmentday  waiting_days  \\\n",
       "sms_received no_show                                                       \n",
       "0            No        62510         62510           62510         62510   \n",
       "             Yes       12535         12535           12535         12535   \n",
       "1            No        25698         25698           25698         25698   \n",
       "             Yes        9784          9784            9784          9784   \n",
       "\n",
       "                        age  age_group  neighbourhood  scholarship  \\\n",
       "sms_received no_show                                                 \n",
       "0            No       62510      60290          62510        62510   \n",
       "             Yes      12535      12112          12535        12535   \n",
       "1            No       25698      25017          25698        25698   \n",
       "             Yes       9784       9568           9784         9784   \n",
       "\n",
       "                      hipertension  diabetes  alcoholism  handicap  \n",
       "sms_received no_show                                                \n",
       "0            No              62510     62510       62510     62510  \n",
       "             Yes             12535     12535       12535     12535  \n",
       "1            No              25698     25698       25698     25698  \n",
       "             Yes              9784      9784        9784      9784  "
      ]
     },
     "execution_count": 525,
     "metadata": {},
     "output_type": "execute_result"
    }
   ],
   "source": [
    "#use pandas groupby to check the show-up status of the sms_received column\n",
    "df.groupby(['sms_received', 'no_show']).count()"
   ]
  },
  {
   "cell_type": "markdown",
   "metadata": {},
   "source": [
    "**Since its a count, all values will be the same in all columns So, lets pick an arbitrary column 'age'**"
   ]
  },
  {
   "cell_type": "code",
   "execution_count": 526,
   "metadata": {},
   "outputs": [
    {
     "data": {
      "text/plain": [
       "sms_received  no_show\n",
       "0             No         62510\n",
       "              Yes        12535\n",
       "1             No         25698\n",
       "              Yes         9784\n",
       "Name: age, dtype: int64"
      ]
     },
     "execution_count": 526,
     "metadata": {},
     "output_type": "execute_result"
    }
   ],
   "source": [
    "#Pick an arbitrary column 'age' and assign to a variable name\n",
    "sms_rec = df.groupby(['sms_received', 'no_show']).age.count()\n",
    "sms_rec"
   ]
  },
  {
   "cell_type": "markdown",
   "metadata": {},
   "source": [
    "**Since the values are not distributed evenly, its best to use proportions instead of counts**"
   ]
  },
  {
   "cell_type": "code",
   "execution_count": 527,
   "metadata": {},
   "outputs": [
    {
     "data": {
      "text/plain": [
       "sms_received\n",
       "0    75045\n",
       "1    35482\n",
       "Name: age, dtype: int64"
      ]
     },
     "execution_count": 527,
     "metadata": {},
     "output_type": "execute_result"
    }
   ],
   "source": [
    "#get the total counts for sms_received using our arbitrary column 'age' and assign to a variable name \n",
    "tot_sms = df.groupby('sms_received').age.count()\n",
    "tot_sms"
   ]
  },
  {
   "cell_type": "code",
   "execution_count": 528,
   "metadata": {},
   "outputs": [
    {
     "data": {
      "text/plain": [
       "sms_received  no_show\n",
       "0             No         0.832967\n",
       "              Yes        0.167033\n",
       "1             No         0.724255\n",
       "              Yes        0.275745\n",
       "Name: age, dtype: float64"
      ]
     },
     "execution_count": 528,
     "metadata": {},
     "output_type": "execute_result"
    }
   ],
   "source": [
    "#calculate the proportion of sms_received grouped by show up status\n",
    "prop_sms = sms_rec / tot_sms\n",
    "prop_sms"
   ]
  },
  {
   "cell_type": "code",
   "execution_count": 529,
   "metadata": {},
   "outputs": [
    {
     "data": {
      "image/png": "[encoded data removed]",
      "text/plain": [
       "<Figure size 720x360 with 1 Axes>"
      ]
     },
     "metadata": {
      "needs_background": "light"
     },
     "output_type": "display_data"
    }
   ],
   "source": [
    "#now, plot a clustered column chart to check the proportion of the patients show up status based on whether or not they received the reminder sms or not\n",
    "prop_sms.unstack().plot(kind='bar', figsize =(10, 5), color =('b','r'))\n",
    "plt.title(\"Proportion Of Patients Show-up-Status based on Reminder SMS\")\n",
    "plt.xlabel('SMS Status')\n",
    "plt.ylabel(\"Proportion of Patients\")\n",
    "plt.legend(labels = ['showed up', 'did not show up']);\n",
    "plt.xticks(rotation = 0)\n",
    "plt.show();"
   ]
  },
  {
   "cell_type": "markdown",
   "metadata": {},
   "source": [
    "\n",
    "`value 0 represent patients who did not receive SMS`\n",
    "\n",
    "`Value 1 represents Patients who received SMS`\n",
    "\n",
    "**To answer our question, those who did not receive reminder SMS showed up for their appointments more than those who received reminder SMS and the difference is a very significant one**\n",
    "\n",
    "The Scenairo below is an attempt to explain why this was so. Although it's not conclusive, it's just an assumption\n",
    "\n",
    "> ***It's presumed that the SMS messages sent were  text messages reminding patients to show up for their scheduled appointments, and that they were sent a day or two before the appointment.***\n",
    "\n",
    "> **The reason these patients who received reminder text messages did not show up as expected could be that they had scheduled their appointments and had to wait longer than the normal waiting days(10-14 days) So, the appointment must have skipped their minds, and may have made other plans for that day, and since the reminder SMS were sent a day to the actual appointment date, it might not give them the luxury of time to reschedule their day  Hence,  missing their appointments was pretty much inevitable**\n",
    "\n",
    "\n",
    "**The question we will be answering next might help us to further solidify this assupmtion or maybe give us further insight**"
   ]
  },
  {
   "cell_type": "markdown",
   "metadata": {},
   "source": [
    "### Research Question 9:  What was the average waiting days for those who received sms and those who did not?"
   ]
  },
  {
   "cell_type": "code",
   "execution_count": 369,
   "metadata": {},
   "outputs": [
    {
     "data": {
      "text/plain": [
       "sms_received  waiting_days\n",
       "0             0               38568\n",
       "              2                6725\n",
       "              1                5213\n",
       "              4                2236\n",
       "              7                2056\n",
       "                              ...  \n",
       "1             127                 1\n",
       "              132                 1\n",
       "              139                 1\n",
       "              146                 1\n",
       "              151                 1\n",
       "Name: waiting_days, Length: 234, dtype: int64"
      ]
     },
     "execution_count": 369,
     "metadata": {},
     "output_type": "execute_result"
    }
   ],
   "source": [
    "#use pandas groupby to group the dataframe by the sms_received column and call out the count of the waiting_days\n",
    "df.groupby('sms_received').waiting_days.value_counts()"
   ]
  },
  {
   "cell_type": "code",
   "execution_count": 370,
   "metadata": {},
   "outputs": [
    {
     "data": {
      "text/plain": [
       "sms_received\n",
       "0     6.007502\n",
       "1    19.016713\n",
       "Name: waiting_days, dtype: float64"
      ]
     },
     "execution_count": 370,
     "metadata": {},
     "output_type": "execute_result"
    }
   ],
   "source": [
    "#use pandas groupby to group the dataframe by the sms_received column and call out the mean of the waiting_days\n",
    "df.groupby('sms_received').waiting_days.mean()"
   ]
  },
  {
   "cell_type": "markdown",
   "metadata": {},
   "source": [
    "**The result above shows us that the avearage number of days in which pateints who did not receive reminder sms had to wait before their appointment day came was ` days` while the avearage number of days in which pateints who received reminder sms had to wait before their appointment day came was `19 days`**\n",
    "\n",
    "***Looking at these numbers objectively, it furthers our assumption from the preceding question (question 8) to some extent . Individuals who received sms had longer waiting  days than those who did not, thus their appointments slipped their minds for one reason or another, and they ultimately missed their appointments. This is why, despite receiving the SMS, they failed to show up for their appointments.***\n",
    "\n",
    "**Please NOTE THAT THIS IS ONLY AN ASSUMPTION, IT IS NOT IN ANY WAY CONCLUSIVE**"
   ]
  },
  {
   "cell_type": "markdown",
   "metadata": {},
   "source": [
    "### Research Question 10: What are the top 5 neighbourhood in which the most appointment show up was recorded ?\n",
    "\n",
    "***For  this question, we will be pointing out the top 5 neighbourhoods hosting the hospitals where patients showed up the most for their appointments***"
   ]
  },
  {
   "cell_type": "code",
   "execution_count": 530,
   "metadata": {},
   "outputs": [
    {
     "data": {
      "text/html": [
       "<div>\n",
       "<style scoped>\n",
       "    .dataframe tbody tr th:only-of-type {\n",
       "        vertical-align: middle;\n",
       "    }\n",
       "\n",
       "    .dataframe tbody tr th {\n",
       "        vertical-align: top;\n",
       "    }\n",
       "\n",
       "    .dataframe thead th {\n",
       "        text-align: right;\n",
       "    }\n",
       "</style>\n",
       "<table border=\"1\" class=\"dataframe\">\n",
       "  <thead>\n",
       "    <tr style=\"text-align: right;\">\n",
       "      <th></th>\n",
       "      <th>gender</th>\n",
       "      <th>scheduledday</th>\n",
       "      <th>appointmentday</th>\n",
       "      <th>waiting_days</th>\n",
       "      <th>age</th>\n",
       "      <th>age_group</th>\n",
       "      <th>neighbourhood</th>\n",
       "      <th>scholarship</th>\n",
       "      <th>hipertension</th>\n",
       "      <th>diabetes</th>\n",
       "      <th>alcoholism</th>\n",
       "      <th>handicap</th>\n",
       "      <th>sms_received</th>\n",
       "      <th>no_show</th>\n",
       "    </tr>\n",
       "  </thead>\n",
       "  <tbody>\n",
       "    <tr>\n",
       "      <th>0</th>\n",
       "      <td>F</td>\n",
       "      <td>2016-04-29 18:38:08+00:00</td>\n",
       "      <td>2016-04-29 00:00:00+00:00</td>\n",
       "      <td>0</td>\n",
       "      <td>62</td>\n",
       "      <td>56-75</td>\n",
       "      <td>JARDIM DA PENHA</td>\n",
       "      <td>0</td>\n",
       "      <td>1</td>\n",
       "      <td>0</td>\n",
       "      <td>0</td>\n",
       "      <td>0</td>\n",
       "      <td>0</td>\n",
       "      <td>No</td>\n",
       "    </tr>\n",
       "    <tr>\n",
       "      <th>1</th>\n",
       "      <td>M</td>\n",
       "      <td>2016-04-29 16:08:27+00:00</td>\n",
       "      <td>2016-04-29 00:00:00+00:00</td>\n",
       "      <td>0</td>\n",
       "      <td>56</td>\n",
       "      <td>56-75</td>\n",
       "      <td>JARDIM DA PENHA</td>\n",
       "      <td>0</td>\n",
       "      <td>0</td>\n",
       "      <td>0</td>\n",
       "      <td>0</td>\n",
       "      <td>0</td>\n",
       "      <td>0</td>\n",
       "      <td>No</td>\n",
       "    </tr>\n",
       "    <tr>\n",
       "      <th>2</th>\n",
       "      <td>F</td>\n",
       "      <td>2016-04-29 16:19:04+00:00</td>\n",
       "      <td>2016-04-29 00:00:00+00:00</td>\n",
       "      <td>0</td>\n",
       "      <td>62</td>\n",
       "      <td>56-75</td>\n",
       "      <td>MATA DA PRAIA</td>\n",
       "      <td>0</td>\n",
       "      <td>0</td>\n",
       "      <td>0</td>\n",
       "      <td>0</td>\n",
       "      <td>0</td>\n",
       "      <td>0</td>\n",
       "      <td>No</td>\n",
       "    </tr>\n",
       "  </tbody>\n",
       "</table>\n",
       "</div>"
      ],
      "text/plain": [
       "  gender              scheduledday            appointmentday  waiting_days  \\\n",
       "0      F 2016-04-29 18:38:08+00:00 2016-04-29 00:00:00+00:00             0   \n",
       "1      M 2016-04-29 16:08:27+00:00 2016-04-29 00:00:00+00:00             0   \n",
       "2      F 2016-04-29 16:19:04+00:00 2016-04-29 00:00:00+00:00             0   \n",
       "\n",
       "   age age_group    neighbourhood  scholarship  hipertension  diabetes  \\\n",
       "0   62     56-75  JARDIM DA PENHA            0             1         0   \n",
       "1   56     56-75  JARDIM DA PENHA            0             0         0   \n",
       "2   62     56-75    MATA DA PRAIA            0             0         0   \n",
       "\n",
       "   alcoholism  handicap  sms_received no_show  \n",
       "0           0         0             0      No  \n",
       "1           0         0             0      No  \n",
       "2           0         0             0      No  "
      ]
     },
     "execution_count": 530,
     "metadata": {},
     "output_type": "execute_result"
    }
   ],
   "source": [
    "#create a new dataframe from the dataframe (df) containing only entries for people who showed up for the appiontments(i.e whose entry value is\"NO\")\n",
    "df_1 = df.query('no_show == \"No\"')\n",
    "\n",
    "#confirm\n",
    "df_1.head(3)"
   ]
  },
  {
   "cell_type": "code",
   "execution_count": 531,
   "metadata": {},
   "outputs": [
    {
     "data": {
      "text/plain": [
       "(88208, 14)"
      ]
     },
     "execution_count": 531,
     "metadata": {},
     "output_type": "execute_result"
    }
   ],
   "source": [
    "#check the shape\n",
    "df_1.shape"
   ]
  },
  {
   "cell_type": "code",
   "execution_count": 532,
   "metadata": {},
   "outputs": [
    {
     "data": {
      "text/plain": [
       "JARDIM CAMBURI     6252\n",
       "MARIA ORTIZ        4586\n",
       "RESISTÊNCIA        3525\n",
       "JARDIM DA PENHA    3246\n",
       "SANTA MARTHA       2635\n",
       "Name: neighbourhood, dtype: int64"
      ]
     },
     "execution_count": 532,
     "metadata": {},
     "output_type": "execute_result"
    }
   ],
   "source": [
    "#take a count for the neighbourhood colum and pick the top 5\n",
    "df_1.neighbourhood.value_counts()[0:5]"
   ]
  },
  {
   "cell_type": "code",
   "execution_count": 564,
   "metadata": {},
   "outputs": [
    {
     "data": {
      "image/png": "[encoded data removed]",
      "text/plain": [
       "<Figure size 720x360 with 1 Axes>"
      ]
     },
     "metadata": {
      "needs_background": "light"
     },
     "output_type": "display_data"
    }
   ],
   "source": [
    "#create a plot to show this\n",
    "neigh_top = df_1.neighbourhood.value_counts()[0:5]\n",
    "\n",
    "plt.subplots(figsize = (10, 5));\n",
    "plt.bar(neigh_top.index, neigh_top, color ='#DB7093');"
   ]
  },
  {
   "cell_type": "markdown",
   "metadata": {},
   "source": [
    "**The top 5 neighbourhoods hosting the hospitals where the patients showed up for their appointments the most were;**\n",
    "\n",
    "`JARDIM CAMBURI`     \n",
    "\n",
    "`MARIA ORTIZ`        \n",
    "\n",
    "`RESISTÊNCIA`      \n",
    "\n",
    "`JARDIM DA PENHA`\n",
    "\n",
    "`SANTA MARTHA `\n",
    "\n",
    "\n",
    "**If you recell from one of our early explorations, we had identified the top 5 neighbourhood where appointments were made as**\n",
    "\n",
    "`JARDIM CAMBURI`\n",
    "\n",
    "`MARIA ORTIZ`\n",
    "\n",
    "`RESISTÊNCIA`\n",
    "\n",
    "`JARDIM DA PENHA `\n",
    "\n",
    "`ITARARÉ `\n",
    "\n",
    "**We can see that `4` out of these neighbourhood emerged as part of the top 5 nieghbourhoods hosting the hospitals with the most kept appointments.**\n",
    "\n",
    "Below is a probable reason why the above result is so;\n",
    "\n",
    ">***We can't reach a firm judgment because this data set doesn't provide us with geographic information about these neighborhoods, but we may presume that these neighbourhoods are residential areas or close to residential areas because they hosted the highest number of appointment show-ups. People, on the whole, prefer to reduce stress and select hospitals that are close to them so that, in the event of an emergency, they won't have to drive for hours before getting aid.***\n",
    "\n",
    ">***Another explanation for this might be because some of these hospitals have irrefutable reputations for having excellent doctors who have a high proportion of success rates in their treatments, and hence people are more drawn to them.***\n",
    "\n",
    "**The two assumptions made are not conclusive but tentative, They are only Possible reasons and not definite.**"
   ]
  },
  {
   "cell_type": "markdown",
   "metadata": {},
   "source": [
    "### Research Question 11: Are the Health scholarship distributed evenly between Males and Females ?"
   ]
  },
  {
   "cell_type": "code",
   "execution_count": 534,
   "metadata": {},
   "outputs": [
    {
     "data": {
      "text/plain": [
       "scholarship  gender\n",
       "0            F         62987\n",
       "             M         36679\n",
       "1            F          8853\n",
       "             M          2008\n",
       "Name: gender, dtype: int64"
      ]
     },
     "execution_count": 534,
     "metadata": {},
     "output_type": "execute_result"
    }
   ],
   "source": [
    "#use pandas groupby to group the scholarship column by gender\n",
    "schol_gen = df.groupby('scholarship')['gender'].value_counts()\n",
    "schol_gen"
   ]
  },
  {
   "cell_type": "markdown",
   "metadata": {},
   "source": [
    "**Since the values are not distributed evenly, its best to use proportions instead of counts**"
   ]
  },
  {
   "cell_type": "code",
   "execution_count": 535,
   "metadata": {},
   "outputs": [
    {
     "data": {
      "text/plain": [
       "scholarship\n",
       "0    99666\n",
       "1    10861\n",
       "Name: age, dtype: int64"
      ]
     },
     "execution_count": 535,
     "metadata": {},
     "output_type": "execute_result"
    }
   ],
   "source": [
    "schol_tot = df.groupby('scholarship').age.count()\n",
    "schol_tot"
   ]
  },
  {
   "cell_type": "code",
   "execution_count": 536,
   "metadata": {},
   "outputs": [
    {
     "data": {
      "text/plain": [
       "scholarship  gender\n",
       "0            F         0.631981\n",
       "             M         0.368019\n",
       "1            F         0.815118\n",
       "             M         0.184882\n",
       "dtype: float64"
      ]
     },
     "execution_count": 536,
     "metadata": {},
     "output_type": "execute_result"
    }
   ],
   "source": [
    "schol_prop = schol_gen / schol_tot\n",
    "schol_prop"
   ]
  },
  {
   "cell_type": "code",
   "execution_count": 566,
   "metadata": {},
   "outputs": [
    {
     "data": {
      "image/png": "[encoded data removed]",
      "text/plain": [
       "<Figure size 720x360 with 1 Axes>"
      ]
     },
     "metadata": {
      "needs_background": "light"
     },
     "output_type": "display_data"
    }
   ],
   "source": [
    "#now, plot a clustered column chart to check the proportion of the male and female  patients that were enrolled in the scholarship program\n",
    "schol_prop.unstack().plot(kind='bar', figsize =(10, 5), color = ('#CD853F', '#DB7093'))\n",
    "plt.title(\"Proportion Of Male and Female Patients Based On Enrollment In the Scholarship Program\")\n",
    "plt.xlabel('Scholarship Status')\n",
    "plt.ylabel(\"Proportion of Patients\")\n",
    "plt.legend(labels = ['Female', 'Male']);\n",
    "plt.xticks(rotation = 0)\n",
    "plt.show();"
   ]
  },
  {
   "cell_type": "markdown",
   "metadata": {},
   "source": [
    "\n",
    "`value 0 represent patients who were not enrolled in the scolarship`\n",
    "\n",
    "`Value 1 represents Patients who were enrolled in the scholarship`\n",
    "\n",
    "As we can see from the plot above the proportion of female patients who are enrolled in the `Bolsa Familia` scolarship program are much more than the the Male patients who are enrolled in the program\n",
    "\n",
    "***Hence, to answer our question, NO, the scholarship is not evenly distributed among Male and Females***"
   ]
  },
  {
   "cell_type": "markdown",
   "metadata": {},
   "source": [
    "<a id='conclusions'></a>\n",
    "## Conclusions\n",
    "\n",
    "Having explored this datset, here are the Tentative conclusions made;\n",
    "\n",
    "**We observed that the average number of days between the day a patient's appointment was booked and the actual day of the appointment was `10 days`, and that these waiting days have an effect on a patient's chance of showing up for his or her visit. We found that the longer a patient has to wait for his or her appointment, the less likely he or she is to show up. Additional Information on why some patients had to wait much longer than the normal wating period of (10-14 days) would have proven useful here.**\n",
    "\n",
    "\n",
    "**Secondly, we observed that the patients' ages have an impact on their chance of attending their scheduled appointments. We discovered that patients aged `0-17` are less likely than those aged `18 years and above` to show up for their planned appointments.**\n",
    "   \n",
    "\n",
    "\n",
    "\n",
    "**Looking further into our data, we discovered that just `10%` of the patients are enlisted in the `Bolsa Familia` scholarship program. While we can't be sure of why this was so, we discovered that the proportion of enlisted females was  much greater than the proportion of enlisted men. We also discovered that patients who were not enlisted in the scholarship program showed up for their appointments more than those who were enlisted. Presumably, we can say that being a scholarship recipient has no impact on patients' chances of making an appearance at their scheduled  appointments. Additional research and information on how the enlistment process takes place would have proven useful at this point.**\n",
    "\n",
    "\n",
    "**In addition, `12%` of the patient population was disabled, alcoholic, or diabetic, while `20%` were hypertensive, and the remaining `68%` had other health conditions not mentioned above.**\n",
    "**We observed that, while patients who are diabetic, hypertensive, or handicapped are more likely to show up than those who are not, these medical conditions, including alcoholism, did not necessarily affect the on the likelihood of patients showing up for their appointments.**\n",
    "\n",
    "\n",
    "**Finally, we observed that while only around `32%` of the patients population got appointment reminder SMS, those who did not get SMS were more likely to show up than those who did.**\n",
    "\n",
    "\n",
    "\n",
    "#### Limitations discovered in the Dataset includes;\n",
    "\n",
    ">* Lack of sufficient information on how the Scholarship Enlistment happens\n",
    ">* Lack of substantial geographical information on the Neighbourhoods covered in this dataset so that we can understand the reason why the neighbourhood with the highest visit had such number of show ups\n",
    ">* Unequal distribution of values which made us use proportions instead of counts.\n",
    ">* There was an outlier Age value\n",
    ">* Cases of appointment days coming before scheduled days"
   ]
  }
 ],
 "metadata": {
  "kernelspec": {
   "display_name": "Python 3 (ipykernel)",
   "language": "python",
   "name": "python3"
  },
  "language_info": {
   "codemirror_mode": {
    "name": "ipython",
    "version": 3
   },
   "file_extension": ".py",
   "mimetype": "text/x-python",
   "name": "python",
   "nbconvert_exporter": "python",
   "pygments_lexer": "ipython3",
   "version": "3.9.7"
  }
 },
 "nbformat": 4,
 "nbformat_minor": 2
}
