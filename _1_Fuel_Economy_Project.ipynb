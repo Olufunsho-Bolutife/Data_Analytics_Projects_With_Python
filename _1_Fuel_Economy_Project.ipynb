{
 "cells": [
  {
   "cell_type": "markdown",
   "id": "da9558a8",
   "metadata": {},
   "source": [
    "### What is Fuel Economy?\n",
    "Excerpt from Wikipedia page on Fuel Economy in Automobiles:\n",
    "\n",
    "The fuel economy of an automobile is the fuel efficiency relationship between the distance traveled and the amount of fuel consumed by the vehicle. Consumption can be expressed in terms of volume of fuel to travel a distance, or the distance travelled per unit volume of fuel consumed.\n",
    "\n",
    "In this project we'll be analyzing fuel economy data provided by the US EPA (Environmental Protection Agency). Our Main goal is to determine Factors that defines whether a particular vehicle or vehicle class is economical or not in terms of fuel comsumption\n",
    "\n",
    "We will be using information gathered from two Fuel economy datasets provided by the EDA (Year 2008 and 2018)"
   ]
  },
  {
   "cell_type": "markdown",
   "id": "47cdb52d",
   "metadata": {},
   "source": [
    "### Fuel Economy Data\n",
    "This information is provided by the U.S. Environmental Protection Agency, Office of Mobile Sources, National Vehicle and Fuel Emissions Laboratory.\n",
    "\n",
    "Below are the Various attributes(variables) covered in both datasets. Majority of the attributes are common to both datasets while some are just particular to one of them. At the end of this table a note was added differentiating the attributes that are particular to both and those that are not\n",
    "\n",
    "\n",
    "| Attribute\t| Description |\n",
    "|:---: | :---:|  \n",
    "| Model\t| Vehicle make and model|\n",
    "|Displ\t|Engine displacement - the size of an engine in liters\n",
    "|Cyl |\tThe number of cylinders in a particular engine\n",
    "|Trans|\tTransmission Type and Number of Gears\n",
    "Drive\t|Drive axle type (2WD = 2-wheel drive, 4WD = 4-wheel/all-wheel drive)\n",
    "Fuel\t|Fuel Type\n",
    "Cert Region*\t|Certification Region Code\n",
    "Sales Area**\t|Certification Region Code\n",
    "Stnd\t|Vehicle emissions standard code\n",
    "Stnd Description*\t|Vehicle emissions standard description\n",
    "Underhood ID\t|This is a 12-digit ID number that can be found on the underhood emission label of every vehicle. It's required by the EPA to designate its \"test group\" or \"engine family.\" This is explained more here\n",
    "Veh Class|\tEPA Vehicle Class\n",
    "Air Pollution Score\t|Air pollution score (smog rating)\n",
    "City MPG|\tEstimated city mpg (miles/gallon)\n",
    "Hwy MPG\t|Estimated highway mpg (miles/gallon)\n",
    "Cmb MPG|\tEstimated combined mpg (miles/gallon)\n",
    "Greenhouse Gas Score|\tGreenhouse gas rating\n",
    "SmartWay\t|Yes, No, or Elite\n",
    "Comb CO2*\t|Combined city/highway CO2 tailpipe emissions in grams per mile\n",
    "\n",
    " `* Not included in 2008 dataset`\n",
    " \n",
    " `** Not included in 2018 dataset`"
   ]
  },
  {
   "cell_type": "markdown",
   "id": "e255c7e8",
   "metadata": {},
   "source": [
    "## Accessing The Data\n",
    "\n",
    "##### load the datasets saved in the current folder\n",
    "##### `all_alpha_08.csv` and `all_alpha_18.csv`"
   ]
  },
  {
   "cell_type": "code",
   "execution_count": 1,
   "id": "7bf89f2c",
   "metadata": {},
   "outputs": [],
   "source": [
    "#import all needed libraries and load the dataset\n",
    "\n",
    "import pandas as pd\n",
    "import numpy as np\n",
    "import matplotlib.pyplot as plt\n",
    "import seaborn as sns\n",
    "%matplotlib inline\n",
    "\n",
    "\n",
    "df_08 = pd.read_csv('all_alpha_08.csv')\n",
    "df_18 = pd.read_csv('all_alpha_18.csv')\n"
   ]
  },
  {
   "cell_type": "code",
   "execution_count": 2,
   "id": "c5271fd3",
   "metadata": {},
   "outputs": [
    {
     "data": {
      "text/html": [
       "<div>\n",
       "<style scoped>\n",
       "    .dataframe tbody tr th:only-of-type {\n",
       "        vertical-align: middle;\n",
       "    }\n",
       "\n",
       "    .dataframe tbody tr th {\n",
       "        vertical-align: top;\n",
       "    }\n",
       "\n",
       "    .dataframe thead th {\n",
       "        text-align: right;\n",
       "    }\n",
       "</style>\n",
       "<table border=\"1\" class=\"dataframe\">\n",
       "  <thead>\n",
       "    <tr style=\"text-align: right;\">\n",
       "      <th></th>\n",
       "      <th>Model</th>\n",
       "      <th>Displ</th>\n",
       "      <th>Cyl</th>\n",
       "      <th>Trans</th>\n",
       "      <th>Drive</th>\n",
       "      <th>Fuel</th>\n",
       "      <th>Sales Area</th>\n",
       "      <th>Stnd</th>\n",
       "      <th>Underhood ID</th>\n",
       "      <th>Veh Class</th>\n",
       "      <th>Air Pollution Score</th>\n",
       "      <th>FE Calc Appr</th>\n",
       "      <th>City MPG</th>\n",
       "      <th>Hwy MPG</th>\n",
       "      <th>Cmb MPG</th>\n",
       "      <th>Unadj Cmb MPG</th>\n",
       "      <th>Greenhouse Gas Score</th>\n",
       "      <th>SmartWay</th>\n",
       "    </tr>\n",
       "  </thead>\n",
       "  <tbody>\n",
       "    <tr>\n",
       "      <th>0</th>\n",
       "      <td>ACURA MDX</td>\n",
       "      <td>3.7</td>\n",
       "      <td>(6 cyl)</td>\n",
       "      <td>Auto-S5</td>\n",
       "      <td>4WD</td>\n",
       "      <td>Gasoline</td>\n",
       "      <td>CA</td>\n",
       "      <td>U2</td>\n",
       "      <td>8HNXT03.7PKR</td>\n",
       "      <td>SUV</td>\n",
       "      <td>7</td>\n",
       "      <td>Drv</td>\n",
       "      <td>15</td>\n",
       "      <td>20</td>\n",
       "      <td>17</td>\n",
       "      <td>22.0527</td>\n",
       "      <td>4</td>\n",
       "      <td>no</td>\n",
       "    </tr>\n",
       "    <tr>\n",
       "      <th>1</th>\n",
       "      <td>ACURA MDX</td>\n",
       "      <td>3.7</td>\n",
       "      <td>(6 cyl)</td>\n",
       "      <td>Auto-S5</td>\n",
       "      <td>4WD</td>\n",
       "      <td>Gasoline</td>\n",
       "      <td>FA</td>\n",
       "      <td>B5</td>\n",
       "      <td>8HNXT03.7PKR</td>\n",
       "      <td>SUV</td>\n",
       "      <td>6</td>\n",
       "      <td>Drv</td>\n",
       "      <td>15</td>\n",
       "      <td>20</td>\n",
       "      <td>17</td>\n",
       "      <td>22.0527</td>\n",
       "      <td>4</td>\n",
       "      <td>no</td>\n",
       "    </tr>\n",
       "    <tr>\n",
       "      <th>2</th>\n",
       "      <td>ACURA RDX</td>\n",
       "      <td>2.3</td>\n",
       "      <td>(4 cyl)</td>\n",
       "      <td>Auto-S5</td>\n",
       "      <td>4WD</td>\n",
       "      <td>Gasoline</td>\n",
       "      <td>CA</td>\n",
       "      <td>U2</td>\n",
       "      <td>8HNXT02.3DKR</td>\n",
       "      <td>SUV</td>\n",
       "      <td>7</td>\n",
       "      <td>Drv</td>\n",
       "      <td>17</td>\n",
       "      <td>22</td>\n",
       "      <td>19</td>\n",
       "      <td>24.1745</td>\n",
       "      <td>5</td>\n",
       "      <td>no</td>\n",
       "    </tr>\n",
       "  </tbody>\n",
       "</table>\n",
       "</div>"
      ],
      "text/plain": [
       "       Model  Displ      Cyl    Trans Drive      Fuel Sales Area Stnd  \\\n",
       "0  ACURA MDX    3.7  (6 cyl)  Auto-S5   4WD  Gasoline         CA   U2   \n",
       "1  ACURA MDX    3.7  (6 cyl)  Auto-S5   4WD  Gasoline         FA   B5   \n",
       "2  ACURA RDX    2.3  (4 cyl)  Auto-S5   4WD  Gasoline         CA   U2   \n",
       "\n",
       "   Underhood ID Veh Class Air Pollution Score FE Calc Appr City MPG Hwy MPG  \\\n",
       "0  8HNXT03.7PKR       SUV                   7          Drv       15      20   \n",
       "1  8HNXT03.7PKR       SUV                   6          Drv       15      20   \n",
       "2  8HNXT02.3DKR       SUV                   7          Drv       17      22   \n",
       "\n",
       "  Cmb MPG  Unadj Cmb MPG Greenhouse Gas Score SmartWay  \n",
       "0      17        22.0527                    4       no  \n",
       "1      17        22.0527                    4       no  \n",
       "2      19        24.1745                    5       no  "
      ]
     },
     "execution_count": 2,
     "metadata": {},
     "output_type": "execute_result"
    }
   ],
   "source": [
    "#check the first 3 rows to have a look at the data\n",
    "df_08.head(3)"
   ]
  },
  {
   "cell_type": "code",
   "execution_count": 3,
   "id": "7b3d4532",
   "metadata": {},
   "outputs": [
    {
     "data": {
      "text/html": [
       "<div>\n",
       "<style scoped>\n",
       "    .dataframe tbody tr th:only-of-type {\n",
       "        vertical-align: middle;\n",
       "    }\n",
       "\n",
       "    .dataframe tbody tr th {\n",
       "        vertical-align: top;\n",
       "    }\n",
       "\n",
       "    .dataframe thead th {\n",
       "        text-align: right;\n",
       "    }\n",
       "</style>\n",
       "<table border=\"1\" class=\"dataframe\">\n",
       "  <thead>\n",
       "    <tr style=\"text-align: right;\">\n",
       "      <th></th>\n",
       "      <th>Model</th>\n",
       "      <th>Displ</th>\n",
       "      <th>Cyl</th>\n",
       "      <th>Trans</th>\n",
       "      <th>Drive</th>\n",
       "      <th>Fuel</th>\n",
       "      <th>Cert Region</th>\n",
       "      <th>Stnd</th>\n",
       "      <th>Stnd Description</th>\n",
       "      <th>Underhood ID</th>\n",
       "      <th>Veh Class</th>\n",
       "      <th>Air Pollution Score</th>\n",
       "      <th>City MPG</th>\n",
       "      <th>Hwy MPG</th>\n",
       "      <th>Cmb MPG</th>\n",
       "      <th>Greenhouse Gas Score</th>\n",
       "      <th>SmartWay</th>\n",
       "      <th>Comb CO2</th>\n",
       "    </tr>\n",
       "  </thead>\n",
       "  <tbody>\n",
       "    <tr>\n",
       "      <th>0</th>\n",
       "      <td>ACURA RDX</td>\n",
       "      <td>3.5</td>\n",
       "      <td>6.0</td>\n",
       "      <td>SemiAuto-6</td>\n",
       "      <td>2WD</td>\n",
       "      <td>Gasoline</td>\n",
       "      <td>FA</td>\n",
       "      <td>T3B125</td>\n",
       "      <td>Federal Tier 3 Bin 125</td>\n",
       "      <td>JHNXT03.5GV3</td>\n",
       "      <td>small SUV</td>\n",
       "      <td>3</td>\n",
       "      <td>20</td>\n",
       "      <td>28</td>\n",
       "      <td>23</td>\n",
       "      <td>5</td>\n",
       "      <td>No</td>\n",
       "      <td>386</td>\n",
       "    </tr>\n",
       "    <tr>\n",
       "      <th>1</th>\n",
       "      <td>ACURA RDX</td>\n",
       "      <td>3.5</td>\n",
       "      <td>6.0</td>\n",
       "      <td>SemiAuto-6</td>\n",
       "      <td>2WD</td>\n",
       "      <td>Gasoline</td>\n",
       "      <td>CA</td>\n",
       "      <td>U2</td>\n",
       "      <td>California LEV-II ULEV</td>\n",
       "      <td>JHNXT03.5GV3</td>\n",
       "      <td>small SUV</td>\n",
       "      <td>3</td>\n",
       "      <td>20</td>\n",
       "      <td>28</td>\n",
       "      <td>23</td>\n",
       "      <td>5</td>\n",
       "      <td>No</td>\n",
       "      <td>386</td>\n",
       "    </tr>\n",
       "    <tr>\n",
       "      <th>2</th>\n",
       "      <td>ACURA RDX</td>\n",
       "      <td>3.5</td>\n",
       "      <td>6.0</td>\n",
       "      <td>SemiAuto-6</td>\n",
       "      <td>4WD</td>\n",
       "      <td>Gasoline</td>\n",
       "      <td>FA</td>\n",
       "      <td>T3B125</td>\n",
       "      <td>Federal Tier 3 Bin 125</td>\n",
       "      <td>JHNXT03.5GV3</td>\n",
       "      <td>small SUV</td>\n",
       "      <td>3</td>\n",
       "      <td>19</td>\n",
       "      <td>27</td>\n",
       "      <td>22</td>\n",
       "      <td>4</td>\n",
       "      <td>No</td>\n",
       "      <td>402</td>\n",
       "    </tr>\n",
       "  </tbody>\n",
       "</table>\n",
       "</div>"
      ],
      "text/plain": [
       "       Model  Displ  Cyl       Trans Drive      Fuel Cert Region    Stnd  \\\n",
       "0  ACURA RDX    3.5  6.0  SemiAuto-6   2WD  Gasoline          FA  T3B125   \n",
       "1  ACURA RDX    3.5  6.0  SemiAuto-6   2WD  Gasoline          CA      U2   \n",
       "2  ACURA RDX    3.5  6.0  SemiAuto-6   4WD  Gasoline          FA  T3B125   \n",
       "\n",
       "         Stnd Description  Underhood ID  Veh Class  Air Pollution Score  \\\n",
       "0  Federal Tier 3 Bin 125  JHNXT03.5GV3  small SUV                    3   \n",
       "1  California LEV-II ULEV  JHNXT03.5GV3  small SUV                    3   \n",
       "2  Federal Tier 3 Bin 125  JHNXT03.5GV3  small SUV                    3   \n",
       "\n",
       "  City MPG Hwy MPG Cmb MPG  Greenhouse Gas Score SmartWay Comb CO2  \n",
       "0       20      28      23                     5       No      386  \n",
       "1       20      28      23                     5       No      386  \n",
       "2       19      27      22                     4       No      402  "
      ]
     },
     "execution_count": 3,
     "metadata": {},
     "output_type": "execute_result"
    }
   ],
   "source": [
    "#check the first 3 rows to have a look at the data\n",
    "df_18.head(3)"
   ]
  },
  {
   "cell_type": "markdown",
   "id": "e5b2fbd0",
   "metadata": {},
   "source": [
    " ##### First we need to check fthe info of the datasets and get a general overview on the datasets before we begin to dicve deep into specific investigtions"
   ]
  },
  {
   "cell_type": "code",
   "execution_count": 4,
   "id": "2b45c914",
   "metadata": {},
   "outputs": [
    {
     "name": "stdout",
     "output_type": "stream",
     "text": [
      "<class 'pandas.core.frame.DataFrame'>\n",
      "RangeIndex: 2404 entries, 0 to 2403\n",
      "Data columns (total 18 columns):\n",
      " #   Column                Non-Null Count  Dtype  \n",
      "---  ------                --------------  -----  \n",
      " 0   Model                 2404 non-null   object \n",
      " 1   Displ                 2404 non-null   float64\n",
      " 2   Cyl                   2205 non-null   object \n",
      " 3   Trans                 2205 non-null   object \n",
      " 4   Drive                 2311 non-null   object \n",
      " 5   Fuel                  2404 non-null   object \n",
      " 6   Sales Area            2404 non-null   object \n",
      " 7   Stnd                  2404 non-null   object \n",
      " 8   Underhood ID          2404 non-null   object \n",
      " 9   Veh Class             2404 non-null   object \n",
      " 10  Air Pollution Score   2404 non-null   object \n",
      " 11  FE Calc Appr          2205 non-null   object \n",
      " 12  City MPG              2205 non-null   object \n",
      " 13  Hwy MPG               2205 non-null   object \n",
      " 14  Cmb MPG               2205 non-null   object \n",
      " 15  Unadj Cmb MPG         2205 non-null   float64\n",
      " 16  Greenhouse Gas Score  2205 non-null   object \n",
      " 17  SmartWay              2404 non-null   object \n",
      "dtypes: float64(2), object(16)\n",
      "memory usage: 338.2+ KB\n"
     ]
    }
   ],
   "source": [
    "#check for info\n",
    "df_08.info()"
   ]
  },
  {
   "cell_type": "code",
   "execution_count": 5,
   "id": "a6fb33f3",
   "metadata": {},
   "outputs": [
    {
     "name": "stdout",
     "output_type": "stream",
     "text": [
      "<class 'pandas.core.frame.DataFrame'>\n",
      "RangeIndex: 1611 entries, 0 to 1610\n",
      "Data columns (total 18 columns):\n",
      " #   Column                Non-Null Count  Dtype  \n",
      "---  ------                --------------  -----  \n",
      " 0   Model                 1611 non-null   object \n",
      " 1   Displ                 1609 non-null   float64\n",
      " 2   Cyl                   1609 non-null   float64\n",
      " 3   Trans                 1611 non-null   object \n",
      " 4   Drive                 1611 non-null   object \n",
      " 5   Fuel                  1611 non-null   object \n",
      " 6   Cert Region           1611 non-null   object \n",
      " 7   Stnd                  1611 non-null   object \n",
      " 8   Stnd Description      1611 non-null   object \n",
      " 9   Underhood ID          1611 non-null   object \n",
      " 10  Veh Class             1611 non-null   object \n",
      " 11  Air Pollution Score   1611 non-null   int64  \n",
      " 12  City MPG              1611 non-null   object \n",
      " 13  Hwy MPG               1611 non-null   object \n",
      " 14  Cmb MPG               1611 non-null   object \n",
      " 15  Greenhouse Gas Score  1611 non-null   int64  \n",
      " 16  SmartWay              1611 non-null   object \n",
      " 17  Comb CO2              1611 non-null   object \n",
      "dtypes: float64(2), int64(2), object(14)\n",
      "memory usage: 226.7+ KB\n"
     ]
    }
   ],
   "source": [
    "df_18.info()"
   ]
  },
  {
   "cell_type": "markdown",
   "id": "0b3def25",
   "metadata": {},
   "source": [
    "##### Next, we check into specifcs about their datatypes"
   ]
  },
  {
   "cell_type": "code",
   "execution_count": 6,
   "id": "8268b92d",
   "metadata": {},
   "outputs": [
    {
     "data": {
      "text/plain": [
       "Model                    object\n",
       "Displ                   float64\n",
       "Cyl                      object\n",
       "Trans                    object\n",
       "Drive                    object\n",
       "Fuel                     object\n",
       "Sales Area               object\n",
       "Stnd                     object\n",
       "Underhood ID             object\n",
       "Veh Class                object\n",
       "Air Pollution Score      object\n",
       "FE Calc Appr             object\n",
       "City MPG                 object\n",
       "Hwy MPG                  object\n",
       "Cmb MPG                  object\n",
       "Unadj Cmb MPG           float64\n",
       "Greenhouse Gas Score     object\n",
       "SmartWay                 object\n",
       "dtype: object"
      ]
     },
     "execution_count": 6,
     "metadata": {},
     "output_type": "execute_result"
    }
   ],
   "source": [
    "#check the data types\n",
    "df_08.dtypes"
   ]
  },
  {
   "cell_type": "code",
   "execution_count": 7,
   "id": "f3cde89a",
   "metadata": {},
   "outputs": [
    {
     "data": {
      "text/plain": [
       "Model                    object\n",
       "Displ                   float64\n",
       "Cyl                     float64\n",
       "Trans                    object\n",
       "Drive                    object\n",
       "Fuel                     object\n",
       "Cert Region              object\n",
       "Stnd                     object\n",
       "Stnd Description         object\n",
       "Underhood ID             object\n",
       "Veh Class                object\n",
       "Air Pollution Score       int64\n",
       "City MPG                 object\n",
       "Hwy MPG                  object\n",
       "Cmb MPG                  object\n",
       "Greenhouse Gas Score      int64\n",
       "SmartWay                 object\n",
       "Comb CO2                 object\n",
       "dtype: object"
      ]
     },
     "execution_count": 7,
     "metadata": {},
     "output_type": "execute_result"
    }
   ],
   "source": [
    "df_18.dtypes"
   ]
  },
  {
   "cell_type": "markdown",
   "id": "5edbb329",
   "metadata": {},
   "source": [
    "##### The above shows us that there are a few issues with our datatypes and we will have to fix them as we proceed, for now, we need to scan through the data for other potetial errors such as missing values, duplicate values, unmatching column names, unnecessary columns and the likes. So we will keep these in mind as we continue to scan througth the datasets\n",
    "\n",
    "\n",
    "##### Next, we need to check for missing values in both datasets"
   ]
  },
  {
   "cell_type": "code",
   "execution_count": 8,
   "id": "93b48e5e",
   "metadata": {},
   "outputs": [
    {
     "data": {
      "text/plain": [
       "Model                     0\n",
       "Displ                     0\n",
       "Cyl                     199\n",
       "Trans                   199\n",
       "Drive                    93\n",
       "Fuel                      0\n",
       "Sales Area                0\n",
       "Stnd                      0\n",
       "Underhood ID              0\n",
       "Veh Class                 0\n",
       "Air Pollution Score       0\n",
       "FE Calc Appr            199\n",
       "City MPG                199\n",
       "Hwy MPG                 199\n",
       "Cmb MPG                 199\n",
       "Unadj Cmb MPG           199\n",
       "Greenhouse Gas Score    199\n",
       "SmartWay                  0\n",
       "dtype: int64"
      ]
     },
     "execution_count": 8,
     "metadata": {},
     "output_type": "execute_result"
    }
   ],
   "source": [
    "#check for missing values in 2008 dataset\n",
    "df_08.isnull().sum()"
   ]
  },
  {
   "cell_type": "code",
   "execution_count": 9,
   "id": "2d19735c",
   "metadata": {},
   "outputs": [
    {
     "data": {
      "text/plain": [
       "Model                   0\n",
       "Displ                   2\n",
       "Cyl                     2\n",
       "Trans                   0\n",
       "Drive                   0\n",
       "Fuel                    0\n",
       "Cert Region             0\n",
       "Stnd                    0\n",
       "Stnd Description        0\n",
       "Underhood ID            0\n",
       "Veh Class               0\n",
       "Air Pollution Score     0\n",
       "City MPG                0\n",
       "Hwy MPG                 0\n",
       "Cmb MPG                 0\n",
       "Greenhouse Gas Score    0\n",
       "SmartWay                0\n",
       "Comb CO2                0\n",
       "dtype: int64"
      ]
     },
     "execution_count": 9,
     "metadata": {},
     "output_type": "execute_result"
    }
   ],
   "source": [
    "#check for missing values in 2018 dataset\n",
    "df_18.isnull().sum()"
   ]
  },
  {
   "cell_type": "markdown",
   "id": "567f350e",
   "metadata": {},
   "source": [
    "##### We can see that in the 2008 dataset we have 199 missinfg values in `Cyl` , `Trans` , `FE Calc Appr`, `City MPG`, `Hwy MPG`, `Cmb MPG`, `Unadj Cmb MPG`, `Greenhouse Gas Score` columns and we will need to fix them later\n",
    "\n",
    "\n",
    "\n",
    "##### We can also see that in the 2018 dataset we have 199 missinfg values in `Cyl`, `dspl` columns and we will need to fix them too later\n",
    "\n",
    "\n",
    "\n",
    "##### Next, we will need to check for duplicate rows on both datasets\n",
    "\n"
   ]
  },
  {
   "cell_type": "code",
   "execution_count": 10,
   "id": "e0c210a0",
   "metadata": {},
   "outputs": [
    {
     "data": {
      "text/plain": [
       "True"
      ]
     },
     "execution_count": 10,
     "metadata": {},
     "output_type": "execute_result"
    }
   ],
   "source": [
    "#check if there are duplicated rows in 2008 dataset\n",
    "df_08.duplicated().sum().any()"
   ]
  },
  {
   "cell_type": "code",
   "execution_count": 11,
   "id": "b0f821e9",
   "metadata": {},
   "outputs": [
    {
     "data": {
      "text/plain": [
       "False"
      ]
     },
     "execution_count": 11,
     "metadata": {},
     "output_type": "execute_result"
    }
   ],
   "source": [
    "#check if there are duplicated rows in 2018 dataset\n",
    "df_18.duplicated().sum().any()"
   ]
  },
  {
   "cell_type": "code",
   "execution_count": 12,
   "id": "b069ff1a",
   "metadata": {},
   "outputs": [
    {
     "data": {
      "text/plain": [
       "25"
      ]
     },
     "execution_count": 12,
     "metadata": {},
     "output_type": "execute_result"
    }
   ],
   "source": [
    "#check for the actual number of duplicate rows in 20008\n",
    "\n",
    "df_08.duplicated().sum()"
   ]
  },
  {
   "cell_type": "code",
   "execution_count": 13,
   "id": "13ae8d36",
   "metadata": {},
   "outputs": [
    {
     "data": {
      "text/plain": [
       "0"
      ]
     },
     "execution_count": 13,
     "metadata": {},
     "output_type": "execute_result"
    }
   ],
   "source": [
    "#check for the actual number of duplicate rows in 2018\n",
    "\n",
    "df_18.duplicated().sum()"
   ]
  },
  {
   "cell_type": "markdown",
   "id": "b09dd878",
   "metadata": {},
   "source": [
    "##### From the above, we can seee that the 2008 has 25 duplicate rows in it while the 2018 have no duplicate rows.\n",
    "\n",
    "##### Next, we need to check for unique values in the both datesets"
   ]
  },
  {
   "cell_type": "code",
   "execution_count": 14,
   "id": "1ab876c8",
   "metadata": {},
   "outputs": [
    {
     "data": {
      "text/plain": [
       "Model                   436\n",
       "Displ                    47\n",
       "Cyl                       8\n",
       "Trans                    14\n",
       "Drive                     2\n",
       "Fuel                      5\n",
       "Sales Area                3\n",
       "Stnd                     12\n",
       "Underhood ID            343\n",
       "Veh Class                 9\n",
       "Air Pollution Score      13\n",
       "FE Calc Appr              2\n",
       "City MPG                 39\n",
       "Hwy MPG                  43\n",
       "Cmb MPG                  38\n",
       "Unadj Cmb MPG           721\n",
       "Greenhouse Gas Score     20\n",
       "SmartWay                  2\n",
       "dtype: int64"
      ]
     },
     "execution_count": 14,
     "metadata": {},
     "output_type": "execute_result"
    }
   ],
   "source": [
    "#check for unique values in 2008\n",
    "\n",
    "df_08.nunique()"
   ]
  },
  {
   "cell_type": "code",
   "execution_count": 15,
   "id": "5d49b1e0",
   "metadata": {},
   "outputs": [
    {
     "data": {
      "text/plain": [
       "Model                   367\n",
       "Displ                    36\n",
       "Cyl                       7\n",
       "Trans                    26\n",
       "Drive                     2\n",
       "Fuel                      5\n",
       "Cert Region               2\n",
       "Stnd                     19\n",
       "Stnd Description         19\n",
       "Underhood ID            230\n",
       "Veh Class                 9\n",
       "Air Pollution Score       6\n",
       "City MPG                 58\n",
       "Hwy MPG                  62\n",
       "Cmb MPG                  57\n",
       "Greenhouse Gas Score     10\n",
       "SmartWay                  3\n",
       "Comb CO2                299\n",
       "dtype: int64"
      ]
     },
     "execution_count": 15,
     "metadata": {},
     "output_type": "execute_result"
    }
   ],
   "source": [
    "#check for unique values in 2018\n",
    "\n",
    "df_18.nunique()"
   ]
  },
  {
   "cell_type": "code",
   "execution_count": 16,
   "id": "bf4491f8",
   "metadata": {},
   "outputs": [
    {
     "data": {
      "text/plain": [
       "(2404, 18)"
      ]
     },
     "execution_count": 16,
     "metadata": {},
     "output_type": "execute_result"
    }
   ],
   "source": [
    "#ceck the shape for the 2008 dataset\n",
    "df_08.shape"
   ]
  },
  {
   "cell_type": "code",
   "execution_count": 17,
   "id": "0a3bcfe8",
   "metadata": {},
   "outputs": [
    {
     "data": {
      "text/plain": [
       "(1611, 18)"
      ]
     },
     "execution_count": 17,
     "metadata": {},
     "output_type": "execute_result"
    }
   ],
   "source": [
    "#ceck the shape for the 2018 dataset\n",
    "df_18.shape"
   ]
  },
  {
   "cell_type": "markdown",
   "id": "50480753",
   "metadata": {},
   "source": [
    "##### We have seen the number of unique values in each of our columns and if for any reason, we will be doing without any of the values, we will find out as we proceed.\n",
    "\n",
    "##### Next we want to compare the column names/headers for the two datasets and then check to see the columns we will be renaming to match \n"
   ]
  },
  {
   "cell_type": "code",
   "execution_count": 18,
   "id": "2ff52547",
   "metadata": {},
   "outputs": [
    {
     "data": {
      "text/html": [
       "<div>\n",
       "<style scoped>\n",
       "    .dataframe tbody tr th:only-of-type {\n",
       "        vertical-align: middle;\n",
       "    }\n",
       "\n",
       "    .dataframe tbody tr th {\n",
       "        vertical-align: top;\n",
       "    }\n",
       "\n",
       "    .dataframe thead th {\n",
       "        text-align: right;\n",
       "    }\n",
       "</style>\n",
       "<table border=\"1\" class=\"dataframe\">\n",
       "  <thead>\n",
       "    <tr style=\"text-align: right;\">\n",
       "      <th></th>\n",
       "      <th>Model</th>\n",
       "      <th>Displ</th>\n",
       "      <th>Cyl</th>\n",
       "      <th>Trans</th>\n",
       "      <th>Drive</th>\n",
       "      <th>Fuel</th>\n",
       "      <th>Sales Area</th>\n",
       "      <th>Stnd</th>\n",
       "      <th>Underhood ID</th>\n",
       "      <th>Veh Class</th>\n",
       "      <th>Air Pollution Score</th>\n",
       "      <th>FE Calc Appr</th>\n",
       "      <th>City MPG</th>\n",
       "      <th>Hwy MPG</th>\n",
       "      <th>Cmb MPG</th>\n",
       "      <th>Unadj Cmb MPG</th>\n",
       "      <th>Greenhouse Gas Score</th>\n",
       "      <th>SmartWay</th>\n",
       "    </tr>\n",
       "  </thead>\n",
       "  <tbody>\n",
       "    <tr>\n",
       "      <th>0</th>\n",
       "      <td>ACURA MDX</td>\n",
       "      <td>3.7</td>\n",
       "      <td>(6 cyl)</td>\n",
       "      <td>Auto-S5</td>\n",
       "      <td>4WD</td>\n",
       "      <td>Gasoline</td>\n",
       "      <td>CA</td>\n",
       "      <td>U2</td>\n",
       "      <td>8HNXT03.7PKR</td>\n",
       "      <td>SUV</td>\n",
       "      <td>7</td>\n",
       "      <td>Drv</td>\n",
       "      <td>15</td>\n",
       "      <td>20</td>\n",
       "      <td>17</td>\n",
       "      <td>22.0527</td>\n",
       "      <td>4</td>\n",
       "      <td>no</td>\n",
       "    </tr>\n",
       "  </tbody>\n",
       "</table>\n",
       "</div>"
      ],
      "text/plain": [
       "       Model  Displ      Cyl    Trans Drive      Fuel Sales Area Stnd  \\\n",
       "0  ACURA MDX    3.7  (6 cyl)  Auto-S5   4WD  Gasoline         CA   U2   \n",
       "\n",
       "   Underhood ID Veh Class Air Pollution Score FE Calc Appr City MPG Hwy MPG  \\\n",
       "0  8HNXT03.7PKR       SUV                   7          Drv       15      20   \n",
       "\n",
       "  Cmb MPG  Unadj Cmb MPG Greenhouse Gas Score SmartWay  \n",
       "0      17        22.0527                    4       no  "
      ]
     },
     "execution_count": 18,
     "metadata": {},
     "output_type": "execute_result"
    }
   ],
   "source": [
    "#check for column names by calling a single row out of the 2008 dataset\n",
    "df_08.head(1)"
   ]
  },
  {
   "cell_type": "code",
   "execution_count": 19,
   "id": "8ce28d99",
   "metadata": {},
   "outputs": [
    {
     "data": {
      "text/html": [
       "<div>\n",
       "<style scoped>\n",
       "    .dataframe tbody tr th:only-of-type {\n",
       "        vertical-align: middle;\n",
       "    }\n",
       "\n",
       "    .dataframe tbody tr th {\n",
       "        vertical-align: top;\n",
       "    }\n",
       "\n",
       "    .dataframe thead th {\n",
       "        text-align: right;\n",
       "    }\n",
       "</style>\n",
       "<table border=\"1\" class=\"dataframe\">\n",
       "  <thead>\n",
       "    <tr style=\"text-align: right;\">\n",
       "      <th></th>\n",
       "      <th>Model</th>\n",
       "      <th>Displ</th>\n",
       "      <th>Cyl</th>\n",
       "      <th>Trans</th>\n",
       "      <th>Drive</th>\n",
       "      <th>Fuel</th>\n",
       "      <th>Cert Region</th>\n",
       "      <th>Stnd</th>\n",
       "      <th>Stnd Description</th>\n",
       "      <th>Underhood ID</th>\n",
       "      <th>Veh Class</th>\n",
       "      <th>Air Pollution Score</th>\n",
       "      <th>City MPG</th>\n",
       "      <th>Hwy MPG</th>\n",
       "      <th>Cmb MPG</th>\n",
       "      <th>Greenhouse Gas Score</th>\n",
       "      <th>SmartWay</th>\n",
       "      <th>Comb CO2</th>\n",
       "    </tr>\n",
       "  </thead>\n",
       "  <tbody>\n",
       "    <tr>\n",
       "      <th>0</th>\n",
       "      <td>ACURA RDX</td>\n",
       "      <td>3.5</td>\n",
       "      <td>6.0</td>\n",
       "      <td>SemiAuto-6</td>\n",
       "      <td>2WD</td>\n",
       "      <td>Gasoline</td>\n",
       "      <td>FA</td>\n",
       "      <td>T3B125</td>\n",
       "      <td>Federal Tier 3 Bin 125</td>\n",
       "      <td>JHNXT03.5GV3</td>\n",
       "      <td>small SUV</td>\n",
       "      <td>3</td>\n",
       "      <td>20</td>\n",
       "      <td>28</td>\n",
       "      <td>23</td>\n",
       "      <td>5</td>\n",
       "      <td>No</td>\n",
       "      <td>386</td>\n",
       "    </tr>\n",
       "  </tbody>\n",
       "</table>\n",
       "</div>"
      ],
      "text/plain": [
       "       Model  Displ  Cyl       Trans Drive      Fuel Cert Region    Stnd  \\\n",
       "0  ACURA RDX    3.5  6.0  SemiAuto-6   2WD  Gasoline          FA  T3B125   \n",
       "\n",
       "         Stnd Description  Underhood ID  Veh Class  Air Pollution Score  \\\n",
       "0  Federal Tier 3 Bin 125  JHNXT03.5GV3  small SUV                    3   \n",
       "\n",
       "  City MPG Hwy MPG Cmb MPG  Greenhouse Gas Score SmartWay Comb CO2  \n",
       "0       20      28      23                     5       No      386  "
      ]
     },
     "execution_count": 19,
     "metadata": {},
     "output_type": "execute_result"
    }
   ],
   "source": [
    "\n",
    "#check for column names by calling a single row out of the 2018 dataset\n",
    "df_18.head(1)"
   ]
  },
  {
   "cell_type": "markdown",
   "id": "04734297",
   "metadata": {},
   "source": [
    "##### From the above we have seen that we have to change the column name `Sales Area` to `Cert Region`\n",
    "\n",
    "\n",
    "##### Also we have a clue on the columns we need to drop for each of the dataset i.e columns that are not needed for our anlysis \n",
    "\n",
    "##### 2008 - `Stnd`\t`Underhood ID`\t`FE Calc Appr` `Unadj Cmb MPG`\n",
    "\n",
    "##### 2018 - `Stnd`\t`Stnd Description`\t`Underhood ID`  `Comb CO2`"
   ]
  },
  {
   "cell_type": "markdown",
   "id": "93986d2b",
   "metadata": {},
   "source": [
    "## Cleaning the Data"
   ]
  },
  {
   "cell_type": "markdown",
   "id": "e2293132",
   "metadata": {},
   "source": [
    "##### The next set of steps will be centered on cleaning our data and making it t fit for analysis at the final stage.\n",
    "\n",
    "##### We will start by renaming the columns in detail.\n",
    "\n",
    "##### we need to change `Sales Area` in 2008 datset to `cert region`\n",
    "\n",
    "##### then we will change all column headers to lowercase letters in all and replace all spaces with`_`"
   ]
  },
  {
   "cell_type": "code",
   "execution_count": 20,
   "id": "b2246db7",
   "metadata": {},
   "outputs": [],
   "source": [
    "#to rename Sales Area column in 2008 to cert region\n",
    "df_08 = df_08.rename(columns ={'Sales Area' : 'cert region'})"
   ]
  },
  {
   "cell_type": "code",
   "execution_count": 21,
   "id": "1ff7261a",
   "metadata": {},
   "outputs": [
    {
     "data": {
      "text/html": [
       "<div>\n",
       "<style scoped>\n",
       "    .dataframe tbody tr th:only-of-type {\n",
       "        vertical-align: middle;\n",
       "    }\n",
       "\n",
       "    .dataframe tbody tr th {\n",
       "        vertical-align: top;\n",
       "    }\n",
       "\n",
       "    .dataframe thead th {\n",
       "        text-align: right;\n",
       "    }\n",
       "</style>\n",
       "<table border=\"1\" class=\"dataframe\">\n",
       "  <thead>\n",
       "    <tr style=\"text-align: right;\">\n",
       "      <th></th>\n",
       "      <th>Model</th>\n",
       "      <th>Displ</th>\n",
       "      <th>Cyl</th>\n",
       "      <th>Trans</th>\n",
       "      <th>Drive</th>\n",
       "      <th>Fuel</th>\n",
       "      <th>cert region</th>\n",
       "      <th>Stnd</th>\n",
       "      <th>Underhood ID</th>\n",
       "      <th>Veh Class</th>\n",
       "      <th>Air Pollution Score</th>\n",
       "      <th>FE Calc Appr</th>\n",
       "      <th>City MPG</th>\n",
       "      <th>Hwy MPG</th>\n",
       "      <th>Cmb MPG</th>\n",
       "      <th>Unadj Cmb MPG</th>\n",
       "      <th>Greenhouse Gas Score</th>\n",
       "      <th>SmartWay</th>\n",
       "    </tr>\n",
       "  </thead>\n",
       "  <tbody>\n",
       "    <tr>\n",
       "      <th>0</th>\n",
       "      <td>ACURA MDX</td>\n",
       "      <td>3.7</td>\n",
       "      <td>(6 cyl)</td>\n",
       "      <td>Auto-S5</td>\n",
       "      <td>4WD</td>\n",
       "      <td>Gasoline</td>\n",
       "      <td>CA</td>\n",
       "      <td>U2</td>\n",
       "      <td>8HNXT03.7PKR</td>\n",
       "      <td>SUV</td>\n",
       "      <td>7</td>\n",
       "      <td>Drv</td>\n",
       "      <td>15</td>\n",
       "      <td>20</td>\n",
       "      <td>17</td>\n",
       "      <td>22.0527</td>\n",
       "      <td>4</td>\n",
       "      <td>no</td>\n",
       "    </tr>\n",
       "  </tbody>\n",
       "</table>\n",
       "</div>"
      ],
      "text/plain": [
       "       Model  Displ      Cyl    Trans Drive      Fuel cert region Stnd  \\\n",
       "0  ACURA MDX    3.7  (6 cyl)  Auto-S5   4WD  Gasoline          CA   U2   \n",
       "\n",
       "   Underhood ID Veh Class Air Pollution Score FE Calc Appr City MPG Hwy MPG  \\\n",
       "0  8HNXT03.7PKR       SUV                   7          Drv       15      20   \n",
       "\n",
       "  Cmb MPG  Unadj Cmb MPG Greenhouse Gas Score SmartWay  \n",
       "0      17        22.0527                    4       no  "
      ]
     },
     "execution_count": 21,
     "metadata": {},
     "output_type": "execute_result"
    }
   ],
   "source": [
    "#confirm the change\n",
    "df_08.head(1)"
   ]
  },
  {
   "cell_type": "markdown",
   "id": "6b05ce15",
   "metadata": {},
   "source": [
    "##### Next we need to drop unncesary columns in our datasets"
   ]
  },
  {
   "cell_type": "code",
   "execution_count": 22,
   "id": "40f1a72f",
   "metadata": {},
   "outputs": [],
   "source": [
    "#drop unneccesary columns in 2008 dataset\n",
    "df_08.drop(['Stnd', 'Underhood ID', 'FE Calc Appr' ,'Unadj Cmb MPG'], axis =1, inplace = True)"
   ]
  },
  {
   "cell_type": "code",
   "execution_count": 23,
   "id": "26e5d061",
   "metadata": {},
   "outputs": [
    {
     "data": {
      "text/html": [
       "<div>\n",
       "<style scoped>\n",
       "    .dataframe tbody tr th:only-of-type {\n",
       "        vertical-align: middle;\n",
       "    }\n",
       "\n",
       "    .dataframe tbody tr th {\n",
       "        vertical-align: top;\n",
       "    }\n",
       "\n",
       "    .dataframe thead th {\n",
       "        text-align: right;\n",
       "    }\n",
       "</style>\n",
       "<table border=\"1\" class=\"dataframe\">\n",
       "  <thead>\n",
       "    <tr style=\"text-align: right;\">\n",
       "      <th></th>\n",
       "      <th>Model</th>\n",
       "      <th>Displ</th>\n",
       "      <th>Cyl</th>\n",
       "      <th>Trans</th>\n",
       "      <th>Drive</th>\n",
       "      <th>Fuel</th>\n",
       "      <th>cert region</th>\n",
       "      <th>Veh Class</th>\n",
       "      <th>Air Pollution Score</th>\n",
       "      <th>City MPG</th>\n",
       "      <th>Hwy MPG</th>\n",
       "      <th>Cmb MPG</th>\n",
       "      <th>Greenhouse Gas Score</th>\n",
       "      <th>SmartWay</th>\n",
       "    </tr>\n",
       "  </thead>\n",
       "  <tbody>\n",
       "    <tr>\n",
       "      <th>0</th>\n",
       "      <td>ACURA MDX</td>\n",
       "      <td>3.7</td>\n",
       "      <td>(6 cyl)</td>\n",
       "      <td>Auto-S5</td>\n",
       "      <td>4WD</td>\n",
       "      <td>Gasoline</td>\n",
       "      <td>CA</td>\n",
       "      <td>SUV</td>\n",
       "      <td>7</td>\n",
       "      <td>15</td>\n",
       "      <td>20</td>\n",
       "      <td>17</td>\n",
       "      <td>4</td>\n",
       "      <td>no</td>\n",
       "    </tr>\n",
       "  </tbody>\n",
       "</table>\n",
       "</div>"
      ],
      "text/plain": [
       "       Model  Displ      Cyl    Trans Drive      Fuel cert region Veh Class  \\\n",
       "0  ACURA MDX    3.7  (6 cyl)  Auto-S5   4WD  Gasoline          CA       SUV   \n",
       "\n",
       "  Air Pollution Score City MPG Hwy MPG Cmb MPG Greenhouse Gas Score SmartWay  \n",
       "0                   7       15      20      17                    4       no  "
      ]
     },
     "execution_count": 23,
     "metadata": {},
     "output_type": "execute_result"
    }
   ],
   "source": [
    "#confirm\n",
    "df_08.head(1)"
   ]
  },
  {
   "cell_type": "code",
   "execution_count": 24,
   "id": "8e85ec24",
   "metadata": {},
   "outputs": [],
   "source": [
    "#drop unneccesary columns in 2018 dataset\n",
    "df_18.drop(['Stnd','Stnd Description', 'Underhood ID', 'Comb CO2'], axis =1, inplace = True)"
   ]
  },
  {
   "cell_type": "code",
   "execution_count": 25,
   "id": "0912a295",
   "metadata": {},
   "outputs": [
    {
     "data": {
      "text/html": [
       "<div>\n",
       "<style scoped>\n",
       "    .dataframe tbody tr th:only-of-type {\n",
       "        vertical-align: middle;\n",
       "    }\n",
       "\n",
       "    .dataframe tbody tr th {\n",
       "        vertical-align: top;\n",
       "    }\n",
       "\n",
       "    .dataframe thead th {\n",
       "        text-align: right;\n",
       "    }\n",
       "</style>\n",
       "<table border=\"1\" class=\"dataframe\">\n",
       "  <thead>\n",
       "    <tr style=\"text-align: right;\">\n",
       "      <th></th>\n",
       "      <th>Model</th>\n",
       "      <th>Displ</th>\n",
       "      <th>Cyl</th>\n",
       "      <th>Trans</th>\n",
       "      <th>Drive</th>\n",
       "      <th>Fuel</th>\n",
       "      <th>Cert Region</th>\n",
       "      <th>Veh Class</th>\n",
       "      <th>Air Pollution Score</th>\n",
       "      <th>City MPG</th>\n",
       "      <th>Hwy MPG</th>\n",
       "      <th>Cmb MPG</th>\n",
       "      <th>Greenhouse Gas Score</th>\n",
       "      <th>SmartWay</th>\n",
       "    </tr>\n",
       "  </thead>\n",
       "  <tbody>\n",
       "    <tr>\n",
       "      <th>0</th>\n",
       "      <td>ACURA RDX</td>\n",
       "      <td>3.5</td>\n",
       "      <td>6.0</td>\n",
       "      <td>SemiAuto-6</td>\n",
       "      <td>2WD</td>\n",
       "      <td>Gasoline</td>\n",
       "      <td>FA</td>\n",
       "      <td>small SUV</td>\n",
       "      <td>3</td>\n",
       "      <td>20</td>\n",
       "      <td>28</td>\n",
       "      <td>23</td>\n",
       "      <td>5</td>\n",
       "      <td>No</td>\n",
       "    </tr>\n",
       "  </tbody>\n",
       "</table>\n",
       "</div>"
      ],
      "text/plain": [
       "       Model  Displ  Cyl       Trans Drive      Fuel Cert Region  Veh Class  \\\n",
       "0  ACURA RDX    3.5  6.0  SemiAuto-6   2WD  Gasoline          FA  small SUV   \n",
       "\n",
       "   Air Pollution Score City MPG Hwy MPG Cmb MPG  Greenhouse Gas Score SmartWay  \n",
       "0                    3       20      28      23                     5       No  "
      ]
     },
     "execution_count": 25,
     "metadata": {},
     "output_type": "execute_result"
    }
   ],
   "source": [
    "#confirm\n",
    "df_18.head(1)"
   ]
  },
  {
   "cell_type": "markdown",
   "id": "1a6da4ae",
   "metadata": {},
   "source": [
    "##### Now, our both datasets have the same column names and there are no longer unnecesarry columns in the datset any longer\n",
    "\n",
    "##### Next, we need replace all column headers/names having space with `_` for the sake of sonme operations that we will be performing later. In addition to that we shall be making all headers lowercase"
   ]
  },
  {
   "cell_type": "code",
   "execution_count": 26,
   "id": "75b6d13a",
   "metadata": {},
   "outputs": [],
   "source": [
    "#to replace space with '_' and change all in the 2008 dataset\n",
    "df_08.rename(columns = lambda x :x.strip().lower().replace(\" \", \"_\"), inplace = True)"
   ]
  },
  {
   "cell_type": "code",
   "execution_count": 27,
   "id": "e531fe9b",
   "metadata": {},
   "outputs": [
    {
     "data": {
      "text/html": [
       "<div>\n",
       "<style scoped>\n",
       "    .dataframe tbody tr th:only-of-type {\n",
       "        vertical-align: middle;\n",
       "    }\n",
       "\n",
       "    .dataframe tbody tr th {\n",
       "        vertical-align: top;\n",
       "    }\n",
       "\n",
       "    .dataframe thead th {\n",
       "        text-align: right;\n",
       "    }\n",
       "</style>\n",
       "<table border=\"1\" class=\"dataframe\">\n",
       "  <thead>\n",
       "    <tr style=\"text-align: right;\">\n",
       "      <th></th>\n",
       "      <th>model</th>\n",
       "      <th>displ</th>\n",
       "      <th>cyl</th>\n",
       "      <th>trans</th>\n",
       "      <th>drive</th>\n",
       "      <th>fuel</th>\n",
       "      <th>cert_region</th>\n",
       "      <th>veh_class</th>\n",
       "      <th>air_pollution_score</th>\n",
       "      <th>city_mpg</th>\n",
       "      <th>hwy_mpg</th>\n",
       "      <th>cmb_mpg</th>\n",
       "      <th>greenhouse_gas_score</th>\n",
       "      <th>smartway</th>\n",
       "    </tr>\n",
       "  </thead>\n",
       "  <tbody>\n",
       "  </tbody>\n",
       "</table>\n",
       "</div>"
      ],
      "text/plain": [
       "Empty DataFrame\n",
       "Columns: [model, displ, cyl, trans, drive, fuel, cert_region, veh_class, air_pollution_score, city_mpg, hwy_mpg, cmb_mpg, greenhouse_gas_score, smartway]\n",
       "Index: []"
      ]
     },
     "execution_count": 27,
     "metadata": {},
     "output_type": "execute_result"
    }
   ],
   "source": [
    "#confirm \n",
    "df_08.head(0)"
   ]
  },
  {
   "cell_type": "code",
   "execution_count": 28,
   "id": "321cd7a7",
   "metadata": {},
   "outputs": [],
   "source": [
    "#to replace space with '_' and change all in the 2018 dataset\n",
    "df_18.rename(columns = lambda x :x.strip().lower().replace(\" \",\"_\"), inplace = True)"
   ]
  },
  {
   "cell_type": "code",
   "execution_count": 29,
   "id": "cde1bb48",
   "metadata": {},
   "outputs": [
    {
     "data": {
      "text/html": [
       "<div>\n",
       "<style scoped>\n",
       "    .dataframe tbody tr th:only-of-type {\n",
       "        vertical-align: middle;\n",
       "    }\n",
       "\n",
       "    .dataframe tbody tr th {\n",
       "        vertical-align: top;\n",
       "    }\n",
       "\n",
       "    .dataframe thead th {\n",
       "        text-align: right;\n",
       "    }\n",
       "</style>\n",
       "<table border=\"1\" class=\"dataframe\">\n",
       "  <thead>\n",
       "    <tr style=\"text-align: right;\">\n",
       "      <th></th>\n",
       "      <th>model</th>\n",
       "      <th>displ</th>\n",
       "      <th>cyl</th>\n",
       "      <th>trans</th>\n",
       "      <th>drive</th>\n",
       "      <th>fuel</th>\n",
       "      <th>cert_region</th>\n",
       "      <th>veh_class</th>\n",
       "      <th>air_pollution_score</th>\n",
       "      <th>city_mpg</th>\n",
       "      <th>hwy_mpg</th>\n",
       "      <th>cmb_mpg</th>\n",
       "      <th>greenhouse_gas_score</th>\n",
       "      <th>smartway</th>\n",
       "    </tr>\n",
       "  </thead>\n",
       "  <tbody>\n",
       "  </tbody>\n",
       "</table>\n",
       "</div>"
      ],
      "text/plain": [
       "Empty DataFrame\n",
       "Columns: [model, displ, cyl, trans, drive, fuel, cert_region, veh_class, air_pollution_score, city_mpg, hwy_mpg, cmb_mpg, greenhouse_gas_score, smartway]\n",
       "Index: []"
      ]
     },
     "execution_count": 29,
     "metadata": {},
     "output_type": "execute_result"
    }
   ],
   "source": [
    "#confirm \n",
    "df_18.head(0)"
   ]
  },
  {
   "cell_type": "code",
   "execution_count": 30,
   "id": "da00d5c2",
   "metadata": {},
   "outputs": [
    {
     "data": {
      "text/plain": [
       "(2404, 14)"
      ]
     },
     "execution_count": 30,
     "metadata": {},
     "output_type": "execute_result"
    }
   ],
   "source": [
    "df_08.shape"
   ]
  },
  {
   "cell_type": "code",
   "execution_count": 31,
   "id": "c6d50f79",
   "metadata": {},
   "outputs": [
    {
     "data": {
      "text/plain": [
       "(1611, 14)"
      ]
     },
     "execution_count": 31,
     "metadata": {},
     "output_type": "execute_result"
    }
   ],
   "source": [
    "df_18.shape"
   ]
  },
  {
   "cell_type": "markdown",
   "id": "fda3ad13",
   "metadata": {},
   "source": [
    "##### Next, since our focus is cars certified in Califonia we need to filter our dataset to cars only certified in califoria"
   ]
  },
  {
   "cell_type": "code",
   "execution_count": 32,
   "id": "d7bad6e1",
   "metadata": {},
   "outputs": [
    {
     "data": {
      "text/plain": [
       "array(['CA', 'FA', 'FC'], dtype=object)"
      ]
     },
     "execution_count": 32,
     "metadata": {},
     "output_type": "execute_result"
    }
   ],
   "source": [
    "#to check the list of unique values in the crt_region column\n",
    "df_08.cert_region.unique()"
   ]
  },
  {
   "cell_type": "code",
   "execution_count": 33,
   "id": "9bf8c351",
   "metadata": {},
   "outputs": [
    {
     "data": {
      "text/plain": [
       "array(['FA', 'CA'], dtype=object)"
      ]
     },
     "execution_count": 33,
     "metadata": {},
     "output_type": "execute_result"
    }
   ],
   "source": [
    "#to check the list of unique values in the crt_region column\n",
    "df_18.cert_region.unique()"
   ]
  },
  {
   "cell_type": "code",
   "execution_count": 34,
   "id": "028e65e3",
   "metadata": {},
   "outputs": [],
   "source": [
    "#to filter out the rows with califonia certification\n",
    "df_08 =df_08.query('cert_region == \"CA\"')\n",
    "df_18 = df_18.query('cert_region == \"CA\"')"
   ]
  },
  {
   "cell_type": "code",
   "execution_count": 35,
   "id": "25ab9462",
   "metadata": {},
   "outputs": [
    {
     "data": {
      "text/plain": [
       "array(['CA'], dtype=object)"
      ]
     },
     "execution_count": 35,
     "metadata": {},
     "output_type": "execute_result"
    }
   ],
   "source": [
    "#confirm  for 2008 datset\n",
    "df_08.cert_region.unique()"
   ]
  },
  {
   "cell_type": "code",
   "execution_count": 36,
   "id": "128dbd03",
   "metadata": {},
   "outputs": [
    {
     "data": {
      "text/plain": [
       "array(['CA'], dtype=object)"
      ]
     },
     "execution_count": 36,
     "metadata": {},
     "output_type": "execute_result"
    }
   ],
   "source": [
    "#confirm  for 2018 datset\n",
    "df_18.cert_region.unique()"
   ]
  },
  {
   "cell_type": "code",
   "execution_count": 37,
   "id": "656520a3",
   "metadata": {},
   "outputs": [
    {
     "data": {
      "text/plain": [
       "(1084, 14)"
      ]
     },
     "execution_count": 37,
     "metadata": {},
     "output_type": "execute_result"
    }
   ],
   "source": [
    "#confrim the new shape of the 2008 dataest\n",
    "df_08.shape"
   ]
  },
  {
   "cell_type": "code",
   "execution_count": 38,
   "id": "eb15e8d5",
   "metadata": {},
   "outputs": [
    {
     "data": {
      "text/plain": [
       "(798, 14)"
      ]
     },
     "execution_count": 38,
     "metadata": {},
     "output_type": "execute_result"
    }
   ],
   "source": [
    "#confrim the new shape of the 2018 dataest\n",
    "df_18.shape"
   ]
  },
  {
   "cell_type": "markdown",
   "id": "4ebf22c0",
   "metadata": {},
   "source": [
    "##### Next, we should drop te column `cert_region` since our dataset has been filtered in previous steps, we don't need it any more"
   ]
  },
  {
   "cell_type": "code",
   "execution_count": 39,
   "id": "dfebeef6",
   "metadata": {},
   "outputs": [],
   "source": [
    "df_08 = df_08.drop(columns = ['cert_region'])\n",
    "df_18 = df_18.drop(columns = ['cert_region'])"
   ]
  },
  {
   "cell_type": "code",
   "execution_count": 40,
   "id": "0e8d30d2",
   "metadata": {},
   "outputs": [
    {
     "data": {
      "text/html": [
       "<div>\n",
       "<style scoped>\n",
       "    .dataframe tbody tr th:only-of-type {\n",
       "        vertical-align: middle;\n",
       "    }\n",
       "\n",
       "    .dataframe tbody tr th {\n",
       "        vertical-align: top;\n",
       "    }\n",
       "\n",
       "    .dataframe thead th {\n",
       "        text-align: right;\n",
       "    }\n",
       "</style>\n",
       "<table border=\"1\" class=\"dataframe\">\n",
       "  <thead>\n",
       "    <tr style=\"text-align: right;\">\n",
       "      <th></th>\n",
       "      <th>model</th>\n",
       "      <th>displ</th>\n",
       "      <th>cyl</th>\n",
       "      <th>trans</th>\n",
       "      <th>drive</th>\n",
       "      <th>fuel</th>\n",
       "      <th>veh_class</th>\n",
       "      <th>air_pollution_score</th>\n",
       "      <th>city_mpg</th>\n",
       "      <th>hwy_mpg</th>\n",
       "      <th>cmb_mpg</th>\n",
       "      <th>greenhouse_gas_score</th>\n",
       "      <th>smartway</th>\n",
       "    </tr>\n",
       "  </thead>\n",
       "  <tbody>\n",
       "  </tbody>\n",
       "</table>\n",
       "</div>"
      ],
      "text/plain": [
       "Empty DataFrame\n",
       "Columns: [model, displ, cyl, trans, drive, fuel, veh_class, air_pollution_score, city_mpg, hwy_mpg, cmb_mpg, greenhouse_gas_score, smartway]\n",
       "Index: []"
      ]
     },
     "execution_count": 40,
     "metadata": {},
     "output_type": "execute_result"
    }
   ],
   "source": [
    "#confirm thet teh columns have been removed\n",
    "df_08.head(0)"
   ]
  },
  {
   "cell_type": "code",
   "execution_count": 41,
   "id": "fc2bcbf3",
   "metadata": {},
   "outputs": [
    {
     "data": {
      "text/html": [
       "<div>\n",
       "<style scoped>\n",
       "    .dataframe tbody tr th:only-of-type {\n",
       "        vertical-align: middle;\n",
       "    }\n",
       "\n",
       "    .dataframe tbody tr th {\n",
       "        vertical-align: top;\n",
       "    }\n",
       "\n",
       "    .dataframe thead th {\n",
       "        text-align: right;\n",
       "    }\n",
       "</style>\n",
       "<table border=\"1\" class=\"dataframe\">\n",
       "  <thead>\n",
       "    <tr style=\"text-align: right;\">\n",
       "      <th></th>\n",
       "      <th>model</th>\n",
       "      <th>displ</th>\n",
       "      <th>cyl</th>\n",
       "      <th>trans</th>\n",
       "      <th>drive</th>\n",
       "      <th>fuel</th>\n",
       "      <th>veh_class</th>\n",
       "      <th>air_pollution_score</th>\n",
       "      <th>city_mpg</th>\n",
       "      <th>hwy_mpg</th>\n",
       "      <th>cmb_mpg</th>\n",
       "      <th>greenhouse_gas_score</th>\n",
       "      <th>smartway</th>\n",
       "    </tr>\n",
       "  </thead>\n",
       "  <tbody>\n",
       "  </tbody>\n",
       "</table>\n",
       "</div>"
      ],
      "text/plain": [
       "Empty DataFrame\n",
       "Columns: [model, displ, cyl, trans, drive, fuel, veh_class, air_pollution_score, city_mpg, hwy_mpg, cmb_mpg, greenhouse_gas_score, smartway]\n",
       "Index: []"
      ]
     },
     "execution_count": 41,
     "metadata": {},
     "output_type": "execute_result"
    }
   ],
   "source": [
    "#confirm thet teh columns have been removed\n",
    "df_18.head(0)"
   ]
  },
  {
   "cell_type": "markdown",
   "id": "80a27dc0",
   "metadata": {},
   "source": [
    "##### Next we want to check, for rows with missing columns and remove those rows"
   ]
  },
  {
   "cell_type": "code",
   "execution_count": 42,
   "id": "f249568e",
   "metadata": {},
   "outputs": [
    {
     "data": {
      "text/plain": [
       "model                    0\n",
       "displ                    0\n",
       "cyl                     75\n",
       "trans                   75\n",
       "drive                   37\n",
       "fuel                     0\n",
       "veh_class                0\n",
       "air_pollution_score      0\n",
       "city_mpg                75\n",
       "hwy_mpg                 75\n",
       "cmb_mpg                 75\n",
       "greenhouse_gas_score    75\n",
       "smartway                 0\n",
       "dtype: int64"
      ]
     },
     "execution_count": 42,
     "metadata": {},
     "output_type": "execute_result"
    }
   ],
   "source": [
    "#check for rows with missing values in 2008\n",
    "df_08.isnull().sum()"
   ]
  },
  {
   "cell_type": "code",
   "execution_count": 43,
   "id": "bf5ea004",
   "metadata": {},
   "outputs": [
    {
     "data": {
      "text/plain": [
       "model                   0\n",
       "displ                   1\n",
       "cyl                     1\n",
       "trans                   0\n",
       "drive                   0\n",
       "fuel                    0\n",
       "veh_class               0\n",
       "air_pollution_score     0\n",
       "city_mpg                0\n",
       "hwy_mpg                 0\n",
       "cmb_mpg                 0\n",
       "greenhouse_gas_score    0\n",
       "smartway                0\n",
       "dtype: int64"
      ]
     },
     "execution_count": 43,
     "metadata": {},
     "output_type": "execute_result"
    }
   ],
   "source": [
    "#check for rows with missing values in 2018\n",
    "df_18.isnull().sum()"
   ]
  },
  {
   "cell_type": "markdown",
   "id": "1370c9a8",
   "metadata": {},
   "source": [
    "##### Next, we will drop these rows because they are not useful for our analysis\n",
    "\n",
    "##### 2008 - `trans` and `drive`\n",
    "\n",
    "##### 2018 -  `displ` and `cyl`\n",
    "\n",
    "##### Note: the moment we fix the missing value issues for `trans` column in 2008, the other columns (`cyl`, `city_mpg`, `hwy_mpg`and `cmb_mpg`) will be fixed."
   ]
  },
  {
   "cell_type": "code",
   "execution_count": 44,
   "id": "3640c95f",
   "metadata": {},
   "outputs": [],
   "source": [
    "#drop rows with missimg values in 2008 \n",
    "df_08 = df_08.dropna(subset =['trans', 'drive'])"
   ]
  },
  {
   "cell_type": "code",
   "execution_count": 45,
   "id": "86eba1f7",
   "metadata": {},
   "outputs": [
    {
     "data": {
      "text/plain": [
       "model                   0\n",
       "displ                   0\n",
       "cyl                     0\n",
       "trans                   0\n",
       "drive                   0\n",
       "fuel                    0\n",
       "veh_class               0\n",
       "air_pollution_score     0\n",
       "city_mpg                0\n",
       "hwy_mpg                 0\n",
       "cmb_mpg                 0\n",
       "greenhouse_gas_score    0\n",
       "smartway                0\n",
       "dtype: int64"
      ]
     },
     "execution_count": 45,
     "metadata": {},
     "output_type": "execute_result"
    }
   ],
   "source": [
    "#confirm that they have been droped\n",
    "df_08.isnull().sum()"
   ]
  },
  {
   "cell_type": "code",
   "execution_count": 46,
   "id": "1cf93b5d",
   "metadata": {},
   "outputs": [],
   "source": [
    "#drop rows with missimg values in 2018 \n",
    "df_18 = df_18.dropna(subset =['displ', 'cyl'])"
   ]
  },
  {
   "cell_type": "code",
   "execution_count": 47,
   "id": "056b86fb",
   "metadata": {},
   "outputs": [
    {
     "data": {
      "text/plain": [
       "model                   0\n",
       "displ                   0\n",
       "cyl                     0\n",
       "trans                   0\n",
       "drive                   0\n",
       "fuel                    0\n",
       "veh_class               0\n",
       "air_pollution_score     0\n",
       "city_mpg                0\n",
       "hwy_mpg                 0\n",
       "cmb_mpg                 0\n",
       "greenhouse_gas_score    0\n",
       "smartway                0\n",
       "dtype: int64"
      ]
     },
     "execution_count": 47,
     "metadata": {},
     "output_type": "execute_result"
    }
   ],
   "source": [
    "#confirm that they have been droped\n",
    "df_18.isnull().sum()\n"
   ]
  },
  {
   "cell_type": "code",
   "execution_count": 48,
   "id": "dae47bd6",
   "metadata": {},
   "outputs": [
    {
     "data": {
      "text/plain": [
       "(1009, 13)"
      ]
     },
     "execution_count": 48,
     "metadata": {},
     "output_type": "execute_result"
    }
   ],
   "source": [
    "#check the new shape\n",
    "df_08.shape"
   ]
  },
  {
   "cell_type": "code",
   "execution_count": 49,
   "id": "9396e351",
   "metadata": {},
   "outputs": [
    {
     "data": {
      "text/plain": [
       "(797, 13)"
      ]
     },
     "execution_count": 49,
     "metadata": {},
     "output_type": "execute_result"
    }
   ],
   "source": [
    "df_18.shape"
   ]
  },
  {
   "cell_type": "markdown",
   "id": "cdfbdcbe",
   "metadata": {},
   "source": [
    "##### Next, we need to check for rows with duplicate values and drop them\n"
   ]
  },
  {
   "cell_type": "code",
   "execution_count": 50,
   "id": "cadab536",
   "metadata": {},
   "outputs": [
    {
     "data": {
      "text/plain": [
       "23"
      ]
     },
     "execution_count": 50,
     "metadata": {},
     "output_type": "execute_result"
    }
   ],
   "source": [
    "#to chechfor rows with duplicate values  in 2008 dataset\n",
    "\n",
    "df_08.duplicated().sum()"
   ]
  },
  {
   "cell_type": "code",
   "execution_count": 51,
   "id": "133d0333",
   "metadata": {},
   "outputs": [
    {
     "data": {
      "text/plain": [
       "3"
      ]
     },
     "execution_count": 51,
     "metadata": {},
     "output_type": "execute_result"
    }
   ],
   "source": [
    "#to chechfor rows with duplicate values  in 2018 dataset\n",
    "\n",
    "df_18.duplicated().sum()"
   ]
  },
  {
   "cell_type": "code",
   "execution_count": 52,
   "id": "d4006727",
   "metadata": {},
   "outputs": [],
   "source": [
    "#to drop the duplicates column in 2008\n",
    "df_08 = df_08.drop_duplicates()"
   ]
  },
  {
   "cell_type": "code",
   "execution_count": 53,
   "id": "64d6df67",
   "metadata": {},
   "outputs": [],
   "source": [
    "#to drop the duplicates column in 2018\n",
    "df_18 = df_18.drop_duplicates()"
   ]
  },
  {
   "cell_type": "code",
   "execution_count": 54,
   "id": "e0a265dd",
   "metadata": {},
   "outputs": [
    {
     "data": {
      "text/plain": [
       "False"
      ]
     },
     "execution_count": 54,
     "metadata": {},
     "output_type": "execute_result"
    }
   ],
   "source": [
    "#confirm that duplicates have been dropped in 2008\n",
    "df_08.duplicated().sum().any()"
   ]
  },
  {
   "cell_type": "code",
   "execution_count": 55,
   "id": "c94af822",
   "metadata": {},
   "outputs": [
    {
     "data": {
      "text/plain": [
       "False"
      ]
     },
     "execution_count": 55,
     "metadata": {},
     "output_type": "execute_result"
    }
   ],
   "source": [
    "#confirm that duplicates have been dropped in 2018\n",
    "df_18.duplicated().sum().any()"
   ]
  },
  {
   "cell_type": "code",
   "execution_count": 56,
   "id": "85476548",
   "metadata": {},
   "outputs": [
    {
     "data": {
      "text/plain": [
       "(986, 13)"
      ]
     },
     "execution_count": 56,
     "metadata": {},
     "output_type": "execute_result"
    }
   ],
   "source": [
    "#check the new shape\n",
    "df_08.shape"
   ]
  },
  {
   "cell_type": "code",
   "execution_count": 57,
   "id": "e5785a1f",
   "metadata": {},
   "outputs": [
    {
     "data": {
      "text/plain": [
       "(794, 13)"
      ]
     },
     "execution_count": 57,
     "metadata": {},
     "output_type": "execute_result"
    }
   ],
   "source": [
    "#check the new shape\n",
    "df_18.shape"
   ]
  },
  {
   "cell_type": "code",
   "execution_count": null,
   "id": "9f14818d",
   "metadata": {},
   "outputs": [],
   "source": []
  },
  {
   "cell_type": "markdown",
   "id": "fed6b0ae",
   "metadata": {},
   "source": [
    "##### Next, we will move on to fix data types \n",
    "\n",
    "> #### 2008 \n",
    "\n",
    "##### model     `object` \n",
    "\n",
    "##### displ     `float64`\n",
    "\n",
    "##### *cyl*                       from `object` to `int64`\n",
    "\n",
    "##### trans    `object`\n",
    "\n",
    "##### drive      `object`\n",
    "\n",
    "##### fuel         `object`\n",
    "\n",
    "##### veh_class         `object`\n",
    "\n",
    "##### *air_pollution_score*    from  `object` `to float`\n",
    "\n",
    "##### *city_mpg*                  from  `object` `to float`\n",
    "\n",
    "##### *hwy_mpg*                   from  `object` `to float`\n",
    "\n",
    "##### *cmb_mpg*                   from  `object` `to float`\n",
    "\n",
    "##### *greenhouse_gas_score*      from  `object` `to int64`\n",
    "\n",
    "##### smartway                 `object`\n",
    "\n",
    "\n",
    "\n",
    "\n",
    "> #### 2018\n",
    "\n",
    "##### model                    object\n",
    "\n",
    "##### displ                   float64\n",
    "\n",
    "##### *cyl*               from      `float64` to `int64`\n",
    "\n",
    "##### trans                    object\n",
    "\n",
    "##### drive                    object\n",
    "\n",
    "##### fuel                     object\n",
    "\n",
    "##### veh_class                object\n",
    "\n",
    "##### air_pollution_score       `int64` to `float`\n",
    "\n",
    "##### *city_mpg*              from    `object` to `float`\n",
    "\n",
    "##### *hwy_mpg*                  from    `object` to `float`\n",
    "\n",
    "##### *cmb_mpg*                  from    `object` to `float`\n",
    "\n",
    "##### *greenhouse_gas_score*      from    `object` to `int64`\n",
    "\n",
    "##### smartway                 object\n"
   ]
  },
  {
   "cell_type": "markdown",
   "id": "9b63f5c2",
   "metadata": {},
   "source": [
    "##### First, we need to conver `cyl` column in 2008 dataset to `int` but there is an issue, the column was formatted as objects and data was writen into the column as objects so what we will do is to exract the numbers in each row for that column and then convert into `int`"
   ]
  },
  {
   "cell_type": "code",
   "execution_count": 58,
   "id": "ccb4eaa3",
   "metadata": {},
   "outputs": [
    {
     "data": {
      "text/plain": [
       "array(['(6 cyl)', '(4 cyl)', '(12 cyl)', '(8 cyl)', '(10 cyl)',\n",
       "       '(16 cyl)', '(5 cyl)', '(2 cyl)'], dtype=object)"
      ]
     },
     "execution_count": 58,
     "metadata": {},
     "output_type": "execute_result"
    }
   ],
   "source": [
    "#check the format of the cyl column in 2008\n",
    "df_08.cyl.unique()"
   ]
  },
  {
   "cell_type": "code",
   "execution_count": 59,
   "id": "19cdb0af",
   "metadata": {},
   "outputs": [],
   "source": [
    "#to extract the numbers and convert to int\n",
    "df_08.cyl = df_08['cyl'].str.extract('(\\d+)')"
   ]
  },
  {
   "cell_type": "code",
   "execution_count": 60,
   "id": "99c6e388",
   "metadata": {},
   "outputs": [],
   "source": [
    "#then convert to int\n",
    "df_08.cyl = df_08.cyl.astype(int)"
   ]
  },
  {
   "cell_type": "code",
   "execution_count": 61,
   "id": "1386428d",
   "metadata": {},
   "outputs": [
    {
     "data": {
      "text/plain": [
       "model                    object\n",
       "displ                   float64\n",
       "cyl                       int32\n",
       "trans                    object\n",
       "drive                    object\n",
       "fuel                     object\n",
       "veh_class                object\n",
       "air_pollution_score      object\n",
       "city_mpg                 object\n",
       "hwy_mpg                  object\n",
       "cmb_mpg                  object\n",
       "greenhouse_gas_score     object\n",
       "smartway                 object\n",
       "dtype: object"
      ]
     },
     "execution_count": 61,
     "metadata": {},
     "output_type": "execute_result"
    }
   ],
   "source": [
    "#confirm\n",
    "df_08.dtypes"
   ]
  },
  {
   "cell_type": "markdown",
   "id": "26c8900c",
   "metadata": {},
   "source": [
    "##### Next we will attempt to convert `air_pollution_score` to int\n",
    "\n",
    "##### But first we want to return the unique values in the the `air_pollution_score` column"
   ]
  },
  {
   "cell_type": "code",
   "execution_count": 62,
   "id": "aede85c6",
   "metadata": {},
   "outputs": [
    {
     "data": {
      "text/plain": [
       "array(['7', '6', '9.5', '9', '6/4'], dtype=object)"
      ]
     },
     "execution_count": 62,
     "metadata": {},
     "output_type": "execute_result"
    }
   ],
   "source": [
    "#to find the unique values in 2008 air_pollution_score column\n",
    "df_08.air_pollution_score.unique()"
   ]
  },
  {
   "cell_type": "markdown",
   "id": "fbc37c10",
   "metadata": {},
   "source": [
    "##### As we can see that 6/4 is most likely the reason why the column was formatted as an object.\n",
    "\n",
    "##### Let's open up that exact row to see what is going on"
   ]
  },
  {
   "cell_type": "code",
   "execution_count": 63,
   "id": "1569b272",
   "metadata": {},
   "outputs": [
    {
     "data": {
      "text/html": [
       "<div>\n",
       "<style scoped>\n",
       "    .dataframe tbody tr th:only-of-type {\n",
       "        vertical-align: middle;\n",
       "    }\n",
       "\n",
       "    .dataframe tbody tr th {\n",
       "        vertical-align: top;\n",
       "    }\n",
       "\n",
       "    .dataframe thead th {\n",
       "        text-align: right;\n",
       "    }\n",
       "</style>\n",
       "<table border=\"1\" class=\"dataframe\">\n",
       "  <thead>\n",
       "    <tr style=\"text-align: right;\">\n",
       "      <th></th>\n",
       "      <th>model</th>\n",
       "      <th>displ</th>\n",
       "      <th>cyl</th>\n",
       "      <th>trans</th>\n",
       "      <th>drive</th>\n",
       "      <th>fuel</th>\n",
       "      <th>veh_class</th>\n",
       "      <th>air_pollution_score</th>\n",
       "      <th>city_mpg</th>\n",
       "      <th>hwy_mpg</th>\n",
       "      <th>cmb_mpg</th>\n",
       "      <th>greenhouse_gas_score</th>\n",
       "      <th>smartway</th>\n",
       "    </tr>\n",
       "  </thead>\n",
       "  <tbody>\n",
       "    <tr>\n",
       "      <th>1550</th>\n",
       "      <td>MERCEDES-BENZ C300</td>\n",
       "      <td>3.0</td>\n",
       "      <td>6</td>\n",
       "      <td>Auto-L7</td>\n",
       "      <td>2WD</td>\n",
       "      <td>ethanol/gas</td>\n",
       "      <td>small car</td>\n",
       "      <td>6/4</td>\n",
       "      <td>13/18</td>\n",
       "      <td>19/25</td>\n",
       "      <td>15/21</td>\n",
       "      <td>7/6</td>\n",
       "      <td>no</td>\n",
       "    </tr>\n",
       "  </tbody>\n",
       "</table>\n",
       "</div>"
      ],
      "text/plain": [
       "                   model  displ  cyl    trans drive         fuel  veh_class  \\\n",
       "1550  MERCEDES-BENZ C300    3.0    6  Auto-L7   2WD  ethanol/gas  small car   \n",
       "\n",
       "     air_pollution_score city_mpg hwy_mpg cmb_mpg greenhouse_gas_score  \\\n",
       "1550                 6/4    13/18   19/25   15/21                  7/6   \n",
       "\n",
       "     smartway  \n",
       "1550       no  "
      ]
     },
     "execution_count": 63,
     "metadata": {},
     "output_type": "execute_result"
    }
   ],
   "source": [
    "#to open up the row where air_pollution_score = 6/4 in 2008\n",
    "df_08.query('air_pollution_score == \"6/4\"')"
   ]
  },
  {
   "cell_type": "markdown",
   "id": "94eb3985",
   "metadata": {},
   "source": [
    "##### The reason is Because the vehicle uses two diferent sources of fuel and as such EDA assigns  two differnt values for each fuel source type. Also you will notice that irt is the same with `city_mpg`\t`hwy_mpg`\t`cmb_mpg`\t`greenhouse_gas_score` \n",
    "\n",
    "##### So what we need to do is to create a seperate row for each of the value so we wont have two values on the same row"
   ]
  },
  {
   "cell_type": "code",
   "execution_count": 64,
   "id": "2d1b5868",
   "metadata": {},
   "outputs": [
    {
     "data": {
      "text/html": [
       "<div>\n",
       "<style scoped>\n",
       "    .dataframe tbody tr th:only-of-type {\n",
       "        vertical-align: middle;\n",
       "    }\n",
       "\n",
       "    .dataframe tbody tr th {\n",
       "        vertical-align: top;\n",
       "    }\n",
       "\n",
       "    .dataframe thead th {\n",
       "        text-align: right;\n",
       "    }\n",
       "</style>\n",
       "<table border=\"1\" class=\"dataframe\">\n",
       "  <thead>\n",
       "    <tr style=\"text-align: right;\">\n",
       "      <th></th>\n",
       "      <th>model</th>\n",
       "      <th>displ</th>\n",
       "      <th>cyl</th>\n",
       "      <th>trans</th>\n",
       "      <th>drive</th>\n",
       "      <th>fuel</th>\n",
       "      <th>veh_class</th>\n",
       "      <th>air_pollution_score</th>\n",
       "      <th>city_mpg</th>\n",
       "      <th>hwy_mpg</th>\n",
       "      <th>cmb_mpg</th>\n",
       "      <th>greenhouse_gas_score</th>\n",
       "      <th>smartway</th>\n",
       "    </tr>\n",
       "  </thead>\n",
       "  <tbody>\n",
       "    <tr>\n",
       "      <th>1550</th>\n",
       "      <td>MERCEDES-BENZ C300</td>\n",
       "      <td>3.0</td>\n",
       "      <td>6</td>\n",
       "      <td>Auto-L7</td>\n",
       "      <td>2WD</td>\n",
       "      <td>ethanol/gas</td>\n",
       "      <td>small car</td>\n",
       "      <td>6/4</td>\n",
       "      <td>13/18</td>\n",
       "      <td>19/25</td>\n",
       "      <td>15/21</td>\n",
       "      <td>7/6</td>\n",
       "      <td>no</td>\n",
       "    </tr>\n",
       "  </tbody>\n",
       "</table>\n",
       "</div>"
      ],
      "text/plain": [
       "                   model  displ  cyl    trans drive         fuel  veh_class  \\\n",
       "1550  MERCEDES-BENZ C300    3.0    6  Auto-L7   2WD  ethanol/gas  small car   \n",
       "\n",
       "     air_pollution_score city_mpg hwy_mpg cmb_mpg greenhouse_gas_score  \\\n",
       "1550                 6/4    13/18   19/25   15/21                  7/6   \n",
       "\n",
       "     smartway  \n",
       "1550       no  "
      ]
     },
     "execution_count": 64,
     "metadata": {},
     "output_type": "execute_result"
    }
   ],
   "source": [
    "#firstlets view of the hybrid row\n",
    "hb_08 = df_08[df_08['fuel'].str.contains('/')]\n",
    "hb_08"
   ]
  },
  {
   "cell_type": "code",
   "execution_count": 65,
   "id": "e085bb4f",
   "metadata": {},
   "outputs": [],
   "source": [
    "#then craete two copies of that hybrid\n",
    "\n",
    "df1 = hb_08.copy()\n",
    "df2 = hb_08.copy()"
   ]
  },
  {
   "cell_type": "code",
   "execution_count": 66,
   "id": "eedb0e3c",
   "metadata": {},
   "outputs": [],
   "source": [
    "#then we will split the column so that the first value (value before the /) will be on the first row \"df_1 \" and the other value will be in the row'df_2\n",
    "\n",
    "\n",
    "split_columns_1 = ['fuel', 'air_pollution_score', 'city_mpg' , 'hwy_mpg', 'cmb_mpg', 'greenhouse_gas_score']\n",
    "\n",
    "for c in split_columns_1:\n",
    "    df1[c] = df1[c].apply(lambda x :x.split(\"/\")[0])\n",
    "    df2[c] = df2[c].apply(lambda x :x.split(\"/\")[1])\n",
    "\n"
   ]
  },
  {
   "cell_type": "code",
   "execution_count": 67,
   "id": "59790293",
   "metadata": {},
   "outputs": [
    {
     "data": {
      "text/html": [
       "<div>\n",
       "<style scoped>\n",
       "    .dataframe tbody tr th:only-of-type {\n",
       "        vertical-align: middle;\n",
       "    }\n",
       "\n",
       "    .dataframe tbody tr th {\n",
       "        vertical-align: top;\n",
       "    }\n",
       "\n",
       "    .dataframe thead th {\n",
       "        text-align: right;\n",
       "    }\n",
       "</style>\n",
       "<table border=\"1\" class=\"dataframe\">\n",
       "  <thead>\n",
       "    <tr style=\"text-align: right;\">\n",
       "      <th></th>\n",
       "      <th>model</th>\n",
       "      <th>displ</th>\n",
       "      <th>cyl</th>\n",
       "      <th>trans</th>\n",
       "      <th>drive</th>\n",
       "      <th>fuel</th>\n",
       "      <th>veh_class</th>\n",
       "      <th>air_pollution_score</th>\n",
       "      <th>city_mpg</th>\n",
       "      <th>hwy_mpg</th>\n",
       "      <th>cmb_mpg</th>\n",
       "      <th>greenhouse_gas_score</th>\n",
       "      <th>smartway</th>\n",
       "    </tr>\n",
       "  </thead>\n",
       "  <tbody>\n",
       "    <tr>\n",
       "      <th>1550</th>\n",
       "      <td>MERCEDES-BENZ C300</td>\n",
       "      <td>3.0</td>\n",
       "      <td>6</td>\n",
       "      <td>Auto-L7</td>\n",
       "      <td>2WD</td>\n",
       "      <td>ethanol</td>\n",
       "      <td>small car</td>\n",
       "      <td>6</td>\n",
       "      <td>13</td>\n",
       "      <td>19</td>\n",
       "      <td>15</td>\n",
       "      <td>7</td>\n",
       "      <td>no</td>\n",
       "    </tr>\n",
       "  </tbody>\n",
       "</table>\n",
       "</div>"
      ],
      "text/plain": [
       "                   model  displ  cyl    trans drive     fuel  veh_class  \\\n",
       "1550  MERCEDES-BENZ C300    3.0    6  Auto-L7   2WD  ethanol  small car   \n",
       "\n",
       "     air_pollution_score city_mpg hwy_mpg cmb_mpg greenhouse_gas_score  \\\n",
       "1550                   6       13      19      15                    7   \n",
       "\n",
       "     smartway  \n",
       "1550       no  "
      ]
     },
     "execution_count": 67,
     "metadata": {},
     "output_type": "execute_result"
    }
   ],
   "source": [
    "#view the column for the newly seperated rows before the\"/\n",
    "df1"
   ]
  },
  {
   "cell_type": "code",
   "execution_count": 68,
   "id": "8ac7d954",
   "metadata": {},
   "outputs": [
    {
     "data": {
      "text/html": [
       "<div>\n",
       "<style scoped>\n",
       "    .dataframe tbody tr th:only-of-type {\n",
       "        vertical-align: middle;\n",
       "    }\n",
       "\n",
       "    .dataframe tbody tr th {\n",
       "        vertical-align: top;\n",
       "    }\n",
       "\n",
       "    .dataframe thead th {\n",
       "        text-align: right;\n",
       "    }\n",
       "</style>\n",
       "<table border=\"1\" class=\"dataframe\">\n",
       "  <thead>\n",
       "    <tr style=\"text-align: right;\">\n",
       "      <th></th>\n",
       "      <th>model</th>\n",
       "      <th>displ</th>\n",
       "      <th>cyl</th>\n",
       "      <th>trans</th>\n",
       "      <th>drive</th>\n",
       "      <th>fuel</th>\n",
       "      <th>veh_class</th>\n",
       "      <th>air_pollution_score</th>\n",
       "      <th>city_mpg</th>\n",
       "      <th>hwy_mpg</th>\n",
       "      <th>cmb_mpg</th>\n",
       "      <th>greenhouse_gas_score</th>\n",
       "      <th>smartway</th>\n",
       "    </tr>\n",
       "  </thead>\n",
       "  <tbody>\n",
       "    <tr>\n",
       "      <th>1550</th>\n",
       "      <td>MERCEDES-BENZ C300</td>\n",
       "      <td>3.0</td>\n",
       "      <td>6</td>\n",
       "      <td>Auto-L7</td>\n",
       "      <td>2WD</td>\n",
       "      <td>gas</td>\n",
       "      <td>small car</td>\n",
       "      <td>4</td>\n",
       "      <td>18</td>\n",
       "      <td>25</td>\n",
       "      <td>21</td>\n",
       "      <td>6</td>\n",
       "      <td>no</td>\n",
       "    </tr>\n",
       "  </tbody>\n",
       "</table>\n",
       "</div>"
      ],
      "text/plain": [
       "                   model  displ  cyl    trans drive fuel  veh_class  \\\n",
       "1550  MERCEDES-BENZ C300    3.0    6  Auto-L7   2WD  gas  small car   \n",
       "\n",
       "     air_pollution_score city_mpg hwy_mpg cmb_mpg greenhouse_gas_score  \\\n",
       "1550                   4       18      25      21                    6   \n",
       "\n",
       "     smartway  \n",
       "1550       no  "
      ]
     },
     "execution_count": 68,
     "metadata": {},
     "output_type": "execute_result"
    }
   ],
   "source": [
    "#view the column for the newly seperated rows after the \"/\"\n",
    "df2"
   ]
  },
  {
   "cell_type": "code",
   "execution_count": 69,
   "id": "3bdfb29a",
   "metadata": {},
   "outputs": [],
   "source": [
    "#append both rows together\n",
    "new_row = df1.append(df2)"
   ]
  },
  {
   "cell_type": "code",
   "execution_count": 70,
   "id": "aead5838",
   "metadata": {},
   "outputs": [
    {
     "data": {
      "text/html": [
       "<div>\n",
       "<style scoped>\n",
       "    .dataframe tbody tr th:only-of-type {\n",
       "        vertical-align: middle;\n",
       "    }\n",
       "\n",
       "    .dataframe tbody tr th {\n",
       "        vertical-align: top;\n",
       "    }\n",
       "\n",
       "    .dataframe thead th {\n",
       "        text-align: right;\n",
       "    }\n",
       "</style>\n",
       "<table border=\"1\" class=\"dataframe\">\n",
       "  <thead>\n",
       "    <tr style=\"text-align: right;\">\n",
       "      <th></th>\n",
       "      <th>model</th>\n",
       "      <th>displ</th>\n",
       "      <th>cyl</th>\n",
       "      <th>trans</th>\n",
       "      <th>drive</th>\n",
       "      <th>fuel</th>\n",
       "      <th>veh_class</th>\n",
       "      <th>air_pollution_score</th>\n",
       "      <th>city_mpg</th>\n",
       "      <th>hwy_mpg</th>\n",
       "      <th>cmb_mpg</th>\n",
       "      <th>greenhouse_gas_score</th>\n",
       "      <th>smartway</th>\n",
       "    </tr>\n",
       "  </thead>\n",
       "  <tbody>\n",
       "    <tr>\n",
       "      <th>1550</th>\n",
       "      <td>MERCEDES-BENZ C300</td>\n",
       "      <td>3.0</td>\n",
       "      <td>6</td>\n",
       "      <td>Auto-L7</td>\n",
       "      <td>2WD</td>\n",
       "      <td>ethanol</td>\n",
       "      <td>small car</td>\n",
       "      <td>6</td>\n",
       "      <td>13</td>\n",
       "      <td>19</td>\n",
       "      <td>15</td>\n",
       "      <td>7</td>\n",
       "      <td>no</td>\n",
       "    </tr>\n",
       "    <tr>\n",
       "      <th>1550</th>\n",
       "      <td>MERCEDES-BENZ C300</td>\n",
       "      <td>3.0</td>\n",
       "      <td>6</td>\n",
       "      <td>Auto-L7</td>\n",
       "      <td>2WD</td>\n",
       "      <td>gas</td>\n",
       "      <td>small car</td>\n",
       "      <td>4</td>\n",
       "      <td>18</td>\n",
       "      <td>25</td>\n",
       "      <td>21</td>\n",
       "      <td>6</td>\n",
       "      <td>no</td>\n",
       "    </tr>\n",
       "  </tbody>\n",
       "</table>\n",
       "</div>"
      ],
      "text/plain": [
       "                   model  displ  cyl    trans drive     fuel  veh_class  \\\n",
       "1550  MERCEDES-BENZ C300    3.0    6  Auto-L7   2WD  ethanol  small car   \n",
       "1550  MERCEDES-BENZ C300    3.0    6  Auto-L7   2WD      gas  small car   \n",
       "\n",
       "     air_pollution_score city_mpg hwy_mpg cmb_mpg greenhouse_gas_score  \\\n",
       "1550                   6       13      19      15                    7   \n",
       "1550                   4       18      25      21                    6   \n",
       "\n",
       "     smartway  \n",
       "1550       no  \n",
       "1550       no  "
      ]
     },
     "execution_count": 70,
     "metadata": {},
     "output_type": "execute_result"
    }
   ],
   "source": [
    "#view the new row\n",
    "new_row"
   ]
  },
  {
   "cell_type": "code",
   "execution_count": 71,
   "id": "b5be0410",
   "metadata": {},
   "outputs": [],
   "source": [
    "#drop the hybrid row\n",
    "df_08.drop(hb_08.index, inplace = True)\n",
    "\n"
   ]
  },
  {
   "cell_type": "code",
   "execution_count": 72,
   "id": "a13dc215",
   "metadata": {},
   "outputs": [],
   "source": [
    "#add in the new row\n",
    "df_08 = df_08.append(new_row, ignore_index = True)"
   ]
  },
  {
   "cell_type": "code",
   "execution_count": 73,
   "id": "ac93a657",
   "metadata": {},
   "outputs": [
    {
     "data": {
      "text/plain": [
       "(987, 13)"
      ]
     },
     "execution_count": 73,
     "metadata": {},
     "output_type": "execute_result"
    }
   ],
   "source": [
    "#check the new shape\n",
    "df_08.shape"
   ]
  },
  {
   "cell_type": "markdown",
   "id": "210b2d71",
   "metadata": {},
   "source": [
    "##### Now, we can convert `air_pollution_score` `city_mpg`\t`hwy_mpg`\t`cmb_mpg`\t`greenhouse_gas_score` to floats"
   ]
  },
  {
   "cell_type": "code",
   "execution_count": 74,
   "id": "ab42e66b",
   "metadata": {},
   "outputs": [
    {
     "data": {
      "text/plain": [
       "model                    object\n",
       "displ                   float64\n",
       "cyl                       int32\n",
       "trans                    object\n",
       "drive                    object\n",
       "fuel                     object\n",
       "veh_class                object\n",
       "air_pollution_score      object\n",
       "city_mpg                 object\n",
       "hwy_mpg                  object\n",
       "cmb_mpg                  object\n",
       "greenhouse_gas_score     object\n",
       "smartway                 object\n",
       "dtype: object"
      ]
     },
     "execution_count": 74,
     "metadata": {},
     "output_type": "execute_result"
    }
   ],
   "source": [
    "#check the types before concersion\n",
    "df_08.dtypes"
   ]
  },
  {
   "cell_type": "code",
   "execution_count": 75,
   "id": "9a447faa",
   "metadata": {},
   "outputs": [],
   "source": [
    "# convert 'air_pollution_score',  'city_mpg', 'hwy_mpg', 'cmb_mpg', 'greenhouse_gas_score' to floats\n",
    "columns = ['air_pollution_score',  'city_mpg', 'hwy_mpg', 'cmb_mpg', 'greenhouse_gas_score']\n",
    "\n",
    "for c in columns:\n",
    "    df_08[c] = df_08[c].astype(float)"
   ]
  },
  {
   "cell_type": "code",
   "execution_count": 76,
   "id": "7501eef5",
   "metadata": {},
   "outputs": [],
   "source": [
    "#convert greenhouse gas score back to int\n",
    "df_08.greenhouse_gas_score = df_08.greenhouse_gas_score.astype(int)"
   ]
  },
  {
   "cell_type": "code",
   "execution_count": 77,
   "id": "7fb7b347",
   "metadata": {},
   "outputs": [
    {
     "data": {
      "text/plain": [
       "model                    object\n",
       "displ                   float64\n",
       "cyl                       int32\n",
       "trans                    object\n",
       "drive                    object\n",
       "fuel                     object\n",
       "veh_class                object\n",
       "air_pollution_score     float64\n",
       "city_mpg                float64\n",
       "hwy_mpg                 float64\n",
       "cmb_mpg                 float64\n",
       "greenhouse_gas_score      int32\n",
       "smartway                 object\n",
       "dtype: object"
      ]
     },
     "execution_count": 77,
     "metadata": {},
     "output_type": "execute_result"
    }
   ],
   "source": [
    "#confirm the types\n",
    "df_08.dtypes"
   ]
  },
  {
   "cell_type": "code",
   "execution_count": 78,
   "id": "28cf3a9e",
   "metadata": {},
   "outputs": [
    {
     "data": {
      "text/html": [
       "<div>\n",
       "<style scoped>\n",
       "    .dataframe tbody tr th:only-of-type {\n",
       "        vertical-align: middle;\n",
       "    }\n",
       "\n",
       "    .dataframe tbody tr th {\n",
       "        vertical-align: top;\n",
       "    }\n",
       "\n",
       "    .dataframe thead th {\n",
       "        text-align: right;\n",
       "    }\n",
       "</style>\n",
       "<table border=\"1\" class=\"dataframe\">\n",
       "  <thead>\n",
       "    <tr style=\"text-align: right;\">\n",
       "      <th></th>\n",
       "      <th>model</th>\n",
       "      <th>displ</th>\n",
       "      <th>cyl</th>\n",
       "      <th>trans</th>\n",
       "      <th>drive</th>\n",
       "      <th>fuel</th>\n",
       "      <th>veh_class</th>\n",
       "      <th>air_pollution_score</th>\n",
       "      <th>city_mpg</th>\n",
       "      <th>hwy_mpg</th>\n",
       "      <th>cmb_mpg</th>\n",
       "      <th>greenhouse_gas_score</th>\n",
       "      <th>smartway</th>\n",
       "    </tr>\n",
       "  </thead>\n",
       "  <tbody>\n",
       "    <tr>\n",
       "      <th>0</th>\n",
       "      <td>ACURA MDX</td>\n",
       "      <td>3.7</td>\n",
       "      <td>6</td>\n",
       "      <td>Auto-S5</td>\n",
       "      <td>4WD</td>\n",
       "      <td>Gasoline</td>\n",
       "      <td>SUV</td>\n",
       "      <td>7.0</td>\n",
       "      <td>15.0</td>\n",
       "      <td>20.0</td>\n",
       "      <td>17.0</td>\n",
       "      <td>4</td>\n",
       "      <td>no</td>\n",
       "    </tr>\n",
       "  </tbody>\n",
       "</table>\n",
       "</div>"
      ],
      "text/plain": [
       "       model  displ  cyl    trans drive      fuel veh_class  \\\n",
       "0  ACURA MDX    3.7    6  Auto-S5   4WD  Gasoline       SUV   \n",
       "\n",
       "   air_pollution_score  city_mpg  hwy_mpg  cmb_mpg  greenhouse_gas_score  \\\n",
       "0                  7.0      15.0     20.0     17.0                     4   \n",
       "\n",
       "  smartway  \n",
       "0       no  "
      ]
     },
     "execution_count": 78,
     "metadata": {},
     "output_type": "execute_result"
    }
   ],
   "source": [
    "df_08.head(1)"
   ]
  },
  {
   "cell_type": "markdown",
   "id": "b38b9530",
   "metadata": {},
   "source": [
    "##### Next, we will treat the next data set (2018) like we did with the 2008 dataset \n",
    "\n",
    "\n",
    "##### We will check for hybrids and seperate them into rows and then bring back into the dataframe"
   ]
  },
  {
   "cell_type": "code",
   "execution_count": 79,
   "id": "11c1f9be",
   "metadata": {},
   "outputs": [
    {
     "data": {
      "text/plain": [
       "model                   38\n",
       "displ                   38\n",
       "cyl                     38\n",
       "trans                   38\n",
       "drive                   38\n",
       "fuel                    38\n",
       "veh_class               38\n",
       "air_pollution_score     38\n",
       "city_mpg                38\n",
       "hwy_mpg                 38\n",
       "cmb_mpg                 38\n",
       "greenhouse_gas_score    38\n",
       "smartway                38\n",
       "dtype: int64"
      ]
     },
     "execution_count": 79,
     "metadata": {},
     "output_type": "execute_result"
    }
   ],
   "source": [
    "#check for the number of hybrid rows\n",
    "\n",
    "df_18[df_18['fuel'].str.contains('/')].count()"
   ]
  },
  {
   "cell_type": "code",
   "execution_count": 80,
   "id": "139bad1c",
   "metadata": {},
   "outputs": [
    {
     "data": {
      "text/html": [
       "<div>\n",
       "<style scoped>\n",
       "    .dataframe tbody tr th:only-of-type {\n",
       "        vertical-align: middle;\n",
       "    }\n",
       "\n",
       "    .dataframe tbody tr th {\n",
       "        vertical-align: top;\n",
       "    }\n",
       "\n",
       "    .dataframe thead th {\n",
       "        text-align: right;\n",
       "    }\n",
       "</style>\n",
       "<table border=\"1\" class=\"dataframe\">\n",
       "  <thead>\n",
       "    <tr style=\"text-align: right;\">\n",
       "      <th></th>\n",
       "      <th>model</th>\n",
       "      <th>displ</th>\n",
       "      <th>cyl</th>\n",
       "      <th>trans</th>\n",
       "      <th>drive</th>\n",
       "      <th>fuel</th>\n",
       "      <th>veh_class</th>\n",
       "      <th>air_pollution_score</th>\n",
       "      <th>city_mpg</th>\n",
       "      <th>hwy_mpg</th>\n",
       "      <th>cmb_mpg</th>\n",
       "      <th>greenhouse_gas_score</th>\n",
       "      <th>smartway</th>\n",
       "    </tr>\n",
       "  </thead>\n",
       "  <tbody>\n",
       "    <tr>\n",
       "      <th>108</th>\n",
       "      <td>BMW 330e</td>\n",
       "      <td>2.0</td>\n",
       "      <td>4.0</td>\n",
       "      <td>SemiAuto-8</td>\n",
       "      <td>2WD</td>\n",
       "      <td>Gasoline/Electricity</td>\n",
       "      <td>small car</td>\n",
       "      <td>3</td>\n",
       "      <td>28/66</td>\n",
       "      <td>34/78</td>\n",
       "      <td>30/71</td>\n",
       "      <td>10</td>\n",
       "      <td>Yes</td>\n",
       "    </tr>\n",
       "    <tr>\n",
       "      <th>160</th>\n",
       "      <td>BMW 530e</td>\n",
       "      <td>2.0</td>\n",
       "      <td>4.0</td>\n",
       "      <td>SemiAuto-8</td>\n",
       "      <td>2WD</td>\n",
       "      <td>Gasoline/Electricity</td>\n",
       "      <td>small car</td>\n",
       "      <td>7</td>\n",
       "      <td>27/70</td>\n",
       "      <td>31/75</td>\n",
       "      <td>29/72</td>\n",
       "      <td>10</td>\n",
       "      <td>Elite</td>\n",
       "    </tr>\n",
       "    <tr>\n",
       "      <th>162</th>\n",
       "      <td>BMW 530e</td>\n",
       "      <td>2.0</td>\n",
       "      <td>4.0</td>\n",
       "      <td>SemiAuto-8</td>\n",
       "      <td>4WD</td>\n",
       "      <td>Gasoline/Electricity</td>\n",
       "      <td>small car</td>\n",
       "      <td>7</td>\n",
       "      <td>27/66</td>\n",
       "      <td>31/68</td>\n",
       "      <td>28/67</td>\n",
       "      <td>10</td>\n",
       "      <td>Elite</td>\n",
       "    </tr>\n",
       "    <tr>\n",
       "      <th>188</th>\n",
       "      <td>BMW 740e</td>\n",
       "      <td>2.0</td>\n",
       "      <td>4.0</td>\n",
       "      <td>SemiAuto-8</td>\n",
       "      <td>4WD</td>\n",
       "      <td>Gasoline/Electricity</td>\n",
       "      <td>large car</td>\n",
       "      <td>3</td>\n",
       "      <td>25/62</td>\n",
       "      <td>29/68</td>\n",
       "      <td>27/64</td>\n",
       "      <td>9</td>\n",
       "      <td>Yes</td>\n",
       "    </tr>\n",
       "    <tr>\n",
       "      <th>382</th>\n",
       "      <td>CHEVROLET Impala</td>\n",
       "      <td>3.6</td>\n",
       "      <td>6.0</td>\n",
       "      <td>SemiAuto-6</td>\n",
       "      <td>2WD</td>\n",
       "      <td>Ethanol/Gas</td>\n",
       "      <td>large car</td>\n",
       "      <td>5</td>\n",
       "      <td>14/18</td>\n",
       "      <td>20/28</td>\n",
       "      <td>16/22</td>\n",
       "      <td>4</td>\n",
       "      <td>No</td>\n",
       "    </tr>\n",
       "  </tbody>\n",
       "</table>\n",
       "</div>"
      ],
      "text/plain": [
       "                model  displ  cyl       trans drive                  fuel  \\\n",
       "108          BMW 330e    2.0  4.0  SemiAuto-8   2WD  Gasoline/Electricity   \n",
       "160          BMW 530e    2.0  4.0  SemiAuto-8   2WD  Gasoline/Electricity   \n",
       "162          BMW 530e    2.0  4.0  SemiAuto-8   4WD  Gasoline/Electricity   \n",
       "188          BMW 740e    2.0  4.0  SemiAuto-8   4WD  Gasoline/Electricity   \n",
       "382  CHEVROLET Impala    3.6  6.0  SemiAuto-6   2WD           Ethanol/Gas   \n",
       "\n",
       "     veh_class  air_pollution_score city_mpg hwy_mpg cmb_mpg  \\\n",
       "108  small car                    3    28/66   34/78   30/71   \n",
       "160  small car                    7    27/70   31/75   29/72   \n",
       "162  small car                    7    27/66   31/68   28/67   \n",
       "188  large car                    3    25/62   29/68   27/64   \n",
       "382  large car                    5    14/18   20/28   16/22   \n",
       "\n",
       "     greenhouse_gas_score smartway  \n",
       "108                    10      Yes  \n",
       "160                    10    Elite  \n",
       "162                    10    Elite  \n",
       "188                     9      Yes  \n",
       "382                     4       No  "
      ]
     },
     "execution_count": 80,
     "metadata": {},
     "output_type": "execute_result"
    }
   ],
   "source": [
    "#assign the hybrid rows to a variable name hb_18\n",
    "hb_18 = df_18[df_18['fuel'].str.contains('/')]\n",
    "hb_18.head(5)"
   ]
  },
  {
   "cell_type": "code",
   "execution_count": 81,
   "id": "8346e41b",
   "metadata": {},
   "outputs": [],
   "source": [
    "#create two copies\n",
    "\n",
    "df3 = hb_18.copy()\n",
    "df4 = hb_18.copy()"
   ]
  },
  {
   "cell_type": "code",
   "execution_count": 82,
   "id": "83726f05",
   "metadata": {},
   "outputs": [
    {
     "data": {
      "text/html": [
       "<div>\n",
       "<style scoped>\n",
       "    .dataframe tbody tr th:only-of-type {\n",
       "        vertical-align: middle;\n",
       "    }\n",
       "\n",
       "    .dataframe tbody tr th {\n",
       "        vertical-align: top;\n",
       "    }\n",
       "\n",
       "    .dataframe thead th {\n",
       "        text-align: right;\n",
       "    }\n",
       "</style>\n",
       "<table border=\"1\" class=\"dataframe\">\n",
       "  <thead>\n",
       "    <tr style=\"text-align: right;\">\n",
       "      <th></th>\n",
       "      <th>model</th>\n",
       "      <th>displ</th>\n",
       "      <th>cyl</th>\n",
       "      <th>trans</th>\n",
       "      <th>drive</th>\n",
       "      <th>fuel</th>\n",
       "      <th>veh_class</th>\n",
       "      <th>air_pollution_score</th>\n",
       "      <th>city_mpg</th>\n",
       "      <th>hwy_mpg</th>\n",
       "      <th>cmb_mpg</th>\n",
       "      <th>greenhouse_gas_score</th>\n",
       "      <th>smartway</th>\n",
       "    </tr>\n",
       "  </thead>\n",
       "  <tbody>\n",
       "    <tr>\n",
       "      <th>108</th>\n",
       "      <td>BMW 330e</td>\n",
       "      <td>2.0</td>\n",
       "      <td>4.0</td>\n",
       "      <td>SemiAuto-8</td>\n",
       "      <td>2WD</td>\n",
       "      <td>Gasoline/Electricity</td>\n",
       "      <td>small car</td>\n",
       "      <td>3</td>\n",
       "      <td>28/66</td>\n",
       "      <td>34/78</td>\n",
       "      <td>30/71</td>\n",
       "      <td>10</td>\n",
       "      <td>Yes</td>\n",
       "    </tr>\n",
       "    <tr>\n",
       "      <th>160</th>\n",
       "      <td>BMW 530e</td>\n",
       "      <td>2.0</td>\n",
       "      <td>4.0</td>\n",
       "      <td>SemiAuto-8</td>\n",
       "      <td>2WD</td>\n",
       "      <td>Gasoline/Electricity</td>\n",
       "      <td>small car</td>\n",
       "      <td>7</td>\n",
       "      <td>27/70</td>\n",
       "      <td>31/75</td>\n",
       "      <td>29/72</td>\n",
       "      <td>10</td>\n",
       "      <td>Elite</td>\n",
       "    </tr>\n",
       "    <tr>\n",
       "      <th>162</th>\n",
       "      <td>BMW 530e</td>\n",
       "      <td>2.0</td>\n",
       "      <td>4.0</td>\n",
       "      <td>SemiAuto-8</td>\n",
       "      <td>4WD</td>\n",
       "      <td>Gasoline/Electricity</td>\n",
       "      <td>small car</td>\n",
       "      <td>7</td>\n",
       "      <td>27/66</td>\n",
       "      <td>31/68</td>\n",
       "      <td>28/67</td>\n",
       "      <td>10</td>\n",
       "      <td>Elite</td>\n",
       "    </tr>\n",
       "  </tbody>\n",
       "</table>\n",
       "</div>"
      ],
      "text/plain": [
       "        model  displ  cyl       trans drive                  fuel  veh_class  \\\n",
       "108  BMW 330e    2.0  4.0  SemiAuto-8   2WD  Gasoline/Electricity  small car   \n",
       "160  BMW 530e    2.0  4.0  SemiAuto-8   2WD  Gasoline/Electricity  small car   \n",
       "162  BMW 530e    2.0  4.0  SemiAuto-8   4WD  Gasoline/Electricity  small car   \n",
       "\n",
       "     air_pollution_score city_mpg hwy_mpg cmb_mpg  greenhouse_gas_score  \\\n",
       "108                    3    28/66   34/78   30/71                    10   \n",
       "160                    7    27/70   31/75   29/72                    10   \n",
       "162                    7    27/66   31/68   28/67                    10   \n",
       "\n",
       "    smartway  \n",
       "108      Yes  \n",
       "160    Elite  \n",
       "162    Elite  "
      ]
     },
     "execution_count": 82,
     "metadata": {},
     "output_type": "execute_result"
    }
   ],
   "source": [
    "df3.head(3)"
   ]
  },
  {
   "cell_type": "code",
   "execution_count": 83,
   "id": "3ccd49a1",
   "metadata": {},
   "outputs": [],
   "source": [
    "#then we will split the column so that the first value (value before the /) will be on the first row \"df_1 \" and the other value will be in the row'df_2\n",
    "\n",
    "\n",
    "new_split_columns = ['fuel', 'city_mpg', 'hwy_mpg', 'cmb_mpg']"
   ]
  },
  {
   "cell_type": "code",
   "execution_count": 84,
   "id": "2f28d41b",
   "metadata": {},
   "outputs": [],
   "source": [
    "for c in new_split_columns:\n",
    "    df3[c] = df3[c].apply(lambda x :x.split(\"/\")[0])\n",
    "    df4[c] = df4[c].apply(lambda x :x.split(\"/\")[1])"
   ]
  },
  {
   "cell_type": "code",
   "execution_count": 85,
   "id": "143140ae",
   "metadata": {},
   "outputs": [
    {
     "data": {
      "text/html": [
       "<div>\n",
       "<style scoped>\n",
       "    .dataframe tbody tr th:only-of-type {\n",
       "        vertical-align: middle;\n",
       "    }\n",
       "\n",
       "    .dataframe tbody tr th {\n",
       "        vertical-align: top;\n",
       "    }\n",
       "\n",
       "    .dataframe thead th {\n",
       "        text-align: right;\n",
       "    }\n",
       "</style>\n",
       "<table border=\"1\" class=\"dataframe\">\n",
       "  <thead>\n",
       "    <tr style=\"text-align: right;\">\n",
       "      <th></th>\n",
       "      <th>model</th>\n",
       "      <th>displ</th>\n",
       "      <th>cyl</th>\n",
       "      <th>trans</th>\n",
       "      <th>drive</th>\n",
       "      <th>fuel</th>\n",
       "      <th>veh_class</th>\n",
       "      <th>air_pollution_score</th>\n",
       "      <th>city_mpg</th>\n",
       "      <th>hwy_mpg</th>\n",
       "      <th>cmb_mpg</th>\n",
       "      <th>greenhouse_gas_score</th>\n",
       "      <th>smartway</th>\n",
       "    </tr>\n",
       "  </thead>\n",
       "  <tbody>\n",
       "    <tr>\n",
       "      <th>108</th>\n",
       "      <td>BMW 330e</td>\n",
       "      <td>2.0</td>\n",
       "      <td>4.0</td>\n",
       "      <td>SemiAuto-8</td>\n",
       "      <td>2WD</td>\n",
       "      <td>Gasoline/Electricity</td>\n",
       "      <td>small car</td>\n",
       "      <td>3</td>\n",
       "      <td>28/66</td>\n",
       "      <td>34/78</td>\n",
       "      <td>30/71</td>\n",
       "      <td>10</td>\n",
       "      <td>Yes</td>\n",
       "    </tr>\n",
       "    <tr>\n",
       "      <th>160</th>\n",
       "      <td>BMW 530e</td>\n",
       "      <td>2.0</td>\n",
       "      <td>4.0</td>\n",
       "      <td>SemiAuto-8</td>\n",
       "      <td>2WD</td>\n",
       "      <td>Gasoline/Electricity</td>\n",
       "      <td>small car</td>\n",
       "      <td>7</td>\n",
       "      <td>27/70</td>\n",
       "      <td>31/75</td>\n",
       "      <td>29/72</td>\n",
       "      <td>10</td>\n",
       "      <td>Elite</td>\n",
       "    </tr>\n",
       "  </tbody>\n",
       "</table>\n",
       "</div>"
      ],
      "text/plain": [
       "        model  displ  cyl       trans drive                  fuel  veh_class  \\\n",
       "108  BMW 330e    2.0  4.0  SemiAuto-8   2WD  Gasoline/Electricity  small car   \n",
       "160  BMW 530e    2.0  4.0  SemiAuto-8   2WD  Gasoline/Electricity  small car   \n",
       "\n",
       "     air_pollution_score city_mpg hwy_mpg cmb_mpg  greenhouse_gas_score  \\\n",
       "108                    3    28/66   34/78   30/71                    10   \n",
       "160                    7    27/70   31/75   29/72                    10   \n",
       "\n",
       "    smartway  \n",
       "108      Yes  \n",
       "160    Elite  "
      ]
     },
     "execution_count": 85,
     "metadata": {},
     "output_type": "execute_result"
    }
   ],
   "source": [
    "#confirm \n",
    "hb_18.head(2)"
   ]
  },
  {
   "cell_type": "code",
   "execution_count": 86,
   "id": "af04995c",
   "metadata": {},
   "outputs": [
    {
     "data": {
      "text/html": [
       "<div>\n",
       "<style scoped>\n",
       "    .dataframe tbody tr th:only-of-type {\n",
       "        vertical-align: middle;\n",
       "    }\n",
       "\n",
       "    .dataframe tbody tr th {\n",
       "        vertical-align: top;\n",
       "    }\n",
       "\n",
       "    .dataframe thead th {\n",
       "        text-align: right;\n",
       "    }\n",
       "</style>\n",
       "<table border=\"1\" class=\"dataframe\">\n",
       "  <thead>\n",
       "    <tr style=\"text-align: right;\">\n",
       "      <th></th>\n",
       "      <th>model</th>\n",
       "      <th>displ</th>\n",
       "      <th>cyl</th>\n",
       "      <th>trans</th>\n",
       "      <th>drive</th>\n",
       "      <th>fuel</th>\n",
       "      <th>veh_class</th>\n",
       "      <th>air_pollution_score</th>\n",
       "      <th>city_mpg</th>\n",
       "      <th>hwy_mpg</th>\n",
       "      <th>cmb_mpg</th>\n",
       "      <th>greenhouse_gas_score</th>\n",
       "      <th>smartway</th>\n",
       "    </tr>\n",
       "  </thead>\n",
       "  <tbody>\n",
       "    <tr>\n",
       "      <th>108</th>\n",
       "      <td>BMW 330e</td>\n",
       "      <td>2.0</td>\n",
       "      <td>4.0</td>\n",
       "      <td>SemiAuto-8</td>\n",
       "      <td>2WD</td>\n",
       "      <td>Gasoline/Electricity</td>\n",
       "      <td>small car</td>\n",
       "      <td>3</td>\n",
       "      <td>28/66</td>\n",
       "      <td>34/78</td>\n",
       "      <td>30/71</td>\n",
       "      <td>10</td>\n",
       "      <td>Yes</td>\n",
       "    </tr>\n",
       "    <tr>\n",
       "      <th>160</th>\n",
       "      <td>BMW 530e</td>\n",
       "      <td>2.0</td>\n",
       "      <td>4.0</td>\n",
       "      <td>SemiAuto-8</td>\n",
       "      <td>2WD</td>\n",
       "      <td>Gasoline/Electricity</td>\n",
       "      <td>small car</td>\n",
       "      <td>7</td>\n",
       "      <td>27/70</td>\n",
       "      <td>31/75</td>\n",
       "      <td>29/72</td>\n",
       "      <td>10</td>\n",
       "      <td>Elite</td>\n",
       "    </tr>\n",
       "    <tr>\n",
       "      <th>162</th>\n",
       "      <td>BMW 530e</td>\n",
       "      <td>2.0</td>\n",
       "      <td>4.0</td>\n",
       "      <td>SemiAuto-8</td>\n",
       "      <td>4WD</td>\n",
       "      <td>Gasoline/Electricity</td>\n",
       "      <td>small car</td>\n",
       "      <td>7</td>\n",
       "      <td>27/66</td>\n",
       "      <td>31/68</td>\n",
       "      <td>28/67</td>\n",
       "      <td>10</td>\n",
       "      <td>Elite</td>\n",
       "    </tr>\n",
       "  </tbody>\n",
       "</table>\n",
       "</div>"
      ],
      "text/plain": [
       "        model  displ  cyl       trans drive                  fuel  veh_class  \\\n",
       "108  BMW 330e    2.0  4.0  SemiAuto-8   2WD  Gasoline/Electricity  small car   \n",
       "160  BMW 530e    2.0  4.0  SemiAuto-8   2WD  Gasoline/Electricity  small car   \n",
       "162  BMW 530e    2.0  4.0  SemiAuto-8   4WD  Gasoline/Electricity  small car   \n",
       "\n",
       "     air_pollution_score city_mpg hwy_mpg cmb_mpg  greenhouse_gas_score  \\\n",
       "108                    3    28/66   34/78   30/71                    10   \n",
       "160                    7    27/70   31/75   29/72                    10   \n",
       "162                    7    27/66   31/68   28/67                    10   \n",
       "\n",
       "    smartway  \n",
       "108      Yes  \n",
       "160    Elite  \n",
       "162    Elite  "
      ]
     },
     "execution_count": 86,
     "metadata": {},
     "output_type": "execute_result"
    }
   ],
   "source": [
    "#confirm\n",
    "hb_18.head(3)"
   ]
  },
  {
   "cell_type": "code",
   "execution_count": 87,
   "id": "cb2b647a",
   "metadata": {},
   "outputs": [
    {
     "data": {
      "text/html": [
       "<div>\n",
       "<style scoped>\n",
       "    .dataframe tbody tr th:only-of-type {\n",
       "        vertical-align: middle;\n",
       "    }\n",
       "\n",
       "    .dataframe tbody tr th {\n",
       "        vertical-align: top;\n",
       "    }\n",
       "\n",
       "    .dataframe thead th {\n",
       "        text-align: right;\n",
       "    }\n",
       "</style>\n",
       "<table border=\"1\" class=\"dataframe\">\n",
       "  <thead>\n",
       "    <tr style=\"text-align: right;\">\n",
       "      <th></th>\n",
       "      <th>model</th>\n",
       "      <th>displ</th>\n",
       "      <th>cyl</th>\n",
       "      <th>trans</th>\n",
       "      <th>drive</th>\n",
       "      <th>fuel</th>\n",
       "      <th>veh_class</th>\n",
       "      <th>air_pollution_score</th>\n",
       "      <th>city_mpg</th>\n",
       "      <th>hwy_mpg</th>\n",
       "      <th>cmb_mpg</th>\n",
       "      <th>greenhouse_gas_score</th>\n",
       "      <th>smartway</th>\n",
       "    </tr>\n",
       "  </thead>\n",
       "  <tbody>\n",
       "    <tr>\n",
       "      <th>108</th>\n",
       "      <td>BMW 330e</td>\n",
       "      <td>2.0</td>\n",
       "      <td>4.0</td>\n",
       "      <td>SemiAuto-8</td>\n",
       "      <td>2WD</td>\n",
       "      <td>Gasoline</td>\n",
       "      <td>small car</td>\n",
       "      <td>3</td>\n",
       "      <td>28</td>\n",
       "      <td>34</td>\n",
       "      <td>30</td>\n",
       "      <td>10</td>\n",
       "      <td>Yes</td>\n",
       "    </tr>\n",
       "    <tr>\n",
       "      <th>160</th>\n",
       "      <td>BMW 530e</td>\n",
       "      <td>2.0</td>\n",
       "      <td>4.0</td>\n",
       "      <td>SemiAuto-8</td>\n",
       "      <td>2WD</td>\n",
       "      <td>Gasoline</td>\n",
       "      <td>small car</td>\n",
       "      <td>7</td>\n",
       "      <td>27</td>\n",
       "      <td>31</td>\n",
       "      <td>29</td>\n",
       "      <td>10</td>\n",
       "      <td>Elite</td>\n",
       "    </tr>\n",
       "  </tbody>\n",
       "</table>\n",
       "</div>"
      ],
      "text/plain": [
       "        model  displ  cyl       trans drive      fuel  veh_class  \\\n",
       "108  BMW 330e    2.0  4.0  SemiAuto-8   2WD  Gasoline  small car   \n",
       "160  BMW 530e    2.0  4.0  SemiAuto-8   2WD  Gasoline  small car   \n",
       "\n",
       "     air_pollution_score city_mpg hwy_mpg cmb_mpg  greenhouse_gas_score  \\\n",
       "108                    3       28      34      30                    10   \n",
       "160                    7       27      31      29                    10   \n",
       "\n",
       "    smartway  \n",
       "108      Yes  \n",
       "160    Elite  "
      ]
     },
     "execution_count": 87,
     "metadata": {},
     "output_type": "execute_result"
    }
   ],
   "source": [
    "#confirm \n",
    "df3.head(2)"
   ]
  },
  {
   "cell_type": "code",
   "execution_count": 88,
   "id": "538d0f83",
   "metadata": {},
   "outputs": [
    {
     "data": {
      "text/html": [
       "<div>\n",
       "<style scoped>\n",
       "    .dataframe tbody tr th:only-of-type {\n",
       "        vertical-align: middle;\n",
       "    }\n",
       "\n",
       "    .dataframe tbody tr th {\n",
       "        vertical-align: top;\n",
       "    }\n",
       "\n",
       "    .dataframe thead th {\n",
       "        text-align: right;\n",
       "    }\n",
       "</style>\n",
       "<table border=\"1\" class=\"dataframe\">\n",
       "  <thead>\n",
       "    <tr style=\"text-align: right;\">\n",
       "      <th></th>\n",
       "      <th>model</th>\n",
       "      <th>displ</th>\n",
       "      <th>cyl</th>\n",
       "      <th>trans</th>\n",
       "      <th>drive</th>\n",
       "      <th>fuel</th>\n",
       "      <th>veh_class</th>\n",
       "      <th>air_pollution_score</th>\n",
       "      <th>city_mpg</th>\n",
       "      <th>hwy_mpg</th>\n",
       "      <th>cmb_mpg</th>\n",
       "      <th>greenhouse_gas_score</th>\n",
       "      <th>smartway</th>\n",
       "    </tr>\n",
       "  </thead>\n",
       "  <tbody>\n",
       "    <tr>\n",
       "      <th>108</th>\n",
       "      <td>BMW 330e</td>\n",
       "      <td>2.0</td>\n",
       "      <td>4.0</td>\n",
       "      <td>SemiAuto-8</td>\n",
       "      <td>2WD</td>\n",
       "      <td>Electricity</td>\n",
       "      <td>small car</td>\n",
       "      <td>3</td>\n",
       "      <td>66</td>\n",
       "      <td>78</td>\n",
       "      <td>71</td>\n",
       "      <td>10</td>\n",
       "      <td>Yes</td>\n",
       "    </tr>\n",
       "    <tr>\n",
       "      <th>160</th>\n",
       "      <td>BMW 530e</td>\n",
       "      <td>2.0</td>\n",
       "      <td>4.0</td>\n",
       "      <td>SemiAuto-8</td>\n",
       "      <td>2WD</td>\n",
       "      <td>Electricity</td>\n",
       "      <td>small car</td>\n",
       "      <td>7</td>\n",
       "      <td>70</td>\n",
       "      <td>75</td>\n",
       "      <td>72</td>\n",
       "      <td>10</td>\n",
       "      <td>Elite</td>\n",
       "    </tr>\n",
       "  </tbody>\n",
       "</table>\n",
       "</div>"
      ],
      "text/plain": [
       "        model  displ  cyl       trans drive         fuel  veh_class  \\\n",
       "108  BMW 330e    2.0  4.0  SemiAuto-8   2WD  Electricity  small car   \n",
       "160  BMW 530e    2.0  4.0  SemiAuto-8   2WD  Electricity  small car   \n",
       "\n",
       "     air_pollution_score city_mpg hwy_mpg cmb_mpg  greenhouse_gas_score  \\\n",
       "108                    3       66      78      71                    10   \n",
       "160                    7       70      75      72                    10   \n",
       "\n",
       "    smartway  \n",
       "108      Yes  \n",
       "160    Elite  "
      ]
     },
     "execution_count": 88,
     "metadata": {},
     "output_type": "execute_result"
    }
   ],
   "source": [
    "#confirm \n",
    "df4.head(2)"
   ]
  },
  {
   "cell_type": "code",
   "execution_count": 89,
   "id": "6c5e295d",
   "metadata": {},
   "outputs": [],
   "source": [
    "#append the two new data frames to form new rows\n",
    "new_row_1 = df3.append(df4)"
   ]
  },
  {
   "cell_type": "code",
   "execution_count": 90,
   "id": "5b15b50b",
   "metadata": {},
   "outputs": [
    {
     "data": {
      "text/plain": [
       "(76, 13)"
      ]
     },
     "execution_count": 90,
     "metadata": {},
     "output_type": "execute_result"
    }
   ],
   "source": [
    "#confirm that the two rows have been appended (they must be 76)\n",
    "new_row_1.shape"
   ]
  },
  {
   "cell_type": "code",
   "execution_count": 91,
   "id": "7b39d08d",
   "metadata": {},
   "outputs": [
    {
     "data": {
      "text/plain": [
       "(794, 13)"
      ]
     },
     "execution_count": 91,
     "metadata": {},
     "output_type": "execute_result"
    }
   ],
   "source": [
    "#before we add the new_rows_1 to the  main dataframe, let's check the shape of the 2018 dataset before we add new rows to it\n",
    "df_18.shape"
   ]
  },
  {
   "cell_type": "code",
   "execution_count": 92,
   "id": "e2a40c99",
   "metadata": {},
   "outputs": [
    {
     "data": {
      "text/plain": [
       "(38, 13)"
      ]
     },
     "execution_count": 92,
     "metadata": {},
     "output_type": "execute_result"
    }
   ],
   "source": [
    "#also lets check for theshape of the hybrid rows so that we can confirm that no row is missing when we append\n",
    "hb_18.shape"
   ]
  },
  {
   "cell_type": "code",
   "execution_count": 93,
   "id": "8ae1fc46",
   "metadata": {},
   "outputs": [],
   "source": [
    "#remove the hybrid rows because we do not later need them. note that the new shape of df_18 should be (794-38). that is832\n",
    "df_18.drop(hb_18.index, inplace=True)"
   ]
  },
  {
   "cell_type": "code",
   "execution_count": 94,
   "id": "faa71b02",
   "metadata": {},
   "outputs": [
    {
     "data": {
      "text/plain": [
       "(756, 13)"
      ]
     },
     "execution_count": 94,
     "metadata": {},
     "output_type": "execute_result"
    }
   ],
   "source": [
    "\n",
    "df_18.shape"
   ]
  },
  {
   "cell_type": "code",
   "execution_count": 95,
   "id": "d6f167ff",
   "metadata": {},
   "outputs": [],
   "source": [
    "#then append the new rows to the df_18 dataframe. note that the whole dataframe shape should be 756+76 (832)\n",
    "df_18 = df_18.append(new_row_1, ignore_index = True)"
   ]
  },
  {
   "cell_type": "code",
   "execution_count": 96,
   "id": "8f21eaba",
   "metadata": {},
   "outputs": [
    {
     "data": {
      "text/plain": [
       "(832, 13)"
      ]
     },
     "execution_count": 96,
     "metadata": {},
     "output_type": "execute_result"
    }
   ],
   "source": [
    "#confirm the shape\n",
    "df_18.shape"
   ]
  },
  {
   "cell_type": "code",
   "execution_count": 97,
   "id": "90c571f9",
   "metadata": {},
   "outputs": [
    {
     "data": {
      "text/plain": [
       "(832, 13)"
      ]
     },
     "execution_count": 97,
     "metadata": {},
     "output_type": "execute_result"
    }
   ],
   "source": [
    "#confirm the shape now\n",
    "df_18.shape"
   ]
  },
  {
   "cell_type": "code",
   "execution_count": null,
   "id": "ef47aa15",
   "metadata": {},
   "outputs": [],
   "source": []
  },
  {
   "cell_type": "markdown",
   "id": "085eb4cc",
   "metadata": {},
   "source": [
    "##### Now, we can go on to fix the data types, let's check the data types first to know what we have to fix"
   ]
  },
  {
   "cell_type": "code",
   "execution_count": 98,
   "id": "aab31403",
   "metadata": {},
   "outputs": [
    {
     "data": {
      "text/plain": [
       "model                    object\n",
       "displ                   float64\n",
       "cyl                     float64\n",
       "trans                    object\n",
       "drive                    object\n",
       "fuel                     object\n",
       "veh_class                object\n",
       "air_pollution_score       int64\n",
       "city_mpg                 object\n",
       "hwy_mpg                  object\n",
       "cmb_mpg                  object\n",
       "greenhouse_gas_score      int64\n",
       "smartway                 object\n",
       "dtype: object"
      ]
     },
     "execution_count": 98,
     "metadata": {},
     "output_type": "execute_result"
    }
   ],
   "source": [
    "df_18.dtypes"
   ]
  },
  {
   "cell_type": "markdown",
   "id": "be97ef5e",
   "metadata": {},
   "source": [
    "##### We will change \n",
    "\n",
    "##### *cyl* from `float` to `int`\n",
    "\n",
    "##### air_pollution_score* from `int` to `float`\n",
    "\n",
    "##### *city_mpg*, *hwy_mpg*, *cmb_mpg* from `object` to `float` "
   ]
  },
  {
   "cell_type": "code",
   "execution_count": 99,
   "id": "8dbb0140",
   "metadata": {},
   "outputs": [],
   "source": [
    "#converting the specific columns\n",
    "\n",
    "df_18.cyl = df_18.cyl.astype(int)\n",
    "\n",
    "df_18.greenhouse_gas_score = df_18.greenhouse_gas_score.astype(int)\n",
    "\n",
    "df_18.air_pollution_score = df_18.air_pollution_score.astype(float)\n",
    "\n",
    "df_18.city_mpg = df_18.city_mpg.astype(float)\n",
    "\n",
    "df_18.hwy_mpg = df_18.hwy_mpg.astype(float)\n",
    "\n",
    "df_18.cmb_mpg = df_18.cmb_mpg.astype(float)\n",
    "\n"
   ]
  },
  {
   "cell_type": "code",
   "execution_count": 100,
   "id": "63fc9dd7",
   "metadata": {},
   "outputs": [
    {
     "data": {
      "text/plain": [
       "model                    object\n",
       "displ                   float64\n",
       "cyl                       int32\n",
       "trans                    object\n",
       "drive                    object\n",
       "fuel                     object\n",
       "veh_class                object\n",
       "air_pollution_score     float64\n",
       "city_mpg                float64\n",
       "hwy_mpg                 float64\n",
       "cmb_mpg                 float64\n",
       "greenhouse_gas_score      int32\n",
       "smartway                 object\n",
       "dtype: object"
      ]
     },
     "execution_count": 100,
     "metadata": {},
     "output_type": "execute_result"
    }
   ],
   "source": [
    "#confirm the data types again\n",
    "df_18.dtypes"
   ]
  },
  {
   "cell_type": "code",
   "execution_count": 101,
   "id": "483e04bf",
   "metadata": {},
   "outputs": [
    {
     "data": {
      "text/plain": [
       "model                   True\n",
       "displ                   True\n",
       "cyl                     True\n",
       "trans                   True\n",
       "drive                   True\n",
       "fuel                    True\n",
       "veh_class               True\n",
       "air_pollution_score     True\n",
       "city_mpg                True\n",
       "hwy_mpg                 True\n",
       "cmb_mpg                 True\n",
       "greenhouse_gas_score    True\n",
       "smartway                True\n",
       "dtype: bool"
      ]
     },
     "execution_count": 101,
     "metadata": {},
     "output_type": "execute_result"
    }
   ],
   "source": [
    "#now confirm that df_08 and df_18 have the same data types\n",
    "df_18.dtypes == df_08.dtypes"
   ]
  },
  {
   "cell_type": "markdown",
   "id": "b14f7a2a",
   "metadata": {},
   "source": [
    "NOW WE HAVE A CLEAN DATASET THAT WE CAN GO ON TO PERFORM OUR ANALYSIS AND EXPLORATION ON.\n",
    "\n",
    "\n",
    "\n",
    "For the last time, let's check the shape and save the file\n"
   ]
  },
  {
   "cell_type": "code",
   "execution_count": 102,
   "id": "c1853ead",
   "metadata": {},
   "outputs": [
    {
     "data": {
      "text/plain": [
       "(987, 13)"
      ]
     },
     "execution_count": 102,
     "metadata": {},
     "output_type": "execute_result"
    }
   ],
   "source": [
    "df_08.shape"
   ]
  },
  {
   "cell_type": "code",
   "execution_count": 103,
   "id": "37ab39df",
   "metadata": {},
   "outputs": [
    {
     "data": {
      "text/plain": [
       "(832, 13)"
      ]
     },
     "execution_count": 103,
     "metadata": {},
     "output_type": "execute_result"
    }
   ],
   "source": [
    "df_18.shape"
   ]
  },
  {
   "cell_type": "code",
   "execution_count": 104,
   "id": "1dec8416",
   "metadata": {},
   "outputs": [],
   "source": [
    "df_08.to_csv('clean_fuel_data_2008.csv', index=False)\n",
    "df_18.to_csv('clean_fuel_data_2018.csv', index=False)"
   ]
  },
  {
   "cell_type": "markdown",
   "id": "c1453c93",
   "metadata": {},
   "source": [
    "## Exploratory Data Analysis\n",
    "\n",
    "Now, we will examine the distribution of some core columns and also their corellation with better fuel economy `(cmb_mpg)`"
   ]
  },
  {
   "cell_type": "code",
   "execution_count": 105,
   "id": "54cc4172",
   "metadata": {},
   "outputs": [
    {
     "data": {
      "text/html": [
       "<div>\n",
       "<style scoped>\n",
       "    .dataframe tbody tr th:only-of-type {\n",
       "        vertical-align: middle;\n",
       "    }\n",
       "\n",
       "    .dataframe tbody tr th {\n",
       "        vertical-align: top;\n",
       "    }\n",
       "\n",
       "    .dataframe thead th {\n",
       "        text-align: right;\n",
       "    }\n",
       "</style>\n",
       "<table border=\"1\" class=\"dataframe\">\n",
       "  <thead>\n",
       "    <tr style=\"text-align: right;\">\n",
       "      <th></th>\n",
       "      <th>model</th>\n",
       "      <th>displ</th>\n",
       "      <th>cyl</th>\n",
       "      <th>trans</th>\n",
       "      <th>drive</th>\n",
       "      <th>fuel</th>\n",
       "      <th>veh_class</th>\n",
       "      <th>air_pollution_score</th>\n",
       "      <th>city_mpg</th>\n",
       "      <th>hwy_mpg</th>\n",
       "      <th>cmb_mpg</th>\n",
       "      <th>greenhouse_gas_score</th>\n",
       "      <th>smartway</th>\n",
       "    </tr>\n",
       "  </thead>\n",
       "  <tbody>\n",
       "    <tr>\n",
       "      <th>0</th>\n",
       "      <td>ACURA MDX</td>\n",
       "      <td>3.7</td>\n",
       "      <td>6</td>\n",
       "      <td>Auto-S5</td>\n",
       "      <td>4WD</td>\n",
       "      <td>Gasoline</td>\n",
       "      <td>SUV</td>\n",
       "      <td>7.0</td>\n",
       "      <td>15.0</td>\n",
       "      <td>20.0</td>\n",
       "      <td>17.0</td>\n",
       "      <td>4</td>\n",
       "      <td>no</td>\n",
       "    </tr>\n",
       "  </tbody>\n",
       "</table>\n",
       "</div>"
      ],
      "text/plain": [
       "       model  displ  cyl    trans drive      fuel veh_class  \\\n",
       "0  ACURA MDX    3.7    6  Auto-S5   4WD  Gasoline       SUV   \n",
       "\n",
       "   air_pollution_score  city_mpg  hwy_mpg  cmb_mpg  greenhouse_gas_score  \\\n",
       "0                  7.0      15.0     20.0     17.0                     4   \n",
       "\n",
       "  smartway  \n",
       "0       no  "
      ]
     },
     "execution_count": 105,
     "metadata": {},
     "output_type": "execute_result"
    }
   ],
   "source": [
    "df_08.head(1)"
   ]
  },
  {
   "cell_type": "code",
   "execution_count": 106,
   "id": "4fc6d4cc",
   "metadata": {},
   "outputs": [
    {
     "data": {
      "text/html": [
       "<div>\n",
       "<style scoped>\n",
       "    .dataframe tbody tr th:only-of-type {\n",
       "        vertical-align: middle;\n",
       "    }\n",
       "\n",
       "    .dataframe tbody tr th {\n",
       "        vertical-align: top;\n",
       "    }\n",
       "\n",
       "    .dataframe thead th {\n",
       "        text-align: right;\n",
       "    }\n",
       "</style>\n",
       "<table border=\"1\" class=\"dataframe\">\n",
       "  <thead>\n",
       "    <tr style=\"text-align: right;\">\n",
       "      <th></th>\n",
       "      <th>model</th>\n",
       "      <th>displ</th>\n",
       "      <th>cyl</th>\n",
       "      <th>trans</th>\n",
       "      <th>drive</th>\n",
       "      <th>fuel</th>\n",
       "      <th>veh_class</th>\n",
       "      <th>air_pollution_score</th>\n",
       "      <th>city_mpg</th>\n",
       "      <th>hwy_mpg</th>\n",
       "      <th>cmb_mpg</th>\n",
       "      <th>greenhouse_gas_score</th>\n",
       "      <th>smartway</th>\n",
       "    </tr>\n",
       "  </thead>\n",
       "  <tbody>\n",
       "    <tr>\n",
       "      <th>0</th>\n",
       "      <td>ACURA RDX</td>\n",
       "      <td>3.5</td>\n",
       "      <td>6</td>\n",
       "      <td>SemiAuto-6</td>\n",
       "      <td>2WD</td>\n",
       "      <td>Gasoline</td>\n",
       "      <td>small SUV</td>\n",
       "      <td>3.0</td>\n",
       "      <td>20.0</td>\n",
       "      <td>28.0</td>\n",
       "      <td>23.0</td>\n",
       "      <td>5</td>\n",
       "      <td>No</td>\n",
       "    </tr>\n",
       "  </tbody>\n",
       "</table>\n",
       "</div>"
      ],
      "text/plain": [
       "       model  displ  cyl       trans drive      fuel  veh_class  \\\n",
       "0  ACURA RDX    3.5    6  SemiAuto-6   2WD  Gasoline  small SUV   \n",
       "\n",
       "   air_pollution_score  city_mpg  hwy_mpg  cmb_mpg  greenhouse_gas_score  \\\n",
       "0                  3.0      20.0     28.0     23.0                     5   \n",
       "\n",
       "  smartway  \n",
       "0       No  "
      ]
     },
     "execution_count": 106,
     "metadata": {},
     "output_type": "execute_result"
    }
   ],
   "source": [
    "df_18.head(1)"
   ]
  },
  {
   "cell_type": "code",
   "execution_count": 107,
   "id": "4716c863",
   "metadata": {},
   "outputs": [
    {
     "data": {
      "image/png": "[encoded data removed]",
      "text/plain": [
       "<Figure size 432x288 with 1 Axes>"
      ]
     },
     "metadata": {
      "needs_background": "light"
     },
     "output_type": "display_data"
    }
   ],
   "source": [
    "#distribution of 2008 displ (histogram)\n",
    "df_08.displ.hist();"
   ]
  },
  {
   "cell_type": "code",
   "execution_count": 108,
   "id": "15855e0d",
   "metadata": {},
   "outputs": [
    {
     "data": {
      "image/png": "[encoded data removed]",
      "text/plain": [
       "<Figure size 432x288 with 1 Axes>"
      ]
     },
     "metadata": {
      "needs_background": "light"
     },
     "output_type": "display_data"
    }
   ],
   "source": [
    "#distribution of 2018 displ (histogram)\n",
    "df_18.displ.hist();"
   ]
  },
  {
   "cell_type": "code",
   "execution_count": 110,
   "id": "c53b81db",
   "metadata": {},
   "outputs": [
    {
     "data": {
      "image/png": "[encoded data removed]",
      "text/plain": [
       "<Figure size 432x288 with 1 Axes>"
      ]
     },
     "metadata": {
      "needs_background": "light"
     },
     "output_type": "display_data"
    }
   ],
   "source": [
    "#distribution of 2008 cyl (histogram)\n",
    "df_08.cyl.hist();"
   ]
  },
  {
   "cell_type": "code",
   "execution_count": 111,
   "id": "f621269b",
   "metadata": {},
   "outputs": [
    {
     "data": {
      "image/png": "[encoded data removed]",
      "text/plain": [
       "<Figure size 432x288 with 1 Axes>"
      ]
     },
     "metadata": {
      "needs_background": "light"
     },
     "output_type": "display_data"
    }
   ],
   "source": [
    "#distribution of 2018 cyl (histogram)\n",
    "df_18.cyl.hist();"
   ]
  },
  {
   "cell_type": "code",
   "execution_count": 112,
   "id": "f89ad4ab",
   "metadata": {},
   "outputs": [
    {
     "data": {
      "image/png": "[encoded data removed]",
      "text/plain": [
       "<Figure size 432x288 with 1 Axes>"
      ]
     },
     "metadata": {
      "needs_background": "light"
     },
     "output_type": "display_data"
    }
   ],
   "source": [
    "#distribution of 2008 air_pollution_score (histogram)\n",
    "df_08.air_pollution_score.hist();"
   ]
  },
  {
   "cell_type": "code",
   "execution_count": 113,
   "id": "d0f726db",
   "metadata": {},
   "outputs": [
    {
     "data": {
      "image/png": "[encoded data removed]",
      "text/plain": [
       "<Figure size 432x288 with 1 Axes>"
      ]
     },
     "metadata": {
      "needs_background": "light"
     },
     "output_type": "display_data"
    }
   ],
   "source": [
    "#distribution of 2018 air_pollution_score (histogram)\n",
    "df_18.air_pollution_score.hist();"
   ]
  },
  {
   "cell_type": "code",
   "execution_count": 114,
   "id": "0b2776a6",
   "metadata": {},
   "outputs": [
    {
     "data": {
      "image/png": "[encoded data removed]",
      "text/plain": [
       "<Figure size 432x288 with 1 Axes>"
      ]
     },
     "metadata": {
      "needs_background": "light"
     },
     "output_type": "display_data"
    }
   ],
   "source": [
    "#distribution of 2008 greenhouse_gas_score (histogram)\n",
    "df_08.greenhouse_gas_score.hist();"
   ]
  },
  {
   "cell_type": "code",
   "execution_count": 115,
   "id": "74acf637",
   "metadata": {},
   "outputs": [
    {
     "data": {
      "image/png": "[encoded data removed]",
      "text/plain": [
       "<Figure size 432x288 with 1 Axes>"
      ]
     },
     "metadata": {
      "needs_background": "light"
     },
     "output_type": "display_data"
    }
   ],
   "source": [
    "#distribution of 2018 greenhouse_gas_score (histogram)\n",
    "df_18.greenhouse_gas_score.hist();"
   ]
  },
  {
   "cell_type": "code",
   "execution_count": 118,
   "id": "76116728",
   "metadata": {},
   "outputs": [
    {
     "data": {
      "image/png": "[encoded data removed]",
      "text/plain": [
       "<Figure size 432x288 with 1 Axes>"
      ]
     },
     "metadata": {
      "needs_background": "light"
     },
     "output_type": "display_data"
    }
   ],
   "source": [
    "#distribution of 2008 cmb_mpg (histogram)\n",
    "df_08.cmb_mpg.hist();"
   ]
  },
  {
   "cell_type": "code",
   "execution_count": 117,
   "id": "2e4a6702",
   "metadata": {},
   "outputs": [
    {
     "data": {
      "image/png": "[encoded data removed]",
      "text/plain": [
       "<Figure size 432x288 with 1 Axes>"
      ]
     },
     "metadata": {
      "needs_background": "light"
     },
     "output_type": "display_data"
    }
   ],
   "source": [
    "#distribution of 2018 cmb_mpg (histogram)\n",
    "df_18.cmb_mpg.hist();"
   ]
  },
  {
   "cell_type": "markdown",
   "id": "a78449ba",
   "metadata": {},
   "source": [
    "##### Now, we will begin to test for corelation between relevant parameters and the fuel economy (combined miled per gallon). we will do this using the scatter plot\n"
   ]
  },
  {
   "cell_type": "code",
   "execution_count": 153,
   "id": "0826fd40",
   "metadata": {},
   "outputs": [
    {
     "data": {
      "image/png": "[encoded data removed]",
      "text/plain": [
       "<Figure size 504x360 with 1 Axes>"
      ]
     },
     "metadata": {
      "needs_background": "light"
     },
     "output_type": "display_data"
    },
    {
     "data": {
      "image/png": "[encoded data removed]",
      "text/plain": [
       "<Figure size 504x360 with 1 Axes>"
      ]
     },
     "metadata": {
      "needs_background": "light"
     },
     "output_type": "display_data"
    }
   ],
   "source": [
    "#to check for the corellation between engine displacement(size of engine in litres) and the combined miles per gallon in both dataset\n",
    "\n",
    "df_08.plot.scatter(x = 'displ', y = 'cmb_mpg', figsize = (7,5), title =\"2008\");\n",
    "df_18.plot.scatter(x = 'displ', y = 'cmb_mpg', figsize = (7,5), title =\"2018\");"
   ]
  },
  {
   "cell_type": "markdown",
   "id": "6d6ffd2e",
   "metadata": {},
   "source": [
    "##### The Plots above shows us there is a high and negative corelation between the engine displacement and the vehicles combined miles per gallon consumption in both dataset. This means that the biger the size of the engine, the lower the the miles per gallon consumption of the vehicles."
   ]
  },
  {
   "cell_type": "code",
   "execution_count": 152,
   "id": "d4530cf7",
   "metadata": {},
   "outputs": [
    {
     "data": {
      "image/png": "[encoded data removed]",
      "text/plain": [
       "<Figure size 504x360 with 1 Axes>"
      ]
     },
     "metadata": {
      "needs_background": "light"
     },
     "output_type": "display_data"
    },
    {
     "data": {
      "image/png": "[encoded data removed]",
      "text/plain": [
       "<Figure size 504x360 with 1 Axes>"
      ]
     },
     "metadata": {
      "needs_background": "light"
     },
     "output_type": "display_data"
    }
   ],
   "source": [
    "#to check for the corellation between number of cylinders and the combined miles per gallon both dataset\n",
    "\n",
    "df_08.plot.scatter(x = 'cyl', y = 'cmb_mpg', figsize = (7,5), title =\"2008\");\n",
    "df_18.plot.scatter(x = 'cyl', y = 'cmb_mpg', figsize = (7,5), title =\"2018\");"
   ]
  },
  {
   "cell_type": "markdown",
   "id": "8da15d05",
   "metadata": {},
   "source": [
    "##### The Plots above shows us there is a high and negative corelation between the number of sylinders the vehicle has and the  vehicles combined miles per gallon consumption in both datasets. This means that the higher the number fo cylinders, the lower the the miles per gallon consumption of the vehicles."
   ]
  },
  {
   "cell_type": "code",
   "execution_count": 143,
   "id": "afa62acf",
   "metadata": {},
   "outputs": [
    {
     "data": {
      "image/png": "[encoded data removed]",
      "text/plain": [
       "<Figure size 504x360 with 1 Axes>"
      ]
     },
     "metadata": {
      "needs_background": "light"
     },
     "output_type": "display_data"
    },
    {
     "data": {
      "image/png": "[encoded data removed]",
      "text/plain": [
       "<Figure size 504x360 with 1 Axes>"
      ]
     },
     "metadata": {
      "needs_background": "light"
     },
     "output_type": "display_data"
    }
   ],
   "source": [
    "#to check for the corellation between number of greenhouse_gas_score and the combined miles per gallon both dataset\n",
    "\n",
    "df_08.plot.scatter(x = 'greenhouse_gas_score', y = 'cmb_mpg', figsize = (7,5), title =\"2008\");\n",
    "df_18.plot.scatter(x = 'greenhouse_gas_score', y = 'cmb_mpg', figsize = (7,5), title =\"2018\");"
   ]
  },
  {
   "cell_type": "markdown",
   "id": "79f56fa1",
   "metadata": {},
   "source": [
    "##### The Plots above shows us there is a high and positive corelation between the greenhouse_gas_score assigned to the vehicle and the vehicles combined miles per gallon consumption in both datasets. This means that the higher the greenouse gas score, the higher the the miles per gallon consumption of the vehicles."
   ]
  },
  {
   "cell_type": "code",
   "execution_count": 146,
   "id": "38aaf98d",
   "metadata": {},
   "outputs": [
    {
     "data": {
      "image/png": "[encoded data removed]",
      "text/plain": [
       "<Figure size 504x360 with 1 Axes>"
      ]
     },
     "metadata": {
      "needs_background": "light"
     },
     "output_type": "display_data"
    },
    {
     "data": {
      "image/png": "[encoded data removed]",
      "text/plain": [
       "<Figure size 504x360 with 1 Axes>"
      ]
     },
     "metadata": {
      "needs_background": "light"
     },
     "output_type": "display_data"
    }
   ],
   "source": [
    "#to check for the corellation between city miles per gallon and the combined miles per gallon both dataset\n",
    "\n",
    "df_08.plot.scatter(x = 'city_mpg', y = 'cmb_mpg', figsize = (7,5), title =\"2008\");\n",
    "df_18.plot.scatter(x = 'city_mpg', y = 'cmb_mpg', figsize = (7,5), title =\"2018\");"
   ]
  },
  {
   "cell_type": "code",
   "execution_count": 147,
   "id": "045b43c5",
   "metadata": {},
   "outputs": [
    {
     "data": {
      "image/png": "[encoded data removed]",
      "text/plain": [
       "<Figure size 504x360 with 1 Axes>"
      ]
     },
     "metadata": {
      "needs_background": "light"
     },
     "output_type": "display_data"
    },
    {
     "data": {
      "image/png": "[encoded data removed]",
      "text/plain": [
       "<Figure size 504x360 with 1 Axes>"
      ]
     },
     "metadata": {
      "needs_background": "light"
     },
     "output_type": "display_data"
    }
   ],
   "source": [
    "##to check for the corellation between highway miles per gallon and the combined miles per gallon both dataset\n",
    "df_08.plot.scatter(x = 'hwy_mpg', y = 'cmb_mpg', figsize = (7,5), title =\"2008\");\n",
    "df_18.plot.scatter(x = 'hwy_mpg', y = 'cmb_mpg', figsize = (7,5), title =\"2018\");"
   ]
  },
  {
   "cell_type": "markdown",
   "id": "f08e40e1",
   "metadata": {},
   "source": [
    "##### The 4 Plots above shows us there is a high and positive corelation between the vehicles city_miles_per_gallon of the vehicles and the combined_miles_per_gallon consumption in both datasets. This means that the higher the vehicles city_miles_per_gallon , the higher the miles per gallon consumption of the vehicles.\n",
    "\n",
    "##### The same goes for the highway_miles_per_gallon. \n",
    "\n",
    "##### The reason why that is so is because the combined_miles_per_gallon was derived as as combination of the city_miles_per_gallon and the highway_miles_per_gallon, so whatever goes for the city_miles_per_gallon and the highway_miles_per_gallon goes for the combined_miles_per_gallon consumption."
   ]
  },
  {
   "cell_type": "markdown",
   "id": "e48c3848",
   "metadata": {},
   "source": [
    "# Conclusion"
   ]
  },
  {
   "cell_type": "markdown",
   "id": "6b182a4b",
   "metadata": {},
   "source": [
    "## Question 1. Which vehicle class are considered the most economical ?"
   ]
  },
  {
   "cell_type": "code",
   "execution_count": 228,
   "id": "9d425192",
   "metadata": {},
   "outputs": [
    {
     "data": {
      "text/plain": [
       "veh_class\n",
       "SUV              18.471429\n",
       "large car        18.509091\n",
       "midsize car      21.601449\n",
       "minivan          19.117647\n",
       "pickup           16.277108\n",
       "small car        21.105105\n",
       "station wagon    22.366667\n",
       "van              14.952381\n",
       "Name: cmb_mpg, dtype: float64"
      ]
     },
     "execution_count": 228,
     "metadata": {},
     "output_type": "execute_result"
    }
   ],
   "source": [
    "#group by the various vehicle class and check the the average combined_miles_per_gallon consuption for each class for the 2008 dataset\n",
    "v_class_08 = df_08.groupby('veh_class').cmb_mpg.mean()\n",
    "v_class_08"
   ]
  },
  {
   "cell_type": "code",
   "execution_count": 229,
   "id": "750a892f",
   "metadata": {},
   "outputs": [
    {
     "data": {
      "text/plain": [
       "veh_class\n",
       "large car          23.409091\n",
       "midsize car        27.884058\n",
       "minivan            20.800000\n",
       "pickup             18.589744\n",
       "small SUV          24.074074\n",
       "small car          25.421053\n",
       "special purpose    18.500000\n",
       "standard SUV       18.197674\n",
       "station wagon      27.529412\n",
       "Name: cmb_mpg, dtype: float64"
      ]
     },
     "execution_count": 229,
     "metadata": {},
     "output_type": "execute_result"
    }
   ],
   "source": [
    "#group by the various vehicle class and check the the average combined_miles_per_gallon consuption for each class for the 2018 dataset\n",
    "v_class_18 = df_18.groupby('veh_class').cmb_mpg.mean()\n",
    "v_class_18"
   ]
  },
  {
   "cell_type": "code",
   "execution_count": 230,
   "id": "0053d330",
   "metadata": {},
   "outputs": [
    {
     "data": {
      "text/plain": [
       "veh_class\n",
       "SUV                      NaN\n",
       "large car          20.959091\n",
       "midsize car        24.742754\n",
       "minivan            19.958824\n",
       "pickup             17.433426\n",
       "small SUV                NaN\n",
       "small car          23.263079\n",
       "special purpose          NaN\n",
       "standard SUV             NaN\n",
       "station wagon      24.948039\n",
       "van                      NaN\n",
       "Name: cmb_mpg, dtype: float64"
      ]
     },
     "execution_count": 230,
     "metadata": {},
     "output_type": "execute_result"
    }
   ],
   "source": [
    "#combining both to get the best picture of the most econimical vehicle class over the years\n",
    "cmb_08_18 = (v_class_08 + v_class_18) / 2 #average\n",
    "cmb_08_18"
   ]
  },
  {
   "cell_type": "code",
   "execution_count": 232,
   "id": "aa16ab3b",
   "metadata": {},
   "outputs": [
    {
     "data": {
      "image/png": "[encoded data removed]",
      "text/plain": [
       "<Figure size 576x360 with 1 Axes>"
      ]
     },
     "metadata": {
      "needs_background": "light"
     },
     "output_type": "display_data"
    }
   ],
   "source": [
    "#plot for the most economical fuel class for classes that exists in both datasets\n",
    "\n",
    "cmb_08_18.dropna(inplace=True)\n",
    "plt.subplots(figsize=(8, 5))\n",
    "plt.bar(cmb_08_18.index, cmb_08_18)\n",
    "plt.title(\"Fuel Economy/Consuption Over the Years According to Vehicle Classes\")\n",
    "plt.xlabel(\"Vehicle Class\")\n",
    "plt.ylabel(\"Average Miles_Per_Gallon Consumption\");\n"
   ]
  },
  {
   "cell_type": "markdown",
   "id": "8ee1fa81",
   "metadata": {},
   "source": [
    "##### The Plot above shows us that the most economical vehicle class over the years has proven to be the Station Wagon. \n",
    "\n",
    "##### Note that the higher the miles_per_gallon value, the better becasue that value tells us the number of miles that vehicle can make with one gallon of fuel. Hence its is important that the miles_per_gallon value of a vehicle is high for it to be considered as an economical vehicle.\n",
    "\n",
    "##### In other words the Station Wagon vehicle class has the highest miles_per_gallon value hence, the reason why it is considerd to be the most economical vehicle class"
   ]
  },
  {
   "cell_type": "markdown",
   "id": "360de126",
   "metadata": {},
   "source": [
    "### Question 2. Which of the veicle classes are most considered to be smartway vehicles ?"
   ]
  },
  {
   "cell_type": "code",
   "execution_count": 164,
   "id": "3a2941d5",
   "metadata": {},
   "outputs": [
    {
     "data": {
      "text/plain": [
       "small car        177\n",
       "midsize car       80\n",
       "SUV               60\n",
       "station wagon     34\n",
       "large car         22\n",
       "pickup             5\n",
       "minivan            2\n",
       "Name: veh_class, dtype: int64"
      ]
     },
     "execution_count": 164,
     "metadata": {},
     "output_type": "execute_result"
    }
   ],
   "source": [
    "#filter out the rows/entries whose smartway value is \"yes\" and then check with the various vehicle class in 2008\n",
    "v_smart_08 = df_08.query('smartway == \"yes\"').veh_class.value_counts()\n",
    "v_smart_08"
   ]
  },
  {
   "cell_type": "code",
   "execution_count": 166,
   "id": "0972597a",
   "metadata": {},
   "outputs": [
    {
     "data": {
      "text/plain": [
       "small car        36\n",
       "midsize car      35\n",
       "station wagon     9\n",
       "large car         9\n",
       "small SUV         2\n",
       "Name: veh_class, dtype: int64"
      ]
     },
     "execution_count": 166,
     "metadata": {},
     "output_type": "execute_result"
    }
   ],
   "source": [
    "#filter out the rows/entries whose smartway value is \"yes\" and then check with the various vehicle class in 2018\n",
    "v_smart_18 = df_18.query('smartway == \"Yes\"').veh_class.value_counts()\n",
    "v_smart_18"
   ]
  },
  {
   "cell_type": "code",
   "execution_count": 176,
   "id": "5910fe46",
   "metadata": {},
   "outputs": [
    {
     "data": {
      "image/png": "[encoded data removed]",
      "text/plain": [
       "<Figure size 720x360 with 1 Axes>"
      ]
     },
     "metadata": {
      "needs_background": "light"
     },
     "output_type": "display_data"
    }
   ],
   "source": [
    "#plot for smartway considered vehicles for 2008\n",
    "plt.subplots(figsize=(10, 5))\n",
    "plt.bar(v_smart_08.index, v_smart_08, color = 'g')\n",
    "plt.title(\"Smartway Considered vehicle Classes For 2008\")\n",
    "plt.xlabel(\"Vehicle Class\")\n",
    "plt.ylabel(\"Count of Positve Smartway\");"
   ]
  },
  {
   "cell_type": "code",
   "execution_count": 175,
   "id": "508c3cc7",
   "metadata": {},
   "outputs": [
    {
     "data": {
      "image/png": "[encoded data removed]",
      "text/plain": [
       "<Figure size 720x360 with 1 Axes>"
      ]
     },
     "metadata": {
      "needs_background": "light"
     },
     "output_type": "display_data"
    }
   ],
   "source": [
    "#plot for smartway considered vehicles for 2018\n",
    "plt.subplots(figsize=(10, 5))\n",
    "plt.bar(v_smart_18.index, v_smart_18, color = 'r')\n",
    "plt.title(\"Smartway Considered vehicle Classes For 2018\")\n",
    "plt.xlabel(\"Vehicle Class\")\n",
    "plt.ylabel(\"Count of Positve Smartway\");"
   ]
  },
  {
   "cell_type": "code",
   "execution_count": 167,
   "id": "494d5c0c",
   "metadata": {},
   "outputs": [
    {
     "data": {
      "text/plain": [
       "SUV                NaN\n",
       "large car         31.0\n",
       "midsize car      115.0\n",
       "minivan            NaN\n",
       "pickup             NaN\n",
       "small SUV          NaN\n",
       "small car        213.0\n",
       "station wagon     43.0\n",
       "Name: veh_class, dtype: float64"
      ]
     },
     "execution_count": 167,
     "metadata": {},
     "output_type": "execute_result"
    }
   ],
   "source": [
    "#combining both to get the best picture of the most considered smartway vehicle class over the years\n",
    "smart_08_18 = (v_smart_08 + v_smart_18)  #total\n",
    "smart_08_18"
   ]
  },
  {
   "cell_type": "code",
   "execution_count": 177,
   "id": "6409b02c",
   "metadata": {},
   "outputs": [
    {
     "data": {
      "image/png": "[encoded data removed]",
      "text/plain": [
       "<Figure size 720x360 with 1 Axes>"
      ]
     },
     "metadata": {
      "needs_background": "light"
     },
     "output_type": "display_data"
    }
   ],
   "source": [
    "#plot for combined smartway considered vehicles over the years\n",
    "smart_08_18.dropna(inplace=True)\n",
    "plt.subplots(figsize=(10, 5))\n",
    "plt.bar(smart_08_18.index, smart_08_18, color = 'b')\n",
    "plt.title(\"Smartway Considered vehicle Classes Over the Years\")\n",
    "plt.xlabel(\"Vehicle Class\")\n",
    "plt.ylabel(\"Count of Positve Smartway\");"
   ]
  },
  {
   "cell_type": "markdown",
   "id": "06f6b42f",
   "metadata": {},
   "source": [
    "##### The Plot above shows that the vehicle class that is considered to be the most smartway vehicle is the `Small Car`\n",
    "\n",
    "##### Looking through the first plot that defines the vehicle class from 2008 and the second plot that defines the vehicle class from 2018 one thing is common and it is that the class of `Small Cars` dominates the sets as the most smartway considered vehicle class and this explains why it remained on top when we combined both datasets. \n",
    "\n",
    "##### Hence, if you are considering to buy a vehcle that is considered a smartway vehicle, go for a vehicle in the `Small Car` Class"
   ]
  },
  {
   "cell_type": "markdown",
   "id": "de98ef75",
   "metadata": {},
   "source": [
    "## Question 3. Which range of air_pollution score must a vehicle attain to be considered a smartway vehicle?"
   ]
  },
  {
   "cell_type": "code",
   "execution_count": 178,
   "id": "b46eb26b",
   "metadata": {},
   "outputs": [
    {
     "data": {
      "text/plain": [
       "6.706180344478216"
      ]
     },
     "execution_count": 178,
     "metadata": {},
     "output_type": "execute_result"
    }
   ],
   "source": [
    "#let's check for the mean air_poollution_score first\n",
    "df_08.air_pollution_score.mean()"
   ]
  },
  {
   "cell_type": "code",
   "execution_count": 223,
   "id": "0a1e527a",
   "metadata": {},
   "outputs": [
    {
     "data": {
      "text/plain": [
       "no     442\n",
       "yes     60\n",
       "Name: smartway, dtype: int64"
      ]
     },
     "execution_count": 223,
     "metadata": {},
     "output_type": "execute_result"
    }
   ],
   "source": [
    "#check for the number of smartway  counts for scenarios when air_polution_score is lesser than the mean air_pollution_score in 2008\n",
    "ap_smart_08_l = df_08.query('air_pollution_score < air_pollution_score.mean()').smartway.value_counts()\n",
    "ap_smart_08_l"
   ]
  },
  {
   "cell_type": "code",
   "execution_count": 224,
   "id": "0dc3b2de",
   "metadata": {},
   "outputs": [
    {
     "data": {
      "text/plain": [
       "yes    320\n",
       "no     165\n",
       "Name: smartway, dtype: int64"
      ]
     },
     "execution_count": 224,
     "metadata": {},
     "output_type": "execute_result"
    }
   ],
   "source": [
    "#then we check for the number of smartway  counts for scenarios when air_polution_score is higher than the mean air_pollution_score in 2008\n",
    "ap_smart_08_g = df_08.query('air_pollution_score > air_pollution_score.mean()').smartway.value_counts()\n",
    "ap_smart_08_g"
   ]
  },
  {
   "cell_type": "markdown",
   "id": "bc20333e",
   "metadata": {},
   "source": [
    "##### We can see here from the 2008 dataset that we have more positively considered smartway vehicles when the air pollution score is above the average pollution score and we have less positively considered smartway vehicles when the air pollution score is below the average pollution score.\n",
    "\n",
    "##### Let's Plot a Pie chart to show this"
   ]
  },
  {
   "cell_type": "code",
   "execution_count": 192,
   "id": "5622e42c",
   "metadata": {},
   "outputs": [
    {
     "data": {
      "image/png": "[encoded data removed]",
      "text/plain": [
       "<Figure size 432x288 with 1 Axes>"
      ]
     },
     "metadata": {},
     "output_type": "display_data"
    }
   ],
   "source": [
    "#plot for smartway considered vehicles where air_pollution_score is greater than the average air_pollution_score\n",
    "\n",
    "mylabels = [\"Yes\", \"No\"]\n",
    "myexplode = [0.1, 0]\n",
    "plt.pie(ap_smart_08_g, labels = mylabels, explode = myexplode)\n",
    "plt.title(\"Smartway Considered vehicle For Vehicles With air_pollution_score greater than the average air_pollution_score \");\n",
    "plt.legend(title = \"Smartway\")\n",
    "plt.show();"
   ]
  },
  {
   "cell_type": "markdown",
   "id": "2a39c444",
   "metadata": {},
   "source": [
    "##### Lets have a look at the 2018 data set and compare and later combine them to get a better view and come up with an accrurate range of air_pollution_score  that a vehicle must have to be considered a smartway vehicle\n"
   ]
  },
  {
   "cell_type": "code",
   "execution_count": 197,
   "id": "f8f0b0f0",
   "metadata": {},
   "outputs": [
    {
     "data": {
      "text/plain": [
       "3.9819711538461537"
      ]
     },
     "execution_count": 197,
     "metadata": {},
     "output_type": "execute_result"
    }
   ],
   "source": [
    "df_18.air_pollution_score.mean()"
   ]
  },
  {
   "cell_type": "markdown",
   "id": "40699e6d",
   "metadata": {},
   "source": [
    "##### looking through this value, we see that the average score is quite low and according to the US department of energy, the air polution score score ranges from 0 to 10 hence this mean score will not give us an accurate analysis since its low so instead let's use the 75th percentile instead"
   ]
  },
  {
   "cell_type": "code",
   "execution_count": 202,
   "id": "2457be7a",
   "metadata": {},
   "outputs": [
    {
     "data": {
      "text/plain": [
       "5.0"
      ]
     },
     "execution_count": 202,
     "metadata": {},
     "output_type": "execute_result"
    }
   ],
   "source": [
    "df_18.air_pollution_score.quantile(0.75)"
   ]
  },
  {
   "cell_type": "code",
   "execution_count": 213,
   "id": "3c8da2cc",
   "metadata": {},
   "outputs": [
    {
     "data": {
      "text/plain": [
       "No     444\n",
       "Yes     39\n",
       "Name: smartway, dtype: int64"
      ]
     },
     "execution_count": 213,
     "metadata": {},
     "output_type": "execute_result"
    }
   ],
   "source": [
    "#check for the number of smartway  counts for scenarios when air_polution_score is lesser than the mean air_pollution_score in 2018\n",
    "ap_smart_18_l = df_18.query('air_pollution_score < air_pollution_score.quantile(0.75)').smartway.value_counts()\n",
    "ap_smart_18_l"
   ]
  },
  {
   "cell_type": "code",
   "execution_count": 214,
   "id": "f42b5f9f",
   "metadata": {},
   "outputs": [
    {
     "data": {
      "text/plain": [
       "No       99\n",
       "Yes      37\n",
       "Elite    17\n",
       "Name: smartway, dtype: int64"
      ]
     },
     "execution_count": 214,
     "metadata": {},
     "output_type": "execute_result"
    }
   ],
   "source": [
    "#then we check for the number of smartway  counts for scenarios when air_polution_score is higher than the mean air_pollution_score in 2018\n",
    "ap_smart_18_g = df_18.query('air_pollution_score > air_pollution_score.quantile(0.75)').smartway.value_counts()\n",
    "ap_smart_18_g"
   ]
  },
  {
   "cell_type": "markdown",
   "id": "f79ab1d0",
   "metadata": {},
   "source": [
    "#### It seems there is and uneven distribution between positively and negatively considered smartway vehicles in the 2018 dataset let's confirm this by checking the distribution "
   ]
  },
  {
   "cell_type": "code",
   "execution_count": 226,
   "id": "99f22ddf",
   "metadata": {},
   "outputs": [
    {
     "data": {
      "text/plain": [
       "No       724\n",
       "Yes       91\n",
       "Elite     17\n",
       "Name: smartway, dtype: int64"
      ]
     },
     "execution_count": 226,
     "metadata": {},
     "output_type": "execute_result"
    }
   ],
   "source": [
    "df_18.smartway.value_counts()"
   ]
  },
  {
   "cell_type": "markdown",
   "id": "280fc350",
   "metadata": {},
   "source": [
    "##### Just as suspected, there is an uneven distribution between the three classes so it will be best to use proportions instead of counts. It seems the 2018 dataset on its own will not be able answer our question so we will stick to the result we obtained from the 2008 dataset\n",
    "\n",
    "##### Hence, the range of air_pollution_score  that a vehicle must attain to be considered a smartway vehicle is between `6.71 - 10`"
   ]
  },
  {
   "cell_type": "markdown",
   "id": "c85f349f",
   "metadata": {},
   "source": [
    "## Question 4. What  number of cylinders is most considered to make a vehicle an economical vehicle? "
   ]
  },
  {
   "cell_type": "code",
   "execution_count": 234,
   "id": "a47ac02e",
   "metadata": {},
   "outputs": [
    {
     "data": {
      "text/plain": [
       "cyl\n",
       "2     18.500000\n",
       "4     24.120141\n",
       "5     22.354167\n",
       "6     19.356098\n",
       "8     15.452261\n",
       "10    14.071429\n",
       "12    12.566667\n",
       "16    10.000000\n",
       "Name: cmb_mpg, dtype: float64"
      ]
     },
     "execution_count": 234,
     "metadata": {},
     "output_type": "execute_result"
    }
   ],
   "source": [
    "#group by the various cylinder size and check the the average combined_miles_per_gallon consuption for each cylinder count for the 2008 dataset\n",
    "cyl_08 = df_08.groupby('cyl').cmb_mpg.mean()\n",
    "cyl_08"
   ]
  },
  {
   "cell_type": "code",
   "execution_count": 241,
   "id": "3a7e193b",
   "metadata": {},
   "outputs": [
    {
     "data": {
      "image/png": "[encoded data removed]",
      "text/plain": [
       "<Figure size 576x360 with 1 Axes>"
      ]
     },
     "metadata": {
      "needs_background": "light"
     },
     "output_type": "display_data"
    }
   ],
   "source": [
    "# let's plot this to have a clearer insight\n",
    "\n",
    "plt.subplots(figsize=(8, 5))\n",
    "plt.bar(cyl_08.index, cyl_08, color ='c')\n",
    "plt.title(\"Fuel Economy/Consuption for 2008 According to Number of Cylinders\")\n",
    "plt.xlabel(\"Number of Cylinders\")\n",
    "plt.ylabel(\"Average Miles_Per_Gallon Consumption\");"
   ]
  },
  {
   "cell_type": "markdown",
   "id": "66a0e109",
   "metadata": {},
   "source": [
    "##### From the plot above, it is glaring that vehicles with 4 cylinders are considered to be the most economical vehicles.\n",
    "\n",
    "##### Let's take a look at the 2018 dataset and see if the assumption remains"
   ]
  },
  {
   "cell_type": "code",
   "execution_count": 236,
   "id": "a0cad18d",
   "metadata": {},
   "outputs": [
    {
     "data": {
      "text/plain": [
       "cyl\n",
       "3     32.000000\n",
       "4     28.739474\n",
       "5     22.000000\n",
       "6     21.207031\n",
       "8     17.327273\n",
       "12    13.444444\n",
       "16    11.000000\n",
       "Name: cmb_mpg, dtype: float64"
      ]
     },
     "execution_count": 236,
     "metadata": {},
     "output_type": "execute_result"
    }
   ],
   "source": [
    "#group by the various cylinder size and check the the average combined_miles_per_gallon consuption for each cylinder count for the 2018 dataset\n",
    "cyl_18 = df_18.groupby('cyl').cmb_mpg.mean()\n",
    "cyl_18"
   ]
  },
  {
   "cell_type": "code",
   "execution_count": 242,
   "id": "3f101175",
   "metadata": {},
   "outputs": [
    {
     "data": {
      "image/png": "[encoded data removed]",
      "text/plain": [
       "<Figure size 576x360 with 1 Axes>"
      ]
     },
     "metadata": {
      "needs_background": "light"
     },
     "output_type": "display_data"
    }
   ],
   "source": [
    "# let's plot this to have a clearer insight\n",
    "\n",
    "plt.subplots(figsize=(8, 5))\n",
    "plt.bar(cyl_18.index, cyl_18, color ='y')\n",
    "plt.title(\"Fuel Economy/Consuption for 2018 According to Number of Cylinders\")\n",
    "plt.xlabel(\"Number of Cylinders\")\n",
    "plt.ylabel(\"Average Miles_Per_Gallon Consumption\");"
   ]
  },
  {
   "cell_type": "markdown",
   "id": "6cb7ec03",
   "metadata": {},
   "source": [
    "##### From the plot above, it is glaring that vehicles with 2 cylinders are considered to be the most economical vehicles.\n",
    "\n",
    "##### From the look of things, it seems like the lower the number of cylinders, the more economical the vehicle will be.\n",
    "\n",
    "##### Let's combime both years  and see the level of consuption in a better view\n",
    "\n"
   ]
  },
  {
   "cell_type": "code",
   "execution_count": 239,
   "id": "22e44bbf",
   "metadata": {},
   "outputs": [
    {
     "data": {
      "text/plain": [
       "cyl\n",
       "2           NaN\n",
       "3           NaN\n",
       "4     26.429808\n",
       "5     22.177083\n",
       "6     20.281564\n",
       "8     16.389767\n",
       "10          NaN\n",
       "12    13.005556\n",
       "16    10.500000\n",
       "Name: cmb_mpg, dtype: float64"
      ]
     },
     "execution_count": 239,
     "metadata": {},
     "output_type": "execute_result"
    }
   ],
   "source": [
    "#lets get get averae of the result for both years\n",
    "cyl_new = (cyl_08 + cyl_18) / 2 #average of both results\n",
    "cyl_new"
   ]
  },
  {
   "cell_type": "code",
   "execution_count": 266,
   "id": "51e01c92",
   "metadata": {},
   "outputs": [
    {
     "data": {
      "image/png": "[encoded data removed]",
      "text/plain": [
       "<Figure size 576x360 with 1 Axes>"
      ]
     },
     "metadata": {
      "needs_background": "light"
     },
     "output_type": "display_data"
    }
   ],
   "source": [
    "# let's plot this to have a clearer insight\n",
    "\n",
    "cyl_new.dropna(inplace=True)\n",
    "plt.subplots(figsize=(8, 5))\n",
    "plt.bar(cyl_new.index, cyl_new, color = 'b')\n",
    "plt.title(\"Fuel Economy/Consuption Over the Years According to Number of Cylinders\")\n",
    "plt.xlabel(\"Number of Cylinders\")\n",
    "plt.ylabel(\"Average Miles_Per_Gallon Consumption\");"
   ]
  },
  {
   "cell_type": "markdown",
   "id": "c48b85fc",
   "metadata": {},
   "source": [
    "##### From the plot above, it shows that over the years, engines with `4 cylinders` have shown dominance when it comes to economizing fuel cinsuption in vehicles and that cannot be debated. \n",
    "\n",
    "##### So To answer the question, engines with `4` cylinders are your best bet when fuel economy is a priority in your specification list when considering to buy a vehicle.\n",
    "\n",
    "##### On a more general note, this data has shown us that the lesser the numer of cylinders, the more the vehicle is able to conserve fuel. Therefore speaking genrally, any engine with `4 cylinders and less` are most considered to make a vehicle an economical vehicle"
   ]
  },
  {
   "cell_type": "markdown",
   "id": "03d7d404",
   "metadata": {},
   "source": [
    "## Question 5: Are more unique models using alternative sources of fuel? By how much?\n"
   ]
  },
  {
   "cell_type": "markdown",
   "id": "affcda7f",
   "metadata": {},
   "source": [
    "##### Let's first look at what the sources of fuel are and which ones are alternative sources."
   ]
  },
  {
   "cell_type": "code",
   "execution_count": 267,
   "id": "d0767d7b",
   "metadata": {},
   "outputs": [
    {
     "data": {
      "text/plain": [
       "Gasoline    984\n",
       "CNG           1\n",
       "ethanol       1\n",
       "gas           1\n",
       "Name: fuel, dtype: int64"
      ]
     },
     "execution_count": 267,
     "metadata": {},
     "output_type": "execute_result"
    }
   ],
   "source": [
    "#checks for the unique values in the fuel column for 2008\n",
    "df_08.fuel.value_counts()"
   ]
  },
  {
   "cell_type": "code",
   "execution_count": 268,
   "id": "25cd5405",
   "metadata": {},
   "outputs": [
    {
     "data": {
      "text/plain": [
       "Gasoline       749\n",
       "Ethanol         26\n",
       "Gas             26\n",
       "Diesel          19\n",
       "Electricity     12\n",
       "Name: fuel, dtype: int64"
      ]
     },
     "execution_count": 268,
     "metadata": {},
     "output_type": "execute_result"
    }
   ],
   "source": [
    "#checks for the unique values in the fuel column for 2018\n",
    "df_18.fuel.value_counts()"
   ]
  },
  {
   "cell_type": "markdown",
   "id": "781390c9",
   "metadata": {},
   "source": [
    "##### It seems  the alternative sources of fuel available in 2008 are CNG and ethanol, and those in 2018 ethanol and electricity. "
   ]
  },
  {
   "cell_type": "code",
   "execution_count": 272,
   "id": "e836b819",
   "metadata": {},
   "outputs": [
    {
     "data": {
      "text/plain": [
       "2"
      ]
     },
     "execution_count": 272,
     "metadata": {},
     "output_type": "execute_result"
    }
   ],
   "source": [
    "# how many unique models used alternative sources of fuel in 2008\n",
    "fu_alt_08 = df_08.query('fuel in [\"CNG\", \"ethanol\"]').model.nunique()\n",
    "fu_alt_08"
   ]
  },
  {
   "cell_type": "code",
   "execution_count": 273,
   "id": "5f3e3bc1",
   "metadata": {},
   "outputs": [
    {
     "data": {
      "text/plain": [
       "26"
      ]
     },
     "execution_count": 273,
     "metadata": {},
     "output_type": "execute_result"
    }
   ],
   "source": [
    "# how many unique models used alternative sources of fuel in 2018\n",
    "fu_alt_18 = df_18.query('fuel in [\"Ethanol\", \"Electricity\"]').model.nunique()\n",
    "fu_alt_18"
   ]
  },
  {
   "cell_type": "code",
   "execution_count": 274,
   "id": "4e9d706b",
   "metadata": {},
   "outputs": [
    {
     "data": {
      "image/png": "[encoded data removed]",
      "text/plain": [
       "<Figure size 432x288 with 1 Axes>"
      ]
     },
     "metadata": {
      "needs_background": "light"
     },
     "output_type": "display_data"
    }
   ],
   "source": [
    "#let's plot this observation\n",
    "plt.bar([\"2008\", \"2018\"], [fu_alt_08, fu_alt_18], color = 'r')\n",
    "plt.title(\"Number of Unique Vehicle Models Using Alternative Fuels\")\n",
    "plt.xlabel(\"Year\")\n",
    "plt.ylabel(\"Number of Unique Models\");"
   ]
  },
  {
   "cell_type": "markdown",
   "id": "4bb3df2f",
   "metadata": {},
   "source": [
    "#### Since 2008, the number of unique models using alternative sources of fuel increased by 24."
   ]
  },
  {
   "cell_type": "markdown",
   "id": "8432a36a",
   "metadata": {},
   "source": [
    "## Question 6: How much have vehicle classes improved in fuel economy?  \n"
   ]
  },
  {
   "cell_type": "markdown",
   "id": "4dba6451",
   "metadata": {},
   "source": [
    "Let's look at the average fuel economy for each vehicle class for both years.\n"
   ]
  },
  {
   "cell_type": "code",
   "execution_count": 275,
   "id": "fbe7117c",
   "metadata": {},
   "outputs": [
    {
     "data": {
      "text/plain": [
       "veh_class\n",
       "SUV              18.471429\n",
       "large car        18.509091\n",
       "midsize car      21.601449\n",
       "minivan          19.117647\n",
       "pickup           16.277108\n",
       "small car        21.105105\n",
       "station wagon    22.366667\n",
       "van              14.952381\n",
       "Name: cmb_mpg, dtype: float64"
      ]
     },
     "execution_count": 275,
     "metadata": {},
     "output_type": "execute_result"
    }
   ],
   "source": [
    "veh_class_08 = df_08.groupby('veh_class').cmb_mpg.mean()\n",
    "veh_class_08"
   ]
  },
  {
   "cell_type": "code",
   "execution_count": 276,
   "id": "93ff9b18",
   "metadata": {},
   "outputs": [
    {
     "data": {
      "text/plain": [
       "veh_class\n",
       "large car          23.409091\n",
       "midsize car        27.884058\n",
       "minivan            20.800000\n",
       "pickup             18.589744\n",
       "small SUV          24.074074\n",
       "small car          25.421053\n",
       "special purpose    18.500000\n",
       "standard SUV       18.197674\n",
       "station wagon      27.529412\n",
       "Name: cmb_mpg, dtype: float64"
      ]
     },
     "execution_count": 276,
     "metadata": {},
     "output_type": "execute_result"
    }
   ],
   "source": [
    "veh_class_18 = df_18.groupby('veh_class').cmb_mpg.mean()\n",
    "veh_class_18"
   ]
  },
  {
   "cell_type": "code",
   "execution_count": 277,
   "id": "756d0f2a",
   "metadata": {},
   "outputs": [
    {
     "data": {
      "text/plain": [
       "veh_class\n",
       "SUV                     NaN\n",
       "large car          4.900000\n",
       "midsize car        6.282609\n",
       "minivan            1.682353\n",
       "pickup             2.312635\n",
       "small SUV               NaN\n",
       "small car          4.315948\n",
       "special purpose         NaN\n",
       "standard SUV            NaN\n",
       "station wagon      5.162745\n",
       "van                     NaN\n",
       "Name: cmb_mpg, dtype: float64"
      ]
     },
     "execution_count": 277,
     "metadata": {},
     "output_type": "execute_result"
    }
   ],
   "source": [
    "# how much they've increased by for each vehicle class\n",
    "increase = veh_class_18 - veh_class_08\n",
    "increase"
   ]
  },
  {
   "cell_type": "code",
   "execution_count": 278,
   "id": "04fae8b6",
   "metadata": {},
   "outputs": [
    {
     "data": {
      "image/png": "[encoded data removed]",
      "text/plain": [
       "<Figure size 576x360 with 1 Axes>"
      ]
     },
     "metadata": {
      "needs_background": "light"
     },
     "output_type": "display_data"
    }
   ],
   "source": [
    "# let's plot the classes that exist in both years\n",
    "increase.dropna(inplace=True)\n",
    "plt.subplots(figsize=(8, 5))\n",
    "plt.bar(increase.index, increase)\n",
    "plt.title('Improvements in Fuel Economy from 2008 to 2018 by Vehicle Class')\n",
    "plt.xlabel('Vehicle Class')\n",
    "plt.ylabel('Increase in Average Combined MPG');"
   ]
  },
  {
   "cell_type": "markdown",
   "id": "4f43c2fd",
   "metadata": {},
   "source": [
    "#### We can see here that the Vehicle class that has improved the most in fuel economy is the Midsize car and if you recall from `question 2` that Midsize cars came up as the second most economical car taking an average of the fuel comsumption of all the vehicle classes over the years.\n",
    "\n",
    "#### They have  maintained that reputaion over the years and with the way in which they are going, they do not look like they are stopping anytime soon. They are definitely a great choice for an economical vehicle."
   ]
  },
  {
   "cell_type": "markdown",
   "id": "ff9f7e1e",
   "metadata": {},
   "source": [
    "#### On a final note, let's take a look at all the insights collected from these data sets which we worked on\n",
    "\n",
    "#### We discovered that;\n",
    "\n",
    "##### 1. the most economical vehicle class over the years has proven to be the `Station Wagon`. \n",
    "\n",
    "##### 2. The vehicle class that is considered to be the most smartway vehicle is the `Small Car`. Hence, if you are considering to buy a vehcle that is considered a smartway vehicle, go for a vehicle in the `Small Car` Class. In addition to this, we discovered that the `Midsize class` vehicles too have a great reputation of fuel economy and they have maintained that reputation over the years and as such, they are also a great class of vehicle to consider  as far as fuel economy is concerned.\n",
    "\n",
    "##### 3. The range of air_pollution_score  that a vehicle must attain to be considered a smartway vehicle is between `6.71 - 10`\n",
    "\n",
    "##### 4. Engines with `4 cylinders` have shown dominance when it comes to economizing fuel cinsuption in vehicles. Generally,  any vehicle engine  with `4 cylinders and less` are most considered to make a vehicle an economical vehicle\n",
    "\n",
    "##### 5. Since 2008, the number of unique models using alternative sources of fuel increased by 24.\n"
   ]
  },
  {
   "cell_type": "code",
   "execution_count": null,
   "id": "fa679525",
   "metadata": {},
   "outputs": [],
   "source": []
  }
 ],
 "metadata": {
  "kernelspec": {
   "display_name": "Python 3 (ipykernel)",
   "language": "python",
   "name": "python3"
  },
  "language_info": {
   "codemirror_mode": {
    "name": "ipython",
    "version": 3
   },
   "file_extension": ".py",
   "mimetype": "text/x-python",
   "name": "python",
   "nbconvert_exporter": "python",
   "pygments_lexer": "ipython3",
   "version": "3.9.7"
  }
 },
 "nbformat": 4,
 "nbformat_minor": 5
}
